{
 "cells": [
  {
   "cell_type": "markdown",
   "id": "bcba3a0c-d5e3-44c6-a7ff-a2427cd45f4e",
   "metadata": {},
   "source": [
    "## NodeJS\n",
    "***"
   ]
  },
  {
   "cell_type": "markdown",
   "id": "9493eac7-1693-47d5-aa06-cfb74cece9a6",
   "metadata": {},
   "source": [
    "É um javascrip runtime, ou seja, ele atua como o web API de forma async, porém fora do browser usando o C++. Funciona de forma muito simular ao runtime do browser, porém faz muita mais coisas do que o browser como acessar seus arquivos e etc. Ou seja, ele é a soma do browser runtime com a engine do javascript V8, porém sem acesso as funcionalidades do browser como o `window` ao inves dele tem o `global`.\n",
    "\n",
    "![nodejs](https://user-images.githubusercontent.com/14116020/183785596-113beeff-3420-4e02-8a69-8b910b84e0d4.png)"
   ]
  }
 ],
 "metadata": {
  "kernelspec": {
   "display_name": "JavaScript (Node.js)",
   "language": "javascript",
   "name": "javascript"
  },
  "language_info": {
   "file_extension": ".js",
   "mimetype": "application/javascript",
   "name": "javascript",
   "version": "18.15.0"
  }
 },
 "nbformat": 4,
 "nbformat_minor": 5
}
