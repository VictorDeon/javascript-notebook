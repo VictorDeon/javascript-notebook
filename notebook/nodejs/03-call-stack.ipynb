{
 "cells": [
  {
   "cell_type": "markdown",
   "id": "08deea74-5378-474d-b192-77663c80c583",
   "metadata": {},
   "source": [
    "## Call Stack\n",
    "***"
   ]
  },
  {
   "cell_type": "markdown",
   "id": "fdf7a1c7-faaa-4fb5-8388-a3215033b395",
   "metadata": {},
   "source": [
    "Call Stack é uma região da memória na qual armazena as informações no formato de pilha e vai executando ela em ordem e removendo da pilha. Primeiro a entrar é o último a sair.\n",
    "\n",
    "Exemplo: file.js (anonymous) -> calculate -> subtractTwo -> calculate -> anonymous"
   ]
  },
  {
   "cell_type": "code",
   "execution_count": 1,
   "id": "de5f2c50-b870-4f94-8b29-d207ed1069aa",
   "metadata": {
    "tags": []
   },
   "outputs": [
    {
     "data": {
      "text/plain": [
       "7"
      ]
     },
     "execution_count": 1,
     "metadata": {},
     "output_type": "execute_result"
    }
   ],
   "source": [
    "function subtractTwo(num) {\n",
    "    return num - 2;\n",
    "}\n",
    "\n",
    "function calculate() {\n",
    "    const numTotal = 4 + 5;\n",
    "    return subtractTwo(numTotal);\n",
    "}\n",
    "\n",
    "calculate();"
   ]
  }
 ],
 "metadata": {
  "kernelspec": {
   "display_name": "JavaScript (Node.js)",
   "language": "javascript",
   "name": "javascript"
  },
  "language_info": {
   "file_extension": ".js",
   "mimetype": "application/javascript",
   "name": "javascript",
   "version": "18.15.0"
  }
 },
 "nbformat": 4,
 "nbformat_minor": 5
}
