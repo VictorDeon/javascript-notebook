{
 "cells": [
  {
   "cell_type": "markdown",
   "id": "e47b5aeb-2c2d-49c7-8f9b-faefac907aad",
   "metadata": {},
   "source": [
    "## Stack Overflow\n",
    "***"
   ]
  },
  {
   "cell_type": "markdown",
   "id": "64953fd1-3168-4fb9-9c50-42a8975e7c0a",
   "metadata": {},
   "source": [
    "O que acontece se tivermos uma stack infinita, ou seja, uma função que chama ela mesma recursivamente."
   ]
  },
  {
   "cell_type": "code",
   "execution_count": 1,
   "id": "4fe39f23-96fe-4380-ba12-958274e90b40",
   "metadata": {
    "tags": []
   },
   "outputs": [
    {
     "ename": "RangeError",
     "evalue": "Maximum call stack size exceeded",
     "execution_count": 1,
     "output_type": "error",
     "traceback": [
      "evalmachine.<anonymous>:3",
      "    inception();",
      "    ^",
      "",
      "RangeError: Maximum call stack size exceeded",
      "    at inception (evalmachine.<anonymous>:3:5)",
      "    at inception (evalmachine.<anonymous>:3:5)",
      "    at inception (evalmachine.<anonymous>:3:5)",
      "    at inception (evalmachine.<anonymous>:3:5)",
      "    at inception (evalmachine.<anonymous>:3:5)",
      "    at inception (evalmachine.<anonymous>:3:5)",
      "    at inception (evalmachine.<anonymous>:3:5)",
      "    at inception (evalmachine.<anonymous>:3:5)",
      "    at inception (evalmachine.<anonymous>:3:5)",
      "    at inception (evalmachine.<anonymous>:3:5)"
     ]
    }
   ],
   "source": [
    "// Uncaught RangeError: Maximum call stack size exceeded\n",
    "function inception() {\n",
    "    inception();\n",
    "}\n",
    "\n",
    "inception();"
   ]
  }
 ],
 "metadata": {
  "kernelspec": {
   "display_name": "JavaScript (Node.js)",
   "language": "javascript",
   "name": "javascript"
  },
  "language_info": {
   "file_extension": ".js",
   "mimetype": "application/javascript",
   "name": "javascript",
   "version": "18.15.0"
  }
 },
 "nbformat": 4,
 "nbformat_minor": 5
}
