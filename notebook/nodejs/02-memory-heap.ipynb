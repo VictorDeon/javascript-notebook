{
 "cells": [
  {
   "cell_type": "markdown",
   "id": "1f42ba61-d970-4db2-b568-5587a19209ad",
   "metadata": {},
   "source": [
    "## Memory Heap\n",
    "***"
   ]
  },
  {
   "cell_type": "markdown",
   "id": "55b5af9c-6bdf-4264-ba79-9024736ee849",
   "metadata": {},
   "source": [
    "Engine aponte essa variável number para uma regiao da memória (memory heap) para armazenar esse número"
   ]
  },
  {
   "cell_type": "code",
   "execution_count": 1,
   "id": "76bc37ba-9178-48e1-8186-ffd06df44419",
   "metadata": {
    "tags": []
   },
   "outputs": [],
   "source": [
    "const number = 610;"
   ]
  },
  {
   "cell_type": "markdown",
   "id": "d219cbfd-a9e8-4f1a-8222-47729dc6664e",
   "metadata": {},
   "source": [
    "Memory heap é apenas um local na memória para nós armazenar nossas informações."
   ]
  }
 ],
 "metadata": {
  "kernelspec": {
   "display_name": "JavaScript (Node.js)",
   "language": "javascript",
   "name": "javascript"
  },
  "language_info": {
   "file_extension": ".js",
   "mimetype": "application/javascript",
   "name": "javascript",
   "version": "18.15.0"
  }
 },
 "nbformat": 4,
 "nbformat_minor": 5
}
