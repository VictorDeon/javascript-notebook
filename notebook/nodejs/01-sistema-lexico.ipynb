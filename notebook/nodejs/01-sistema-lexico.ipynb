{
 "cells": [
  {
   "cell_type": "markdown",
   "id": "1d397f87-7f88-45a8-a098-9ef4ed231ffc",
   "metadata": {},
   "source": [
    "## Sistema Léxico\n",
    "***"
   ]
  },
  {
   "cell_type": "markdown",
   "id": "1ba0bcc8-f215-438d-9753-a60b62d188ff",
   "metadata": {},
   "source": [
    "**Instrução**: É tudo que é passado para o interpretador do javascript linha a linha"
   ]
  },
  {
   "cell_type": "code",
   "execution_count": 1,
   "id": "4a15b25d-9d9b-4efa-be33-8881b0af7a0d",
   "metadata": {
    "tags": []
   },
   "outputs": [
    {
     "data": {
      "text/plain": [
       "12"
      ]
     },
     "execution_count": 1,
     "metadata": {},
     "output_type": "execute_result"
    }
   ],
   "source": [
    "let nome = \"Victor\";  // Instrução 01\n",
    "10 + 2  // Instrução 02"
   ]
  },
  {
   "cell_type": "markdown",
   "id": "2f2070b3-56e2-425e-a342-d051b6385145",
   "metadata": {},
   "source": [
    "**Comentário**: É uma forma de colocar texto no código que o interpretador não irá enxergar"
   ]
  },
  {
   "cell_type": "code",
   "execution_count": 2,
   "id": "d0479bb2-65cf-4653-96ac-f90e631031b3",
   "metadata": {
    "tags": []
   },
   "outputs": [],
   "source": [
    "// Comentario de uma única linha\n",
    "/* \n",
    " Comentario\n",
    " de multiplas\n",
    " linhas\n",
    "*/"
   ]
  },
  {
   "cell_type": "markdown",
   "id": "b34c5734-78e7-4bb1-8fdf-53296dd1bc6e",
   "metadata": {},
   "source": [
    "**CaseSensitive**: O JS diferencia letras maiusculas de letras minusculas."
   ]
  },
  {
   "cell_type": "code",
   "execution_count": 3,
   "id": "3975cf72-d7a6-41c1-bfb5-6cee75cf3ac8",
   "metadata": {
    "tags": []
   },
   "outputs": [],
   "source": [
    "// Tudo variáveis diferentes\n",
    "let firstName = \"Nome01\";\n",
    "let firstname = \"Nome02\";\n",
    "let Firstname = \"Nome03\";\n",
    "let FirstName = \"Nome04\";"
   ]
  },
  {
   "cell_type": "markdown",
   "id": "61f0695b-0e25-499b-9645-3dab8259066d",
   "metadata": {},
   "source": [
    "**Palavras Reservadas**: São palavras que são próprias do JS, não se pode criar nada com elas\n",
    "\n",
    "![palavras01](https://user-images.githubusercontent.com/14116020/185243807-f96dceaa-75d5-4194-9c0e-ad303c361298.png)\n",
    "\n",
    "![palavras02](https://user-images.githubusercontent.com/14116020/185244144-0dd29127-54da-4e01-8f8e-91a4ee94e8b9.png)"
   ]
  },
  {
   "cell_type": "markdown",
   "id": "22554126-f505-4ff3-9f81-fbe9977d7dfb",
   "metadata": {},
   "source": [
    "**Ponto e Virgula**: É opcional, mas é uma boa prática, já que delimita o fim da instrução."
   ]
  },
  {
   "cell_type": "markdown",
   "id": "39916de2-e750-4082-b977-6d905c128343",
   "metadata": {},
   "source": [
    "**Nomeação de variáveis e funções**: Em js o padrão é utiliza camelCase. Não pode iniciar esses nomes com:\n",
    "\n",
    "* Números\n",
    "* Caracteres especiais com exceção de `_` e `$`"
   ]
  },
  {
   "cell_type": "markdown",
   "id": "f9abfdb6-fe12-4089-b13d-998dc863e8df",
   "metadata": {},
   "source": [
    "**Use Strict**: Existem algumas palavras reservadas que só são liberadas no strict mode, e esse deixa o código um pouco mais seguro, desabilitando algumas coisas que eram bem ruins no javascript. Como se fosse um lint do código. Pode ser usado dentro de funções tb."
   ]
  },
  {
   "cell_type": "code",
   "execution_count": 4,
   "id": "d4b32304-5768-4377-948e-18c769aa244f",
   "metadata": {
    "tags": []
   },
   "outputs": [
    {
     "data": {
      "text/plain": [
       "0"
      ]
     },
     "execution_count": 4,
     "metadata": {},
     "output_type": "execute_result"
    }
   ],
   "source": [
    "// Sem o use strict\n",
    "x = 10;\n",
    "function multiplicar(n1, n1) {\n",
    "    return n1 * n1;\n",
    "}\n",
    "function teste() {\n",
    "    console.log(this);\n",
    "    this.a = \"a\"; // window escopo global\n",
    "}\n",
    "let msg = \"\";\n",
    "msg.count = 0;"
   ]
  },
  {
   "cell_type": "code",
   "execution_count": 5,
   "id": "2a7ad470-a171-4f51-b8b5-fb21852218dc",
   "metadata": {
    "tags": []
   },
   "outputs": [
    {
     "ename": "SyntaxError",
     "evalue": "Duplicate parameter name not allowed in this context",
     "execution_count": 5,
     "output_type": "error",
     "traceback": [
      "evalmachine.<anonymous>:4",
      "function multiplicar(n1, n1) {",
      "                         ^^",
      "",
      "SyntaxError: Duplicate parameter name not allowed in this context",
      "    at new Script (node:vm:100:7)",
      "    at createScript (node:vm:259:10)",
      "    at Object.runInThisContext (node:vm:307:10)",
      "    at run ([eval]:1020:15)",
      "    at onRunRequest ([eval]:864:18)",
      "    at onMessage ([eval]:828:13)",
      "    at process.emit (node:events:513:28)",
      "    at emit (node:internal/child_process:937:14)",
      "    at process.processTicksAndRejections (node:internal/process/task_queues:83:21)"
     ]
    }
   ],
   "source": [
    "// Com o use strick\n",
    "\"use strict\"\n",
    "x = 10;\n",
    "function multiplicar(n1, n1) {\n",
    "    return n1 * n1;\n",
    "}\n",
    "function teste() {\n",
    "    console.log(this);\n",
    "    this.a = \"a\"; // window escopo global\n",
    "}\n",
    "let msg = \"\";\n",
    "msg.count = 0;"
   ]
  },
  {
   "cell_type": "markdown",
   "id": "f17b5b2c-e632-4883-915c-a877b7abbcd4",
   "metadata": {},
   "source": [
    "**Tipagem Dinâmica**: É a capacidade do js de armazenar valores de diversos tipos em uma variável. Não preciso tipar uma variável. Com typescript isso não é mais possível"
   ]
  },
  {
   "cell_type": "code",
   "execution_count": 6,
   "id": "e262ba67-701c-465c-a03e-49a97701a498",
   "metadata": {
    "tags": []
   },
   "outputs": [
    {
     "data": {
      "text/plain": [
       "'Ola mundo!'"
      ]
     },
     "execution_count": 6,
     "metadata": {},
     "output_type": "execute_result"
    }
   ],
   "source": [
    "let x = 10;\n",
    "x = \"Ola mundo!\""
   ]
  },
  {
   "cell_type": "markdown",
   "id": "23986e73-1584-4ea9-899a-da1165516c6c",
   "metadata": {},
   "source": [
    "**Aspas simples e duplas**: Podemos utilizar aspas duplas ou simples para criar uma string."
   ]
  },
  {
   "cell_type": "code",
   "execution_count": 7,
   "id": "0845d1ae-1792-4540-8108-af1b51830e31",
   "metadata": {
    "tags": []
   },
   "outputs": [],
   "source": [
    "let x1 = \"Ola 'mundo!'\";\n",
    "let y1 = 'Ola \"mundo!\"';"
   ]
  },
  {
   "cell_type": "markdown",
   "id": "335b9a98-9bbc-4866-a1f4-fd2f2c611a90",
   "metadata": {},
   "source": [
    "**Not a Number (NaN)**: Quando vc faz alguma operação que não retorna um número."
   ]
  },
  {
   "cell_type": "code",
   "execution_count": 8,
   "id": "fb308ddf-6e6a-4f24-83a4-8cc95e21fce9",
   "metadata": {
    "tags": []
   },
   "outputs": [
    {
     "name": "stdout",
     "output_type": "stream",
     "text": [
      "NaN\n"
     ]
    }
   ],
   "source": [
    "console.log(\"ola\" * 10);"
   ]
  },
  {
   "cell_type": "markdown",
   "id": "2c3e38b0-9a13-4871-91ee-a8d2822dac0b",
   "metadata": {},
   "source": [
    "**This dinâmico**: O this pode mudar o que ele armazena dentro dele dependendo do ambiente na qual executa."
   ]
  },
  {
   "cell_type": "code",
   "execution_count": 9,
   "id": "58b8984e-9cd4-4cb9-ad50-45f97e217972",
   "metadata": {
    "tags": []
   },
   "outputs": [
    {
     "name": "stdout",
     "output_type": "stream",
     "text": [
      "{ n: 0, teste01: [Function: teste01], teste02: [Function: teste02] }\n",
      "<ref *1> Object [global] {\n",
      "  global: [Circular *1],\n",
      "  queueMicrotask: [Function: queueMicrotask],\n",
      "  clearImmediate: [Function: clearImmediate],\n",
      "  setImmediate: [Function: setImmediate] {\n",
      "    [Symbol(nodejs.util.promisify.custom)]: [Getter]\n",
      "  },\n",
      "  structuredClone: [Function: structuredClone],\n",
      "  clearInterval: [Function: clearInterval],\n",
      "  clearTimeout: [Function: clearTimeout],\n",
      "  setInterval: [Function: setInterval],\n",
      "  setTimeout: [Function: setTimeout] {\n",
      "    [Symbol(nodejs.util.promisify.custom)]: [Getter]\n",
      "  },\n",
      "  atob: [Function: atob],\n",
      "  btoa: [Function: btoa],\n",
      "  performance: Performance {\n",
      "    nodeTiming: PerformanceNodeTiming {\n",
      "      name: 'node',\n",
      "      entryType: 'node',\n",
      "      startTime: 0,\n",
      "      duration: 31471.253940999974,\n",
      "      nodeStart: 2.569199999794364,\n",
      "      v8Start: 5.949000000022352,\n",
      "      bootstrapComplete: 29.455000000074506,\n",
      "      environment: 14.003500000108033,\n",
      "      loopStart: 33.17840000009164,\n",
      "      loopExit: -1,\n",
      "      idleTime: 31410.358741\n",
      "    },\n",
      "    timeOrigin: 1681682609276.529\n",
      "  },\n",
      "  fetch: [AsyncFunction: fetch],\n",
      "  __filename: '[eval]',\n",
      "  module: <ref *2> [Function: Module] {\n",
      "    builtinModules: [\n",
      "      '_http_agent',         '_http_client',        '_http_common',\n",
      "      '_http_incoming',      '_http_outgoing',      '_http_server',\n",
      "      '_stream_duplex',      '_stream_passthrough', '_stream_readable',\n",
      "      '_stream_transform',   '_stream_wrap',        '_stream_writable',\n",
      "      '_tls_common',         '_tls_wrap',           'assert',\n",
      "      'assert/strict',       'async_hooks',         'buffer',\n",
      "      'child_process',       'cluster',             'console',\n",
      "      'constants',           'crypto',              'dgram',\n",
      "      'diagnostics_channel', 'dns',                 'dns/promises',\n",
      "      'domain',              'events',              'fs',\n",
      "      'fs/promises',         'http',                'http2',\n",
      "      'https',               'inspector',           'module',\n",
      "      'net',                 'os',                  'path',\n",
      "      'path/posix',          'path/win32',          'perf_hooks',\n",
      "      'process',             'punycode',            'querystring',\n",
      "      'readline',            'readline/promises',   'repl',\n",
      "      'stream',              'stream/consumers',    'stream/promises',\n",
      "      'stream/web',          'string_decoder',      'sys',\n",
      "      'timers',              'timers/promises',     'tls',\n",
      "      'trace_events',        'tty',                 'url',\n",
      "      'util',                'util/types',          'v8',\n",
      "      'vm',                  'worker_threads',      'zlib'\n",
      "    ],\n",
      "    _cache: [Object: null prototype] {},\n",
      "    _pathCache: [Object: null prototype] {},\n",
      "    _extensions: [Object: null prototype] {\n",
      "      '.js': [Function (anonymous)],\n",
      "      '.json': [Function (anonymous)],\n",
      "      '.node': [Function (anonymous)]\n",
      "    },\n",
      "    globalPaths: [\n",
      "      '/home/victorhad/.node_modules',\n",
      "      '/home/victorhad/.node_libraries',\n",
      "      '/home/victorhad/.nvm/versions/node/v18.15.0/lib/node'\n",
      "    ],\n",
      "    _debug: [Function: deprecated],\n",
      "    _findPath: [Function (anonymous)],\n",
      "    _nodeModulePaths: [Function (anonymous)],\n",
      "    _resolveLookupPaths: [Function (anonymous)],\n",
      "    _load: [Function (anonymous)],\n",
      "    _resolveFilename: [Function (anonymous)],\n",
      "    createRequire: [Function: createRequire],\n",
      "    _initPaths: [Function (anonymous)],\n",
      "    _preloadModules: [Function (anonymous)],\n",
      "    syncBuiltinESMExports: [Function: syncBuiltinESMExports],\n",
      "    isBuiltin: [Function: isBuiltin],\n",
      "    Module: [Circular *2],\n",
      "    runMain: [Function: executeUserEntryPoint],\n",
      "    findSourceMap: [Function: findSourceMap],\n",
      "    SourceMap: [class SourceMap]\n",
      "  },\n",
      "  exports: {},\n",
      "  __dirname: '.',\n",
      "  require: [Function: require] {\n",
      "    resolve: [Function: resolve] { paths: [Function: paths] },\n",
      "    main: undefined,\n",
      "    extensions: [Object: null prototype] {\n",
      "      '.js': [Function (anonymous)],\n",
      "      '.json': [Function (anonymous)],\n",
      "      '.node': [Function (anonymous)]\n",
      "    },\n",
      "    cache: [Object: null prototype] {}\n",
      "  },\n",
      "  '$$mimer$$': [Function: defaultMimer],\n",
      "  '$$done$$': [Function: bound bound done],\n",
      "  multiplicar: [Function: multiplicar],\n",
      "  teste: [Function: teste],\n",
      "  x: 10,\n",
      "  console: Console [console] {\n",
      "    log: [Function: log],\n",
      "    warn: [Function: warn],\n",
      "    dir: [Function: dir],\n",
      "    time: [Function: time],\n",
      "    timeEnd: [Function: timeEnd],\n",
      "    timeLog: [Function: timeLog],\n",
      "    trace: [Function: trace],\n",
      "    assert: [Function: assert],\n",
      "    clear: [Function: clear],\n",
      "    count: [Function: count],\n",
      "    countReset: [Function: countReset],\n",
      "    group: [Function: group],\n",
      "    groupEnd: [Function: groupEnd],\n",
      "    table: [Function: table],\n",
      "    debug: [Function: debug],\n",
      "    info: [Function: info],\n",
      "    dirxml: [Function: dirxml],\n",
      "    error: [Function: error],\n",
      "    groupCollapsed: [Function: groupCollapsed],\n",
      "    Console: [Function: Console]\n",
      "  },\n",
      "  '$$': [Object: null prototype] {\n",
      "    async: [Function: bound async],\n",
      "    done: [Function: bound done],\n",
      "    sendResult: [Function: bound ],\n",
      "    sendError: [Function: bound ],\n",
      "    mime: [Function: bound ],\n",
      "    text: [Function: bound ],\n",
      "    html: [Function: bound ],\n",
      "    svg: [Function: bound ],\n",
      "    png: [Function: bound ],\n",
      "    jpeg: [Function: bound ],\n",
      "    json: [Function: bound ],\n",
      "    input: [Function: bound input],\n",
      "    display: [Function: bound createDisplay],\n",
      "    clear: [Function: bound clear]\n",
      "  },\n",
      "  teste01: [Function: teste01]\n",
      "}\n"
     ]
    }
   ],
   "source": [
    "function teste01() {\n",
    "    console.log(this); // window no browser (é quem chamou essa função.)\n",
    "}\n",
    "const obj = {\n",
    "    n: 0,\n",
    "    teste01: teste01,\n",
    "    teste02: () => console.log(this)\n",
    "}\n",
    "obj.teste01() // {n: 0, teste: teste01}\n",
    "obj.teste02() // window no browser, global nodejs"
   ]
  },
  {
   "cell_type": "markdown",
   "id": "d63653df-14f7-4896-9e52-e909a8da2335",
   "metadata": {},
   "source": [
    "**Conversão Implícita**: O javascript realiza essa conversão implicita quando descobre que sua string é um numero"
   ]
  },
  {
   "cell_type": "code",
   "execution_count": 10,
   "id": "02a2893b-267a-4721-ae57-1310f55feabd",
   "metadata": {
    "tags": []
   },
   "outputs": [
    {
     "name": "stdout",
     "output_type": "stream",
     "text": [
      "20\n"
     ]
    }
   ],
   "source": [
    "console.log(\"2\" * 10);"
   ]
  }
 ],
 "metadata": {
  "kernelspec": {
   "display_name": "JavaScript (Node.js)",
   "language": "javascript",
   "name": "javascript"
  },
  "language_info": {
   "file_extension": ".js",
   "mimetype": "application/javascript",
   "name": "javascript",
   "version": "18.15.0"
  }
 },
 "nbformat": 4,
 "nbformat_minor": 5
}
