{
 "cells": [
  {
   "cell_type": "markdown",
   "id": "66f7b8af-4bc9-4d88-802b-971312d447d4",
   "metadata": {},
   "source": [
    "## Garbage Collection\n",
    "***"
   ]
  },
  {
   "cell_type": "markdown",
   "id": "99e66af1-9017-4a61-85ac-f2f3443adc3f",
   "metadata": {},
   "source": [
    "Assim que você armazena algo no memory heap, por exemplo, uma função e você saiu dela e não precisa mais das informações alocadas, o garbage collection trata de remover esse lixo. Isso previne o que chamamos de **memory leaks**."
   ]
  },
  {
   "cell_type": "markdown",
   "id": "bbfb6ebe-54f4-4052-9276-4e0ef2becf13",
   "metadata": {},
   "source": [
    "Apesar dele funcionar de forma automatica, não tenha a falsa ilusão de que você não precise gerenciar o uso da sua memória. O garbage collector usar uma algoritmo chamado **mark and sweep**."
   ]
  },
  {
   "cell_type": "code",
   "execution_count": 1,
   "id": "4153de06-9350-490b-bf4c-545ee62653c8",
   "metadata": {
    "tags": []
   },
   "outputs": [],
   "source": [
    "var human = {\n",
    "    firstName: 'Victor',\n",
    "    lastName: 'Deon'\n",
    "}\n",
    "\n",
    "var human = 10;\n",
    "// os valores do objeto human ainda está na memória e virou lixo e será removido pelo garbage collection"
   ]
  },
  {
   "cell_type": "markdown",
   "id": "734d4082-eb63-41fa-aef1-62e29f8d8b6e",
   "metadata": {},
   "source": [
    "Qualquer variável que tiver dentro de uma função vira lixo quando a função termina de executar."
   ]
  }
 ],
 "metadata": {
  "kernelspec": {
   "display_name": "JavaScript (Node.js)",
   "language": "javascript",
   "name": "javascript"
  },
  "language_info": {
   "file_extension": ".js",
   "mimetype": "application/javascript",
   "name": "javascript",
   "version": "18.15.0"
  }
 },
 "nbformat": 4,
 "nbformat_minor": 5
}
