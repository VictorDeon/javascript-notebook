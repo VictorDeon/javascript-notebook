{
 "cells": [
  {
   "cell_type": "markdown",
   "id": "8da4036e-03b6-4049-8ed5-decdaac5cdb9",
   "metadata": {},
   "source": [
    "## Single Thread\n",
    "***"
   ]
  },
  {
   "cell_type": "markdown",
   "id": "c373fa79-9ff6-44e1-b256-5c0af2aa24c9",
   "metadata": {},
   "source": [
    "Javascript é single thread, ou seja, somente um conjunto de código é executado por vez. Com isso tem apenas um Call Stack. Por causa disso, javascript é sincrono, o que torna custoso rodar tarefas muito lentas ou grandes.\n",
    "\n",
    "Porém não é utilizado apenas o javascript, temos o javascript runtime que torna-o assincrono. Ou seja, o browser roda em background, enquanto que o código js está rodando e ele usa o Web API que vem com o browser por debaixo dos panos. O Browser tem sua própria implementação do engine que tem várias funções como requisições http, manipulação de DOM, cache, database e etc.\n",
    "\n",
    "Você consegue ver as funções do Web API executando o comando no console do browser window. O browser utiliza o C++ para realizar algumas operações, e essas Web APIs são assincronas, ou seja, elas são executadas em background e retornadas apenas quando tiver prontas e a call stack vazia, ele te da apenas um callback para você ficar observando se já está pronta, se estiver pronta e sua call stack estiver vazia o js pode executa-la. Não paralisando a execução das funções javascript."
   ]
  },
  {
   "cell_type": "code",
   "execution_count": 1,
   "id": "0eba1eae-6211-41c2-9563-e35b666c0f40",
   "metadata": {
    "tags": []
   },
   "outputs": [
    {
     "name": "stdout",
     "output_type": "stream",
     "text": [
      "1\n",
      "3\n",
      "2\n"
     ]
    }
   ],
   "source": [
    "console.log(\"1\"); // Call Stack executa\n",
    "setTimeout(() => console.log(\"2\"), 1000);  // Enviado para a web api tratar\n",
    "console.log(\"3\"); // Call Stack executa\n",
    "// 1\n",
    "// 3\n",
    "// 2 (web api - retorna para o call stack executar)"
   ]
  },
  {
   "cell_type": "markdown",
   "id": "0c52b327-244e-486e-b5c1-fa2f36f612ae",
   "metadata": {},
   "source": [
    "***\n",
    "### Cocurrency, Sequential and Race\n",
    "***"
   ]
  },
  {
   "cell_type": "code",
   "execution_count": 1,
   "id": "4e495697-1508-425b-b01e-010327886404",
   "metadata": {
    "tags": []
   },
   "outputs": [],
   "source": [
    "const promisify = (item, delay) => new Promise(resolve => setTimeout(() => resolve(item), delay));"
   ]
  },
  {
   "cell_type": "code",
   "execution_count": 2,
   "id": "e690c124-2e7d-44d5-b2f2-f9a7b2f66879",
   "metadata": {
    "tags": []
   },
   "outputs": [],
   "source": [
    "const a = () => promisify('a', 100);\n",
    "const b = () => promisify('b', 5000);\n",
    "const c = () => promisify('c', 3000);"
   ]
  },
  {
   "cell_type": "markdown",
   "id": "666ee7a4-ab75-4843-9ba3-99511f43a2f8",
   "metadata": {},
   "source": [
    "#### Executa um de cada vez"
   ]
  },
  {
   "cell_type": "code",
   "execution_count": 3,
   "id": "163f12c4-7713-44fe-86ff-d43d67b00689",
   "metadata": {
    "tags": []
   },
   "outputs": [],
   "source": [
    "async function sequence() {\n",
    "    const output1 = await a();\n",
    "    const output2 = await b();\n",
    "    const output3 = await c();\n",
    "    return `Sequence is done: ${output1} ${output2} ${output3}`;\n",
    "}"
   ]
  },
  {
   "cell_type": "markdown",
   "id": "bd696d40-0cf7-4100-8979-19dd759e456b",
   "metadata": {},
   "source": [
    "#### Executar tudo ao mesmo tempo de forma concorrente (single-core CPU)."
   ]
  },
  {
   "cell_type": "code",
   "execution_count": 4,
   "id": "793cfcb0-17c0-442e-837f-71bf9d32674f",
   "metadata": {
    "tags": []
   },
   "outputs": [],
   "source": [
    "async function concurrency() {\n",
    "    const promises = [a(), b(), c()];\n",
    "    const [ output1, output2, output3 ] = await Promise.allSettled(promises);\n",
    "    return `Parallel is done: ${output1.value} ${output2.value} ${output3.value}`;\n",
    "}"
   ]
  },
  {
   "cell_type": "markdown",
   "id": "e2f15a6c-36c5-47d8-8041-9744ea553765",
   "metadata": {},
   "source": [
    "#### Terminar assim que o primeiro acabar."
   ]
  },
  {
   "cell_type": "code",
   "execution_count": 5,
   "id": "a2565632-2e0c-4ffc-9acf-c468eef24271",
   "metadata": {
    "tags": []
   },
   "outputs": [],
   "source": [
    "async function race() {\n",
    "    const promises = [a(), b(), c()];\n",
    "    const output1 = await Promise.race(promises);\n",
    "    return `Race is done: ${output1}`;\n",
    "}"
   ]
  },
  {
   "cell_type": "markdown",
   "id": "b8cf91da-6172-40a6-8961-c89e34dc0d89",
   "metadata": {},
   "source": [
    "#### Testando os 3 casos"
   ]
  },
  {
   "cell_type": "code",
   "execution_count": 6,
   "id": "32f43628-48d2-4c79-8f33-84073aae776e",
   "metadata": {
    "tags": []
   },
   "outputs": [
    {
     "data": {
      "text/plain": [
       "Promise { <pending> }"
      ]
     },
     "execution_count": 6,
     "metadata": {},
     "output_type": "execute_result"
    },
    {
     "name": "stdout",
     "output_type": "stream",
     "text": [
      "Race is done: a\n",
      "Parallel is done: a b c\n",
      "Sequence is done: a b c\n"
     ]
    }
   ],
   "source": [
    "sequence().then(console.log);\n",
    "race().then(console.log);\n",
    "concurrency().then(console.log);"
   ]
  }
 ],
 "metadata": {
  "kernelspec": {
   "display_name": "JavaScript (Node.js)",
   "language": "javascript",
   "name": "javascript"
  },
  "language_info": {
   "file_extension": ".js",
   "mimetype": "application/javascript",
   "name": "javascript",
   "version": "18.15.0"
  }
 },
 "nbformat": 4,
 "nbformat_minor": 5
}
