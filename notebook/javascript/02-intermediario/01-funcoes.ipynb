{
 "cells": [
  {
   "cell_type": "markdown",
   "id": "fb847e3a-7377-416b-ade8-8adb0c582c39",
   "metadata": {},
   "source": [
    "## Funções\n",
    "***\n",
    "\n",
    "Aqui estudaremos tudo sobre funções que são tipos de objetos com a incrível capacidade de serem invocados.\n",
    "\n",
    "No ES5 funções são a única maneira de gerar escopo, no caso escopo de função, hoje temos o let e o const que tb cria em escopo de bloco.\n",
    "\n",
    "```js\n",
    "function x() {\n",
    "    if (true) {\n",
    "        var y = 10;\n",
    "        let k = 20;\n",
    "        console.log(k); // 20\n",
    "    }\n",
    "    console.log(y); // 10\n",
    "    console.log(k); // Error\n",
    "}\n",
    "console.log(y); // Error\n",
    "console.log(k); // Error\n",
    "```\n",
    "\n",
    "As funções podem ser literais, ou seja, não precisamos utilizar o operador **new** para cria-las.\n",
    "\n",
    "```js\n",
    "function myFunction() {}\n",
    "```"
   ]
  },
  {
   "cell_type": "code",
   "execution_count": 1,
   "id": "80edbc5e-d0f3-4bb4-b602-68f80da7f443",
   "metadata": {},
   "outputs": [],
   "source": [
    "function myFunction() {}"
   ]
  },
  {
   "cell_type": "markdown",
   "id": "11a99436-e93e-4b13-b6f3-7d8464e3aa50",
   "metadata": {},
   "source": [
    "***\n",
    "### Hoisting\n",
    "***\n",
    "\n",
    "Em alguns casos, ocorrem o hoisting, ou seja, é a capacidade do javascript de \"içar\" uma function declaration, ou seja, você pode chamar a função antes de declarar ela, pois todas as funções e variáveis (var) são enviadas para o topo do arquivo."
   ]
  },
  {
   "cell_type": "code",
   "execution_count": 2,
   "id": "364ac23c-7312-4656-8630-0f5af29919b3",
   "metadata": {},
   "outputs": [
    {
     "name": "stdout",
     "output_type": "stream",
     "text": [
      "teste\n"
     ]
    }
   ],
   "source": [
    "teste();\n",
    "\n",
    "function teste() {\n",
    "    console.log(\"teste\");\n",
    "}"
   ]
  },
  {
   "cell_type": "code",
   "execution_count": 3,
   "id": "5fe923ab-feb5-434c-a5c3-96190d80553f",
   "metadata": {},
   "outputs": [
    {
     "name": "stdout",
     "output_type": "stream",
     "text": [
      "y\n"
     ]
    }
   ],
   "source": [
    "const y = function() {\n",
    "    console.log(\"y\");\n",
    "}\n",
    "y();"
   ]
  },
  {
   "cell_type": "code",
   "execution_count": 4,
   "id": "8f407a0d-2295-4cf7-b8a1-024040f20e5f",
   "metadata": {},
   "outputs": [
    {
     "ename": "ReferenceError",
     "evalue": "Cannot access 'x' before initialization",
     "execution_count": 4,
     "output_type": "error",
     "traceback": [
      "evalmachine.<anonymous>:2",
      "x();",
      "^",
      "",
      "ReferenceError: Cannot access 'x' before initialization",
      "    at evalmachine.<anonymous>:2:1",
      "    at Script.runInThisContext (node:vm:129:12)",
      "    at Object.runInThisContext (node:vm:305:38)",
      "    at run ([eval]:1020:15)",
      "    at onRunRequest ([eval]:864:18)",
      "    at onMessage ([eval]:828:13)",
      "    at process.emit (node:events:527:28)",
      "    at emit (node:internal/child_process:938:14)",
      "    at processTicksAndRejections (node:internal/process/task_queues:84:21)"
     ]
    }
   ],
   "source": [
    "// O mesmo não acontece para function expression\n",
    "x();\n",
    "const x = function() {\n",
    "    console.log(\"x\");\n",
    "}"
   ]
  },
  {
   "cell_type": "markdown",
   "id": "02a016e5-405e-4041-b41e-31a74456957f",
   "metadata": {},
   "source": [
    "***\n",
    "### Funções Auto-Invocáveis\n",
    "***\n",
    "\n",
    "Podem ser IIFE (Immediately Invoked Function Expression), ou seja, funções auto-invocáveis, ela evita poluir o escopo global usando com o **use strict** que irá cagueta se criar alguma variavel global dentro do IIFE.\n",
    "\n",
    "Se você tiver um html com 2 import de script js, e em ambos tiver uma função chamada `init` o ultimo arquivo js vai sobrescrever sobre o primeiro, o uso de funções invocaveis evita isso.\n",
    "\n",
    "Não precisa de IIFE se usar um sistema de **Bundle** como Webpack, Parcel e etc. Ou usar o **ESModules** em browsers modernos e se programar em **nodejs**."
   ]
  },
  {
   "cell_type": "code",
   "execution_count": 5,
   "id": "913dd36a-6df9-40db-be1c-a6bfe9b4c5a9",
   "metadata": {},
   "outputs": [],
   "source": [
    "// arquivo1.js\n",
    "function init() {\n",
    "    console.log(\"Init arquivo 01\");\n",
    "}\n",
    "\n",
    "// arquivo2.js\n",
    "function init() {\n",
    "    console.log(\"Init do arquivo 02\");\n",
    "}"
   ]
  },
  {
   "cell_type": "code",
   "execution_count": 6,
   "id": "cb2caa98-1e31-49aa-b795-a33b696792f2",
   "metadata": {},
   "outputs": [
    {
     "name": "stdout",
     "output_type": "stream",
     "text": [
      "Init do arquivo 02\n"
     ]
    }
   ],
   "source": [
    "// Temos a função init no escopo global sobrescrita no arquivo2.js\n",
    "init()"
   ]
  },
  {
   "cell_type": "code",
   "execution_count": 7,
   "id": "c9896fd4-9b0e-4dc4-9f0b-bddcf83eb0ea",
   "metadata": {},
   "outputs": [
    {
     "name": "stdout",
     "output_type": "stream",
     "text": [
      "Init arquivo 01\n"
     ]
    }
   ],
   "source": [
    "// Função autoinvocavel do arquivo1.js com use strict\n",
    "(function() {\n",
    "    \"use strict\"\n",
    "    function init2() {\n",
    "        console.log(\"Init arquivo 01\");\n",
    "    }\n",
    "    init2();\n",
    "})()"
   ]
  },
  {
   "cell_type": "code",
   "execution_count": 8,
   "id": "ce5faf91-f61e-4dfe-83a3-ee6c8b8c9e40",
   "metadata": {},
   "outputs": [
    {
     "name": "stdout",
     "output_type": "stream",
     "text": [
      "Init do arquivo 02\n"
     ]
    }
   ],
   "source": [
    "// Função autoinvocavel do arquivo2.js com parâmetros e use strict\n",
    "(function(txt) {\n",
    "    \"use strict\"\n",
    "    function init2() {\n",
    "        console.log(txt);\n",
    "    }\n",
    "    init2();\n",
    "})(\"Init do arquivo 02\")"
   ]
  },
  {
   "cell_type": "code",
   "execution_count": 9,
   "id": "d2e750ee-ee29-4b3b-b3d8-acd6dc63708c",
   "metadata": {},
   "outputs": [
    {
     "ename": "ReferenceError",
     "evalue": "init2 is not defined",
     "execution_count": 9,
     "output_type": "error",
     "traceback": [
      "evalmachine.<anonymous>:2",
      "init2();",
      "^",
      "",
      "ReferenceError: init2 is not defined",
      "    at evalmachine.<anonymous>:2:1",
      "    at Script.runInThisContext (node:vm:129:12)",
      "    at Object.runInThisContext (node:vm:305:38)",
      "    at run ([eval]:1020:15)",
      "    at onRunRequest ([eval]:864:18)",
      "    at onMessage ([eval]:828:13)",
      "    at process.emit (node:events:527:28)",
      "    at emit (node:internal/child_process:938:14)",
      "    at processTicksAndRejections (node:internal/process/task_queues:84:21)"
     ]
    }
   ],
   "source": [
    "// Não tenho mais a função init no escopo global\n",
    "init2();"
   ]
  },
  {
   "cell_type": "markdown",
   "id": "d4a91307-85a6-4da5-864a-a82e03833b5e",
   "metadata": {},
   "source": [
    "***\n",
    "### Parâmetros e Argumentos\n",
    "***\n",
    "\n",
    "As funções podem ter propriedades internas como arguments e name.\n",
    "\n",
    "**arguments**: Armazena os n parâmetros que não foram definidos na função, porém foi chamado, ele é parecido com um array, não existe em arrow functions.\n",
    "\n",
    "**name**: Vai retornar o nome da própria função"
   ]
  },
  {
   "cell_type": "code",
   "execution_count": 10,
   "id": "977425cb-15ce-4c78-ac7c-2d8c4fb0d3dd",
   "metadata": {},
   "outputs": [],
   "source": [
    "const somando = function() {\n",
    "    let total = 0;\n",
    "    for (let i = 0; i < arguments.length; i++) {\n",
    "        total += arguments[i]\n",
    "    }\n",
    "    return total;\n",
    "}"
   ]
  },
  {
   "cell_type": "code",
   "execution_count": 11,
   "id": "abcd93f5-d1e3-4e2d-8885-d00bcc04eb32",
   "metadata": {},
   "outputs": [
    {
     "name": "stdout",
     "output_type": "stream",
     "text": [
      "3\n",
      "10\n",
      "55\n"
     ]
    }
   ],
   "source": [
    "console.log(somando(1,2));\n",
    "console.log(somando(1,2,3,4));\n",
    "console.log(somando(1,2,3,4,5,6,7,8,9,10));"
   ]
  },
  {
   "cell_type": "code",
   "execution_count": 12,
   "id": "76d28325-89bb-43f5-9cbe-abdd280370f0",
   "metadata": {},
   "outputs": [
    {
     "name": "stdout",
     "output_type": "stream",
     "text": [
      "somando\n"
     ]
    }
   ],
   "source": [
    "console.log(somando.name);"
   ]
  },
  {
   "cell_type": "markdown",
   "id": "8a693457-974d-46a5-8b00-327ea7b1c75c",
   "metadata": {},
   "source": [
    "***\n",
    "### Objetos de Primeira classe\n",
    "***\n",
    "\n",
    "Funções são objetos de primeira classe, ou seja, são tratadas como qualquer outro objeto.\n",
    "\n",
    "Podemos passa-las como parâmetros para outras funções (**callback**)\n",
    "\n",
    "Pode ser atribuídas em propriedades de objetos (**métodos**)\n",
    "\n",
    "Retornadas como resultados de outras funções.\n",
    "\n",
    "Podem ter suas próprias propriedades"
   ]
  },
  {
   "cell_type": "code",
   "execution_count": 13,
   "id": "8b6bc3f8-3bbb-4845-bd94-4a97e68ae747",
   "metadata": {},
   "outputs": [],
   "source": [
    "// Callbacks\n",
    "function each(list, callback) {\n",
    "    console.log(\"Executando função de callback\");\n",
    "    for (let i = 0; i < list.length; i++) {\n",
    "        callback(list[i]);\n",
    "    }\n",
    "}"
   ]
  },
  {
   "cell_type": "code",
   "execution_count": 14,
   "id": "74396d66-7fca-4267-854e-10f8ff847cbf",
   "metadata": {},
   "outputs": [],
   "source": [
    "const print = txt => console.log(txt); \n",
    "const duplica = x => console.log(x * 2);"
   ]
  },
  {
   "cell_type": "code",
   "execution_count": 15,
   "id": "e0c36bf1-ae7c-46f9-935b-566b852089b1",
   "metadata": {},
   "outputs": [
    {
     "name": "stdout",
     "output_type": "stream",
     "text": [
      "Executando função de callback\n",
      "1\n",
      "2\n",
      "3\n",
      "4\n"
     ]
    }
   ],
   "source": [
    "each([1, 2, 3, 4], print);"
   ]
  },
  {
   "cell_type": "code",
   "execution_count": 16,
   "id": "45fbe0d1-df2a-46cc-af0e-313ba488b059",
   "metadata": {},
   "outputs": [
    {
     "name": "stdout",
     "output_type": "stream",
     "text": [
      "Executando função de callback\n",
      "2\n",
      "4\n",
      "6\n",
      "8\n"
     ]
    }
   ],
   "source": [
    "each([1, 2, 3, 4], duplica);"
   ]
  },
  {
   "cell_type": "code",
   "execution_count": 17,
   "id": "b13781a7-052f-4eb1-a89b-f0d962f83f42",
   "metadata": {},
   "outputs": [],
   "source": [
    "// Pode ser atribuídas em propriedades de objetos (métodos)\n",
    "const myObj = { print };"
   ]
  },
  {
   "cell_type": "code",
   "execution_count": 18,
   "id": "b0790a5f-03ce-4fcc-8f6f-d07c59c9079f",
   "metadata": {},
   "outputs": [
    {
     "name": "stdout",
     "output_type": "stream",
     "text": [
      "Executando um método\n"
     ]
    }
   ],
   "source": [
    "myObj.print(\"Executando um método\");"
   ]
  },
  {
   "cell_type": "code",
   "execution_count": 19,
   "id": "a70dd379-830a-4437-9ceb-74fcc1f7952c",
   "metadata": {},
   "outputs": [],
   "source": [
    "// Retornadas como resultados de outras funções. (Ex: closures)\n",
    "function f1(n1) {\n",
    "    return function f2(n2) {\n",
    "        return n1 + n2;\n",
    "    };\n",
    "}"
   ]
  },
  {
   "cell_type": "code",
   "execution_count": 20,
   "id": "ccafc15a-8d5a-437c-935e-b7338b4aae4f",
   "metadata": {},
   "outputs": [
    {
     "name": "stdout",
     "output_type": "stream",
     "text": [
      "12\n"
     ]
    }
   ],
   "source": [
    "const f2 = f1(10);\n",
    "const result = f2(2);\n",
    "console.log(result);"
   ]
  },
  {
   "cell_type": "code",
   "execution_count": 21,
   "id": "de185ba2-7b39-4e67-aecc-fb1d7dc487f7",
   "metadata": {},
   "outputs": [
    {
     "name": "stdout",
     "output_type": "stream",
     "text": [
      "10\n"
     ]
    }
   ],
   "source": [
    "// Podem ter suas próprias propriedades, não funciona com funções declarativas como const ou let\n",
    "f1.count = 10;\n",
    "console.log(f1.count);"
   ]
  }
 ],
 "metadata": {
  "kernelspec": {
   "display_name": "JavaScript (Node.js)",
   "language": "javascript",
   "name": "javascript"
  },
  "language_info": {
   "file_extension": ".js",
   "mimetype": "application/javascript",
   "name": "javascript",
   "version": "16.16.0"
  }
 },
 "nbformat": 4,
 "nbformat_minor": 5
}
