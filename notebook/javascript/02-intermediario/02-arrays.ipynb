{
 "cells": [
  {
   "cell_type": "markdown",
   "id": "f0af951a-1bb2-4f4c-993e-5f59349fb9b9",
   "metadata": {},
   "source": [
    "## Arrays em JS\n",
    "***\n",
    "\n",
    "São estruturas para armazenar dados em javascript, aqui será apresentando seus principais métodos.\n",
    "\n",
    "```js\n",
    "array.metodo()\n",
    "```\n",
    "\n",
    "***"
   ]
  },
  {
   "cell_type": "code",
   "execution_count": 1,
   "id": "6417d4b1-205a-4e4f-ae25-1273d5c173b9",
   "metadata": {
    "tags": []
   },
   "outputs": [],
   "source": [
    "const arr = [1, 5, 10, \"ola\", true];"
   ]
  },
  {
   "cell_type": "markdown",
   "id": "fadeadce-bc75-40fd-9ad6-3fc19942e3f7",
   "metadata": {},
   "source": [
    "#### EVERY\n",
    "\n",
    "Faz uma verificação em cada elemento do array e retorna true se todos os seus elementos satisfazerem a condição informada."
   ]
  },
  {
   "cell_type": "code",
   "execution_count": 2,
   "id": "4655a90b-605c-430a-ba4b-12b2fcd087b8",
   "metadata": {
    "tags": []
   },
   "outputs": [
    {
     "name": "stdout",
     "output_type": "stream",
     "text": [
      "false\n"
     ]
    }
   ],
   "source": [
    "let soNumeros1 = arr.every(element => {\n",
    "    return typeof element === \"number\";\n",
    "})\n",
    "console.log(soNumeros1);"
   ]
  },
  {
   "cell_type": "code",
   "execution_count": 3,
   "id": "3922bf4c-70e4-4037-bb68-9889a0e64be2",
   "metadata": {
    "tags": []
   },
   "outputs": [
    {
     "name": "stdout",
     "output_type": "stream",
     "text": [
      "true\n"
     ]
    }
   ],
   "source": [
    "// SOME: Faz a mesma verificação mas neste caso retorna true se pelo menos um elemento satisfazer a condição informada.\n",
    "let soNumeros2 = arr.some(element => {\n",
    "    return typeof element === \"number\";\n",
    "})\n",
    "console.log(soNumeros2);"
   ]
  },
  {
   "cell_type": "code",
   "execution_count": 4,
   "id": "f9620f97-ac8f-4bd8-bca0-bcc7827500b9",
   "metadata": {
    "tags": []
   },
   "outputs": [
    {
     "name": "stdout",
     "output_type": "stream",
     "text": [
      "[ 1, 5, 10, 'ola', true ]\n",
      "[ 1, 5, 10 ]\n"
     ]
    }
   ],
   "source": [
    "// FILTER: Usado para filtrar um array, não altera a array original, mas retorna uma nova array filtrada.\n",
    "let soNumero3 = arr.filter((element, index, originalArray) => {\n",
    "    return typeof element === \"number\";\n",
    "});\n",
    "console.log(arr);\n",
    "console.log(soNumero3);"
   ]
  },
  {
   "cell_type": "code",
   "execution_count": 5,
   "id": "f864e2d1-70b6-4823-bd92-a33765331c72",
   "metadata": {
    "tags": []
   },
   "outputs": [
    {
     "name": "stdout",
     "output_type": "stream",
     "text": [
      "arr[0] = 1\n",
      "arr[1] = 5\n",
      "arr[2] = 10\n",
      "arr[3] = ola\n",
      "arr[4] = true\n"
     ]
    }
   ],
   "source": [
    "// FOREACH: Percorre a array, mas não retorna nada, é um substituto para o for ou while para arrays\n",
    "arr.forEach((element, index, originalArray) => {\n",
    "    console.log(`arr[${index}] = ${element}`);\n",
    "})"
   ]
  },
  {
   "cell_type": "code",
   "execution_count": 6,
   "id": "0a72fdee-975f-4ff8-9709-d710e6816156",
   "metadata": {
    "tags": []
   },
   "outputs": [
    {
     "name": "stdout",
     "output_type": "stream",
     "text": [
      "[ 1, 5, 10, 'ola', true ]\n",
      "[ 2, 10, 20, 'ola', true ]\n"
     ]
    }
   ],
   "source": [
    "// MAP: Ele vai retorna uma nova array com os dados transformados.\n",
    "let dobra = arr.map((element, index, originalArray) => {\n",
    "    if (typeof element === \"number\") {\n",
    "        return element * 2;\n",
    "    }\n",
    "    return element;\n",
    "});\n",
    "console.log(arr);\n",
    "console.log(dobra);"
   ]
  },
  {
   "cell_type": "code",
   "execution_count": 7,
   "id": "12100c5e-195d-4d45-9f94-aac481aa87a0",
   "metadata": {
    "tags": []
   },
   "outputs": [],
   "source": [
    "let array = [\"Pera\", \"Maça\", \"Banana\", \"Maça\", \"Uva\", \"Pera\", \"Abacaxi\"];"
   ]
  },
  {
   "cell_type": "code",
   "execution_count": 8,
   "id": "8a5f7d62-d18f-496e-b1c1-8851d710b919",
   "metadata": {
    "tags": []
   },
   "outputs": [
    {
     "name": "stdout",
     "output_type": "stream",
     "text": [
      "1\n",
      "-1\n"
     ]
    }
   ],
   "source": [
    "// INDEXOF: Retorna o valor do indice do primeiro elemento encontrado, se não encontrar retorna -1\n",
    "console.log(array.indexOf(\"Maça\"));\n",
    "console.log(array.indexOf(\"Coco\"));"
   ]
  },
  {
   "cell_type": "code",
   "execution_count": 9,
   "id": "8f1275a3-d36a-4387-8523-1bcf46fe1c55",
   "metadata": {
    "tags": []
   },
   "outputs": [
    {
     "name": "stdout",
     "output_type": "stream",
     "text": [
      "3\n",
      "-1\n"
     ]
    }
   ],
   "source": [
    "// LASTINDEXOF: Retorna o valor do indice do último elemento encontrado, se não encontrar retorna -1\n",
    "console.log(array.lastIndexOf(\"Maça\"));\n",
    "console.log(array.lastIndexOf(\"Coco\"));"
   ]
  },
  {
   "cell_type": "code",
   "execution_count": 10,
   "id": "a7224185-c8ee-4871-8913-a1440833d2b7",
   "metadata": {
    "tags": []
   },
   "outputs": [
    {
     "name": "stdout",
     "output_type": "stream",
     "text": [
      "true\n",
      "false\n"
     ]
    }
   ],
   "source": [
    "// INCLUDES: Retorna true se o valor procurado for encontrado caso contrário false.\n",
    "console.log(array.includes(\"Maça\"));\n",
    "console.log(array.includes(\"Coco\"));"
   ]
  },
  {
   "cell_type": "code",
   "execution_count": 11,
   "id": "88c1591d-6681-4047-ac9c-1bdc5bb04ba9",
   "metadata": {
    "tags": []
   },
   "outputs": [
    {
     "name": "stdout",
     "output_type": "stream",
     "text": [
      "Maça\n",
      "undefined\n"
     ]
    }
   ],
   "source": [
    "// FIND: Retorna o primeiro valor encontrado que satisfaz a condição inserida, caso não encontre retorna undefined.\n",
    "console.log(array.find(element => {\n",
    "    return element === \"Maça\"\n",
    "}));\n",
    "console.log([].find(element => {\n",
    "    return element === \"Maça\"\n",
    "}));"
   ]
  },
  {
   "cell_type": "code",
   "execution_count": 12,
   "id": "16e897b6-f009-42f6-979c-a4093f2dcfdd",
   "metadata": {
    "tags": []
   },
   "outputs": [
    {
     "name": "stdout",
     "output_type": "stream",
     "text": [
      "6\n",
      "-1\n"
     ]
    }
   ],
   "source": [
    "// FINDINDEX: Assim como o método find tb recebe uma condição e retorna o indice do primeiro elemento que satisfaz essa condição.\n",
    "console.log(array.findIndex(element => {\n",
    "    return element === \"Abacaxi\"\n",
    "}));\n",
    "console.log([].findIndex(element => {\n",
    "    return element === \"Maça\"\n",
    "}));"
   ]
  },
  {
   "cell_type": "code",
   "execution_count": 13,
   "id": "972005a6-da69-4988-ba2b-74b941f0543b",
   "metadata": {
    "tags": []
   },
   "outputs": [
    {
     "name": "stdout",
     "output_type": "stream",
     "text": [
      "Pera,Maça,Banana,Maça,Uva,Pera,Abacaxi\n"
     ]
    }
   ],
   "source": [
    "// TOSTRING: Mostra uma representação em string da array\n",
    "console.log(array.toString())"
   ]
  },
  {
   "cell_type": "code",
   "execution_count": 14,
   "id": "f60b4220-a288-488a-bace-46f359cd0ead",
   "metadata": {},
   "outputs": [
    {
     "name": "stdout",
     "output_type": "stream",
     "text": [
      "Pera - Maça - Banana - Maça - Uva - Pera - Abacaxi\n"
     ]
    }
   ],
   "source": [
    "// JOIN: Retorna uma string porém modificando seu separador.\n",
    "console.log(array.join(\" - \"));"
   ]
  },
  {
   "cell_type": "code",
   "execution_count": 15,
   "id": "1420f0a3-05ce-4e59-94fe-f68cc0931448",
   "metadata": {},
   "outputs": [
    {
     "name": "stdout",
     "output_type": "stream",
     "text": [
      "[\n",
      "  1,      5,        10,\n",
      "  'ola',  true,     'Pera',\n",
      "  'Maça', 'Banana', 'Maça',\n",
      "  'Uva',  'Pera',   'Abacaxi',\n",
      "  5,      10,       20,\n",
      "  2\n",
      "]\n"
     ]
    }
   ],
   "source": [
    "// CONCAT: Junta arrays\n",
    "let novoArray = arr.concat(array, 5, 10, [20, 2]);\n",
    "console.log(novoArray);"
   ]
  },
  {
   "cell_type": "code",
   "execution_count": 16,
   "id": "c61ce719-73b6-4f2a-83a0-cb47c6ed4639",
   "metadata": {},
   "outputs": [
    {
     "name": "stdout",
     "output_type": "stream",
     "text": [
      "[\n",
      "  'Abacate', 'Pera',\n",
      "  'Maça',    'Banana',\n",
      "  'Maça',    'Uva',\n",
      "  'Pera',    'Abacaxi'\n",
      "]\n"
     ]
    }
   ],
   "source": [
    "// UNSHIFT: Inserir um novo elemento no inicio do array e retorna o novo tamanho do array\n",
    "array.unshift(\"Abacate\");\n",
    "console.log(array);"
   ]
  },
  {
   "cell_type": "code",
   "execution_count": 17,
   "id": "712aa4d3-bb06-4301-a0eb-f1aed0bf855f",
   "metadata": {},
   "outputs": [
    {
     "name": "stdout",
     "output_type": "stream",
     "text": [
      "[\n",
      "  'Abacate', 'Pera',\n",
      "  'Maça',    'Banana',\n",
      "  'Maça',    'Uva',\n",
      "  'Pera',    'Abacaxi',\n",
      "  'Uva'\n",
      "]\n"
     ]
    }
   ],
   "source": [
    "// PUSH: Inserir um novo elemento no final do array e retorna o novo tamanho do array\n",
    "array.push(\"Uva\");\n",
    "console.log(array);"
   ]
  },
  {
   "cell_type": "code",
   "execution_count": 18,
   "id": "5053ac75-272e-430f-aa77-7919c109024b",
   "metadata": {},
   "outputs": [
    {
     "name": "stdout",
     "output_type": "stream",
     "text": [
      "[\n",
      "  'Pera',    'Maça',\n",
      "  'Banana',  'Maça',\n",
      "  'Uva',     'Pera',\n",
      "  'Abacaxi', 'Uva'\n",
      "]\n",
      "Elemento Abacate removido!\n"
     ]
    }
   ],
   "source": [
    "// SHIFT: Remove o primeiro elemento do array e retorna o elemento removido\n",
    "removedElement = array.shift();\n",
    "console.log(array);\n",
    "console.log(`Elemento ${removedElement} removido!`);"
   ]
  },
  {
   "cell_type": "code",
   "execution_count": 19,
   "id": "59ef70b8-c8b3-43b2-b7d5-319d37a418fc",
   "metadata": {},
   "outputs": [
    {
     "name": "stdout",
     "output_type": "stream",
     "text": [
      "[\n",
      "  'Pera',    'Maça',\n",
      "  'Banana',  'Maça',\n",
      "  'Uva',     'Pera',\n",
      "  'Abacaxi'\n",
      "]\n",
      "Elemento Uva removido!\n"
     ]
    }
   ],
   "source": [
    "// POP: Remove o ultimo elemento do array e retorna o elemento removido\n",
    "let removedElement = array.pop();\n",
    "console.log(array);\n",
    "console.log(`Elemento ${removedElement} removido!`);"
   ]
  },
  {
   "cell_type": "code",
   "execution_count": 20,
   "id": "24f96724-16ed-4b6f-9907-a9e057538720",
   "metadata": {},
   "outputs": [
    {
     "name": "stdout",
     "output_type": "stream",
     "text": [
      "[\n",
      "  'Pera',    'Maça',\n",
      "  'Banana',  'Maça',\n",
      "  'Uva',     'Pera',\n",
      "  'Abacaxi'\n",
      "]\n",
      "[ 'Banana', 'Maça' ]\n",
      "[ 'Uva', 'Pera', 'Abacaxi' ]\n"
     ]
    }
   ],
   "source": [
    "// SLICE: Serve para quando quero recortar um pedaço do array (start - inclusivo, end - exclusivo)\n",
    "console.log(array);\n",
    "console.log(array.slice(2, 4));\n",
    "console.log(array.slice(4));"
   ]
  },
  {
   "cell_type": "code",
   "execution_count": 21,
   "id": "b0d25a66-42ff-427c-a31b-e3c20161d82e",
   "metadata": {},
   "outputs": [
    {
     "name": "stdout",
     "output_type": "stream",
     "text": [
      "[\n",
      "  'Pera',    'Maça',\n",
      "  'Banana',  'Maça',\n",
      "  'Uva',     'Pera',\n",
      "  'Abacaxi'\n",
      "]\n",
      "[ 'Pera', 'Maça' ]\n",
      "[ 'Banana', 'Maça', 'Uva', 'Pera', 'Abacaxi' ]\n"
     ]
    }
   ],
   "source": [
    "// SPLICE: Server para remover ou inserir elementos em qualquer posição do array; Retorna os valores removidos e modifica o array.\n",
    "// A partir do 2 quero remover todos os elementos\n",
    "let copy = [].concat(array);\n",
    "console.log(copy);\n",
    "let arr1 = copy.splice(2);\n",
    "console.log(copy);\n",
    "console.log(arr1);"
   ]
  },
  {
   "cell_type": "code",
   "execution_count": 22,
   "id": "76636659-3076-4b84-8147-c14246f59614",
   "metadata": {},
   "outputs": [
    {
     "name": "stdout",
     "output_type": "stream",
     "text": [
      "[\n",
      "  'Pera',    'Maça',\n",
      "  'Banana',  'Maça',\n",
      "  'Uva',     'Pera',\n",
      "  'Abacaxi'\n",
      "]\n",
      "[ 'Pera', 'Maça', 'Pera', 'Abacaxi' ]\n",
      "[ 'Banana', 'Maça', 'Uva' ]\n"
     ]
    }
   ],
   "source": [
    "// SPLICE: Server para remover ou inserir elementos em qualquer posição do array; Retorna os valores removidos e modifica o array.\n",
    "// A partir do 2 remover 3 elementos\n",
    "copy = [].concat(array);\n",
    "console.log(copy);\n",
    "let arr2 = copy.splice(2, 3);\n",
    "console.log(copy);\n",
    "console.log(arr2);"
   ]
  },
  {
   "cell_type": "code",
   "execution_count": 23,
   "id": "9c18db59-bce3-4dc5-a1c2-990c752e7585",
   "metadata": {},
   "outputs": [
    {
     "name": "stdout",
     "output_type": "stream",
     "text": [
      "[\n",
      "  'Pera',    'Maça',\n",
      "  'Banana',  'Maça',\n",
      "  'Uva',     'Pera',\n",
      "  'Abacaxi'\n",
      "]\n",
      "[\n",
      "  'Pera',    'Maça',\n",
      "  'Uva',     'Banana',\n",
      "  'Abacate', 'Açai',\n",
      "  'Pera',    'Abacaxi'\n",
      "]\n",
      "[ 'Banana', 'Maça', 'Uva' ]\n"
     ]
    }
   ],
   "source": [
    "// SPLICE: Server para remover ou inserir elementos em qualquer posição do array; Retorna os valores removidos e modifica o array.\n",
    "// A partir do 2 remover 3 elementos e inserir outros 4\n",
    "copy = [].concat(array);\n",
    "console.log(copy);\n",
    "let arr3 = copy.splice(2, 3, \"Uva\", \"Banana\", \"Abacate\", \"Açai\");\n",
    "console.log(copy);\n",
    "console.log(arr3);"
   ]
  },
  {
   "cell_type": "code",
   "execution_count": 24,
   "id": "9d9790f1-8351-48ab-a860-b68a5a31f78c",
   "metadata": {},
   "outputs": [
    {
     "name": "stdout",
     "output_type": "stream",
     "text": [
      "[\n",
      "  'Pera',    'Maça',\n",
      "  'Banana',  'Maça',\n",
      "  'Uva',     'Pera',\n",
      "  'Abacaxi'\n",
      "]\n",
      "[\n",
      "  'Abacaxi', 'Pera',\n",
      "  'Uva',     'Maça',\n",
      "  'Banana',  'Maça',\n",
      "  'Pera'\n",
      "]\n"
     ]
    }
   ],
   "source": [
    "// REVERSE: Inverte o array original\n",
    "copy = [].concat(array);\n",
    "console.log(copy);\n",
    "console.log(copy.reverse());"
   ]
  },
  {
   "cell_type": "code",
   "execution_count": 25,
   "id": "d44536d9-0aef-44a6-b26b-287628f19d90",
   "metadata": {},
   "outputs": [
    {
     "name": "stdout",
     "output_type": "stream",
     "text": [
      "[\n",
      "  'Abacaxi', 'Banana',\n",
      "  'Maça',    'Maça',\n",
      "  'Pera',    'Pera',\n",
      "  'Uva'\n",
      "]\n",
      "[ 1, 5, 10, 25, 40, 100 ]\n",
      "[ 100, 40, 25, 10, 5, 1 ]\n"
     ]
    }
   ],
   "source": [
    "// SORT: Orderna o array em ordem alfabetica, pode ser inserido uma função de comparação como parâmetro\n",
    "copy = [].concat(array);\n",
    "copy.sort()\n",
    "console.log(copy);\n",
    "const myNumbers = [40, 100, 1, 5, 25, 10];\n",
    "myNumbers.sort((a, b) => a - b); // ASC\n",
    "console.log(myNumbers);\n",
    "myNumbers.sort((a,b) => b - a);  // DESC\n",
    "console.log(myNumbers);"
   ]
  },
  {
   "cell_type": "code",
   "execution_count": 26,
   "id": "82b3cbda-06cf-4023-8e84-57f1fa9cae50",
   "metadata": {},
   "outputs": [
    {
     "name": "stdout",
     "output_type": "stream",
     "text": [
      "25\n"
     ]
    }
   ],
   "source": [
    "// REDUCE: Faz uma iteração em cada elemento e retorna um único valor a partir de alguma operação em cada elemento do array.\n",
    "// recebe 4 parâmetros, o acumulador, o elemento atual, o indice dele e o array original, porém os 2 ultimos é opcional.\n",
    "const numbers = [1, 2, 3, 4, 5];\n",
    "const valorInicial = 10;\n",
    "console.log(numbers.reduce((acumulador, atual) => acumulador + atual, 10));\n",
    "// 10 + 1 =>  11 + 2 => 13 + 3 => 16 + 4 => 20 + 5 = 25"
   ]
  },
  {
   "cell_type": "markdown",
   "id": "29a849d9-270e-4101-9238-c569dfefc640",
   "metadata": {},
   "source": [
    "***\n",
    "### Métodos do objeto Array\n",
    "***"
   ]
  },
  {
   "cell_type": "code",
   "execution_count": 27,
   "id": "8d68d0e6-bbfa-466a-bc2d-23ded52f186a",
   "metadata": {},
   "outputs": [
    {
     "name": "stdout",
     "output_type": "stream",
     "text": [
      "[ 1, 2, 3 ]\n",
      "[ 1, 2, 3, 4, 5 ]\n"
     ]
    }
   ],
   "source": [
    "// ARRAY.FROM: Cria uma array a partir de uma outra array ou um objeto que se parece uma array.\n",
    "// Muito usado para transformar um objeto iteravel do DOM (NodeList) em um array\n",
    "const array1 = new Array(1, 2, 3);\n",
    "const array2 = Array.from(array1);\n",
    "array2.push(4, 5);\n",
    "console.log(array1);\n",
    "console.log(array2);"
   ]
  },
  {
   "cell_type": "code",
   "execution_count": 28,
   "id": "085a7669-cdb2-4889-894a-84e5c07a9614",
   "metadata": {},
   "outputs": [
    {
     "name": "stdout",
     "output_type": "stream",
     "text": [
      "[ <3 empty items> ]\n",
      "[ 3 ]\n"
     ]
    }
   ],
   "source": [
    "// ARRAY.OF: Serve para criar um array com X posições\n",
    "const array3 = new Array(3);  // Cria um array com 3 posições vazias\n",
    "const array4 = Array.of(3);   // Cria um array com 1 posição preenchida com 3\n",
    "console.log(array3);\n",
    "console.log(array4);"
   ]
  },
  {
   "cell_type": "markdown",
   "id": "98e1e49b-8063-4177-be60-36d3bbef64f2",
   "metadata": {},
   "source": [
    "***\n",
    "### Spread Operator\n",
    "***\n",
    "\n",
    "Inserida no ES6, passa os itens do array de forma iteravel para uma função ou objeto."
   ]
  },
  {
   "cell_type": "code",
   "execution_count": 29,
   "id": "3bfe07dd-69b8-4365-935b-9f35fa60ced2",
   "metadata": {},
   "outputs": [
    {
     "name": "stdout",
     "output_type": "stream",
     "text": [
      "6\n",
      "6\n"
     ]
    }
   ],
   "source": [
    "const array5 = [1, 2, 3]\n",
    "const soma = (x, y, z) => x + y + z;\n",
    "console.log(soma(array5[0], array5[1], array5[2]));\n",
    "console.log(soma(...array5));"
   ]
  },
  {
   "cell_type": "code",
   "execution_count": 30,
   "id": "41ab8ae5-1e17-4513-a3e1-07196b14f63a",
   "metadata": {},
   "outputs": [
    {
     "name": "stdout",
     "output_type": "stream",
     "text": [
      "[ 1, 2, 3 ]\n",
      "[ 1, 2, 3, 4, 5 ]\n"
     ]
    }
   ],
   "source": [
    "// Podemos usar o spread operator para fazer copia de arrays tb\n",
    "const array6 = [...array5];\n",
    "array6.push(...[4, 5]);\n",
    "console.log(array5);\n",
    "console.log(array6);"
   ]
  },
  {
   "cell_type": "markdown",
   "id": "783fd1e1-d33d-43aa-ab07-9be37bb18ecc",
   "metadata": {},
   "source": [
    "***\n",
    "### Destructuring\n",
    "***\n",
    "\n",
    "Inserida no ES6, serve para criar variáveis a partir de uma array"
   ]
  },
  {
   "cell_type": "code",
   "execution_count": 31,
   "id": "e02c0bce-5f89-4bf8-a35e-685379076cf1",
   "metadata": {},
   "outputs": [
    {
     "name": "stdout",
     "output_type": "stream",
     "text": [
      "1 2 3\n"
     ]
    }
   ],
   "source": [
    "const array7 = [1, 2, 3];\n",
    "const [x, y, z] = array7;\n",
    "console.log(x, y, z);"
   ]
  },
  {
   "cell_type": "code",
   "execution_count": 32,
   "id": "416287ae-f01b-4d5e-9a19-c4f37b9e630e",
   "metadata": {},
   "outputs": [
    {
     "name": "stdout",
     "output_type": "stream",
     "text": [
      "1 [ 2, 3 ]\n"
     ]
    }
   ],
   "source": [
    "// Podemos pegar só um item do array e o resto armazenar outro outra variavel\n",
    "const [n, ...k] = array7;\n",
    "console.log(n, k);"
   ]
  },
  {
   "cell_type": "code",
   "execution_count": 33,
   "id": "d99d5d35-1cdf-48c0-8d10-05b5282a656a",
   "metadata": {},
   "outputs": [
    {
     "name": "stdout",
     "output_type": "stream",
     "text": [
      "1 3\n"
     ]
    }
   ],
   "source": [
    "// E se quisermos só o primeiro e o ultimo item do array\n",
    "const [v, , t] = array7;\n",
    "console.log(v, t);"
   ]
  },
  {
   "cell_type": "markdown",
   "id": "0261c352-5efb-46b2-8992-0d0c06d90722",
   "metadata": {},
   "source": [
    "***\n",
    "### Loop For Of\n",
    "***\n",
    "\n",
    "O loop **for in** server para percorrer objetos já o loop **for of** server para percorrer arrays"
   ]
  },
  {
   "cell_type": "code",
   "execution_count": 34,
   "id": "a380f8b5-43fb-4825-8cf4-bf9807811aea",
   "metadata": {},
   "outputs": [
    {
     "name": "stdout",
     "output_type": "stream",
     "text": [
      "1\n",
      "2\n",
      "3\n"
     ]
    }
   ],
   "source": [
    "const array8 = [1, 2, 3];\n",
    "for (element of array8) {\n",
    "    console.log(element);\n",
    "}"
   ]
  },
  {
   "cell_type": "markdown",
   "id": "2c3f379e-c436-425c-837a-e0891df408ad",
   "metadata": {},
   "source": [
    "***\n",
    "### Prototype Call e Apply\n",
    "***\n",
    "\n",
    "Prototype é onde é armazenado todos os métodos de um determinado objeto, existe 3 maneiras de executar um método, o call e o apply pode mudar o escopo do `this`.\n",
    "\n",
    "```js\n",
    "Array.prototype.<<metodo>>();\n",
    "Array.prototype.<<metodo>>.call();\n",
    "Array.prototype.<<metodo>>.apply();\n",
    "```\n",
    "\n",
    "A unica diferença entre o call e o apply é que o apply os argumentos são passados em um único array e o call não.\n",
    "\n",
    "***"
   ]
  },
  {
   "cell_type": "code",
   "execution_count": 35,
   "id": "76063db8-2f24-4569-af0e-81fbc0462ca6",
   "metadata": {},
   "outputs": [],
   "source": [
    "// Estou emprestando o método forEach para o arguments já que ele não tem (arguments.forEach(element => ...))\n",
    "function sum() {\n",
    "    const numbers = [];\n",
    "    Array.prototype.forEach.call(arguments, element => {\n",
    "        numbers.push(element);\n",
    "    })\n",
    "    return numbers.reduce((soma, atual) => soma + atual, 0);\n",
    "};"
   ]
  },
  {
   "cell_type": "code",
   "execution_count": 36,
   "id": "2a7b03e0-e467-4cf9-9b8a-92a2fc7b28a3",
   "metadata": {},
   "outputs": [
    {
     "name": "stdout",
     "output_type": "stream",
     "text": [
      "15\n"
     ]
    }
   ],
   "source": [
    "console.log(sum(1, 2, 3, 4, 5));"
   ]
  },
  {
   "cell_type": "code",
   "execution_count": 37,
   "id": "a9be8654-a3a0-4825-9d5a-34ba47dba1c1",
   "metadata": {},
   "outputs": [],
   "source": [
    "function average() {\n",
    "    const soma = sum.apply(null, arguments);\n",
    "    return soma / arguments.length;\n",
    "}"
   ]
  },
  {
   "cell_type": "code",
   "execution_count": 38,
   "id": "5897acfb-8054-4688-8b85-38653a3e74cc",
   "metadata": {},
   "outputs": [
    {
     "name": "stdout",
     "output_type": "stream",
     "text": [
      "3\n"
     ]
    }
   ],
   "source": [
    "console.log(average(1, 2, 3, 4, 5));"
   ]
  }
 ],
 "metadata": {
  "kernelspec": {
   "display_name": "JavaScript (Node.js)",
   "language": "javascript",
   "name": "javascript"
  },
  "language_info": {
   "file_extension": ".js",
   "mimetype": "application/javascript",
   "name": "javascript",
   "version": "18.15.0"
  }
 },
 "nbformat": 4,
 "nbformat_minor": 5
}
