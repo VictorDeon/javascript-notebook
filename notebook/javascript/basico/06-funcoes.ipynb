{
 "cells": [
  {
   "cell_type": "markdown",
   "id": "b6c3c09e-bb26-4e5a-87bd-0eb3a7e2eae1",
   "metadata": {},
   "source": [
    "## Funções\n",
    "***\n",
    "\n",
    "Funções são conjuntos de códigos que vão ser executadas a medida que eu precisar."
   ]
  },
  {
   "cell_type": "code",
   "execution_count": 1,
   "id": "8be481fc-a6be-4d5f-8234-fe1a0b9365a4",
   "metadata": {},
   "outputs": [
    {
     "name": "stdout",
     "output_type": "stream",
     "text": [
      "Ola mundo!\n"
     ]
    }
   ],
   "source": [
    "// Função sem retorno e sem parâmetros\n",
    "function olaMundo() {\n",
    "    console.log(\"Ola mundo!\");\n",
    "}\n",
    "olaMundo();"
   ]
  },
  {
   "cell_type": "code",
   "execution_count": 2,
   "id": "2b79ca61-1729-4588-a6db-1919432f747b",
   "metadata": {},
   "outputs": [
    {
     "name": "stdout",
     "output_type": "stream",
     "text": [
      "AUAU\n"
     ]
    }
   ],
   "source": [
    "// Função com retorno e sem parâmetros\n",
    "function latir() {\n",
    "    return \"AUAU\";\n",
    "}\n",
    "console.log(latir());"
   ]
  },
  {
   "cell_type": "code",
   "execution_count": 3,
   "id": "2ce9b04f-07a0-44f3-ad2a-1ce79b5e1102",
   "metadata": {},
   "outputs": [
    {
     "name": "stdout",
     "output_type": "stream",
     "text": [
      "15\n"
     ]
    }
   ],
   "source": [
    "// Função sem retorno e com parâmetros\n",
    "function mostrarSoma(x, y) {\n",
    "    console.log(x + y);\n",
    "}\n",
    "mostrarSoma(10, 5)"
   ]
  },
  {
   "cell_type": "code",
   "execution_count": 4,
   "id": "53fc3615-6980-476e-b459-3e4562ae9695",
   "metadata": {},
   "outputs": [
    {
     "name": "stdout",
     "output_type": "stream",
     "text": [
      "15\n"
     ]
    }
   ],
   "source": [
    "// Função com parâmetros e retorno\n",
    "function soma(x, y) {\n",
    "    return x + y;\n",
    "}\n",
    "console.log(soma(10, 5))"
   ]
  },
  {
   "cell_type": "code",
   "execution_count": 5,
   "id": "2138bcf9-a636-4924-83ff-b7dc608f7925",
   "metadata": {},
   "outputs": [
    {
     "name": "stdout",
     "output_type": "stream",
     "text": [
      "20 10\n",
      "Não quebrou 10\n",
      "Não quebrou undefined\n"
     ]
    }
   ],
   "source": [
    "// Podemos passar valores padrões\n",
    "// No javascript se passar mais ou menos parâmetros do que e configurado como undefined\n",
    "function naoVaiQuebrar(x, txt = \"Não quebrou\") {\n",
    "    console.log(txt, x);\n",
    "}\n",
    "naoVaiQuebrar(10, 20, 30);\n",
    "naoVaiQuebrar(10);\n",
    "naoVaiQuebrar();"
   ]
  },
  {
   "cell_type": "markdown",
   "id": "d88c7ec4-af80-40ca-b5e0-a1b800dfc150",
   "metadata": {},
   "source": [
    "***\n",
    "### Expressão de Função\n",
    "***\n",
    "\n",
    "É quando armazenamos uma função em uma variável"
   ]
  },
  {
   "cell_type": "code",
   "execution_count": 6,
   "id": "a3a8e869-bc82-4322-a716-c7c8ae0a3a07",
   "metadata": {},
   "outputs": [
    {
     "name": "stdout",
     "output_type": "stream",
     "text": [
      "20\n"
     ]
    }
   ],
   "source": [
    "const multiplicacao = function(x, y) {\n",
    "    return x * y;\n",
    "}\n",
    "console.log(multiplicacao(10, 2));"
   ]
  },
  {
   "cell_type": "markdown",
   "id": "32958026-a82a-4f23-835f-29c315f015bd",
   "metadata": {},
   "source": [
    "***\n",
    "### Arrow Functions\n",
    "***\n",
    "\n",
    "Nova forma de criação de funções do EC2015"
   ]
  },
  {
   "cell_type": "code",
   "execution_count": 7,
   "id": "a44e787b-396a-4bc7-8352-e00f75c49a6e",
   "metadata": {},
   "outputs": [
    {
     "name": "stdout",
     "output_type": "stream",
     "text": [
      "5\n",
      "Não pode dividir por 0\n"
     ]
    }
   ],
   "source": [
    "const divisao = (x, y) => {\n",
    "    if (y === 0) return \"Não pode dividir por 0\";\n",
    "    return x / y;\n",
    "}\n",
    "console.log(divisao(10, 2));\n",
    "console.log(divisao(10, 0));"
   ]
  },
  {
   "cell_type": "code",
   "execution_count": 8,
   "id": "e99da495-93bf-46bf-9478-833f31152746",
   "metadata": {},
   "outputs": [
    {
     "name": "stdout",
     "output_type": "stream",
     "text": [
      "Ola mundo!\n"
     ]
    }
   ],
   "source": [
    "// Arrow Functions com 1 parâmetro\n",
    "const mostrarTexto = txt => {\n",
    "    console.log(txt);\n",
    "}\n",
    "mostrarTexto(\"Ola mundo!\");"
   ]
  },
  {
   "cell_type": "code",
   "execution_count": 9,
   "id": "91159f67-c731-43b8-b6cc-ff11f9f520b0",
   "metadata": {},
   "outputs": [
    {
     "name": "stdout",
     "output_type": "stream",
     "text": [
      "Ola mundo do arrow functions!\n"
     ]
    }
   ],
   "source": [
    "// Arrow Functions sem parâmetros e inline\n",
    "const olaArrowFunctions = () => console.log(\"Ola mundo do arrow functions!\");\n",
    "olaArrowFunctions();"
   ]
  },
  {
   "cell_type": "markdown",
   "id": "f67d2a5f-f94c-4fe0-a0fa-ac626d6e88de",
   "metadata": {},
   "source": [
    "***\n",
    "### Funções e Loops\n",
    "***"
   ]
  },
  {
   "cell_type": "code",
   "execution_count": 10,
   "id": "9f9dd958-35cf-4f92-ba47-4669627aed96",
   "metadata": {},
   "outputs": [
    {
     "name": "stdout",
     "output_type": "stream",
     "text": [
      "1 x 7 = 7\n",
      "2 x 7 = 14\n",
      "3 x 7 = 21\n",
      "4 x 7 = 28\n",
      "5 x 7 = 35\n",
      "Vou mostrar!\n"
     ]
    }
   ],
   "source": [
    "// Break dentro do loop em funções permanece na função, só sai do loop\n",
    "let n = 7.\n",
    "function tabuadaBreak() {\n",
    "    for (let i = 1; i <= 10; i++) {\n",
    "        console.log(`${i} x ${n} = ${i * n}`);\n",
    "        if (i === 5) break;\n",
    "    }\n",
    "    console.log(\"Vou mostrar!\");\n",
    "}\n",
    "tabuadaBreak();"
   ]
  },
  {
   "cell_type": "code",
   "execution_count": 11,
   "id": "95357bf9-8ec6-4eb0-a0ce-4dccca76f090",
   "metadata": {},
   "outputs": [
    {
     "name": "stdout",
     "output_type": "stream",
     "text": [
      "1 x 7 = 7\n",
      "2 x 7 = 14\n",
      "3 x 7 = 21\n",
      "4 x 7 = 28\n",
      "5 x 7 = 35\n",
      "Terminou!\n"
     ]
    }
   ],
   "source": [
    "// Return dentro do loop em funções sai da função.\n",
    "function tabuadaReturn() {\n",
    "    for (let i = 1; i <= 10; i++) {\n",
    "        console.log(`${i} x ${n} = ${i * n}`);\n",
    "        if (i === 5) return \"Terminou!\";\n",
    "    }\n",
    "    console.log(\"Não vou mostrar!\");\n",
    "}\n",
    "console.log(tabuadaReturn());"
   ]
  },
  {
   "cell_type": "markdown",
   "id": "d7456915-ae41-482b-b487-3954f9d15c40",
   "metadata": {},
   "source": [
    "***\n",
    "### Valor vs Referência\n",
    "***\n",
    "\n",
    "As variáveis podem ser armazenadas por valor ou por referência.\n",
    "\n",
    "Quando você cria uma variável do **tipo primitivo**, essa variável vai armazenar o **valor** que vc atribuiu a aquela variável na memória, ou seja, temos uma **passagem por valor**. Ja as variáveis criadas com o tipo **object** essa armazena o **espaço de memória** com isso temos uma **passagem por referência**.\n",
    "\n",
    "Isso é muito aplicado em funções."
   ]
  },
  {
   "cell_type": "code",
   "execution_count": 12,
   "id": "3badcd18-976c-47fa-a11c-e3d44ce58516",
   "metadata": {},
   "outputs": [
    {
     "name": "stdout",
     "output_type": "stream",
     "text": [
      "true\n"
     ]
    }
   ],
   "source": [
    "// Dentro de cada uma dessas variáveis o pc está armazenando o valor \"a\"\n",
    "let a = \"a\";\n",
    "let _a = \"a\";\n",
    "console.log(a === _a)"
   ]
  },
  {
   "cell_type": "code",
   "execution_count": 13,
   "id": "3da0408c-3a3a-4e4c-b57b-e8bcdab5f709",
   "metadata": {},
   "outputs": [
    {
     "name": "stdout",
     "output_type": "stream",
     "text": [
      "false\n"
     ]
    }
   ],
   "source": [
    "// Quando atribuo um objeto a uma variável o que será armazenado é o espaço da memoria onde ele está armazenado.\n",
    "let b = [];\n",
    "let _b = [];\n",
    "console.log(b === _b);"
   ]
  },
  {
   "cell_type": "code",
   "execution_count": 14,
   "id": "08dd4033-4317-478a-9b44-8ce992ffd0d9",
   "metadata": {},
   "outputs": [
    {
     "name": "stdout",
     "output_type": "stream",
     "text": [
      "true\n"
     ]
    }
   ],
   "source": [
    "// Estou dizendo que a variável b tem o mesmo espaço da memoria que o _b\n",
    "b = _b\n",
    "console.log(b === _b);"
   ]
  },
  {
   "cell_type": "code",
   "execution_count": 15,
   "id": "68cbf959-1b43-41e0-b269-d6035347a705",
   "metadata": {},
   "outputs": [
    {
     "name": "stdout",
     "output_type": "stream",
     "text": [
      "[ 'Teste' ]\n",
      "[ 'Teste' ]\n"
     ]
    }
   ],
   "source": [
    "// Agora que os 2 estão no mesmo espaço de memória, modificar um vai modificar o outro.\n",
    "b[0] = \"Teste\";\n",
    "console.log(b);\n",
    "console.log(_b);"
   ]
  },
  {
   "cell_type": "code",
   "execution_count": 16,
   "id": "3befe27e-15a6-479c-8b7c-9cd9b32e6bd5",
   "metadata": {},
   "outputs": [
    {
     "name": "stdout",
     "output_type": "stream",
     "text": [
      "[ 'Maria', 'Pedro', 'João' ]\n",
      "[ 'Maria', 'Pedro', 'João', 'Victor' ]\n"
     ]
    }
   ],
   "source": [
    "const pessoas = [\"Maria\", \"Pedro\", \"João\"];\n",
    "// Passagem por referência.\n",
    "function passagemPorReferencia(array) {\n",
    "    array.push(\"Victor\")\n",
    "};\n",
    "console.log(pessoas);\n",
    "passagemPorReferencia(pessoas);\n",
    "console.log(pessoas);"
   ]
  },
  {
   "cell_type": "code",
   "execution_count": 17,
   "id": "4b44f4e5-6fc6-4074-94e6-c31530e65983",
   "metadata": {},
   "outputs": [
    {
     "name": "stdout",
     "output_type": "stream",
     "text": [
      "Ola\n",
      "Ola mundo!\n",
      "Ola\n"
     ]
    }
   ],
   "source": [
    "let text = \"Ola\";\n",
    "// Passagem por valor tipo primitivo\n",
    "function passagemPrimitivo(text) {\n",
    "    text += \" mundo!\";\n",
    "    console.log(text);\n",
    "}\n",
    "console.log(text);\n",
    "passagemPrimitivo(text);\n",
    "console.log(text);"
   ]
  },
  {
   "cell_type": "code",
   "execution_count": 18,
   "id": "f3c4b755-63d0-4894-b83d-ed23ec059001",
   "metadata": {},
   "outputs": [
    {
     "name": "stdout",
     "output_type": "stream",
     "text": [
      "[ 'Maria', 'Pedro', 'João', 'Victor' ]\n",
      "[ 'Maria', 'Pedro', 'João', 'Victor', 'Ketlin' ]\n",
      "[ 'Maria', 'Pedro', 'João', 'Victor' ]\n"
     ]
    }
   ],
   "source": [
    "// Passagem por valor com objects\n",
    "function passagemPorValor([...array]) {\n",
    "    array.push(\"Ketlin\");\n",
    "    console.log(array);\n",
    "}\n",
    "console.log(pessoas);\n",
    "passagemPorValor(pessoas);\n",
    "console.log(pessoas);"
   ]
  }
 ],
 "metadata": {
  "kernelspec": {
   "display_name": "JavaScript (Node.js)",
   "language": "javascript",
   "name": "javascript"
  },
  "language_info": {
   "file_extension": ".js",
   "mimetype": "application/javascript",
   "name": "javascript",
   "version": "16.16.0"
  }
 },
 "nbformat": 4,
 "nbformat_minor": 5
}
