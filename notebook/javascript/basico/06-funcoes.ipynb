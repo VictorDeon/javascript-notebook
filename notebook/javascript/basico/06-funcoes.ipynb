{
 "cells": [
  {
   "cell_type": "markdown",
   "id": "b6c3c09e-bb26-4e5a-87bd-0eb3a7e2eae1",
   "metadata": {},
   "source": [
    "## Funções\n",
    "***"
   ]
  },
  {
   "cell_type": "code",
   "execution_count": null,
   "id": "53fc3615-6980-476e-b459-3e4562ae9695",
   "metadata": {},
   "outputs": [],
   "source": []
  }
 ],
 "metadata": {
  "kernelspec": {
   "display_name": "JavaScript (Node.js)",
   "language": "javascript",
   "name": "javascript"
  },
  "language_info": {
   "file_extension": ".js",
   "mimetype": "application/javascript",
   "name": "javascript",
   "version": "16.16.0"
  }
 },
 "nbformat": 4,
 "nbformat_minor": 5
}
