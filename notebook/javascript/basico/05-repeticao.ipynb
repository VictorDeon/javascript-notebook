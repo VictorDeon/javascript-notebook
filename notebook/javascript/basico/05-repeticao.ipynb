{
 "cells": [
  {
   "cell_type": "markdown",
   "id": "3b73f99a-2cde-4730-bc6e-91bff6b80aeb",
   "metadata": {},
   "source": [
    "## Estruturas de Repetição\n",
    "***\n",
    "### FOR LOOP\n",
    "***\n",
    "\n",
    "Sei exatamente quantas vezes o programa vai ser executado"
   ]
  },
  {
   "cell_type": "code",
   "execution_count": 1,
   "id": "4c2ce05e-526b-49b4-a92d-8db0de57b310",
   "metadata": {},
   "outputs": [],
   "source": [
    "let n = 29;"
   ]
  },
  {
   "cell_type": "code",
   "execution_count": 2,
   "id": "23818459-9b4f-4a25-8059-c21445f227b2",
   "metadata": {},
   "outputs": [
    {
     "name": "stdout",
     "output_type": "stream",
     "text": [
      "1 x 29 = 29\n",
      "2 x 29 = 58\n",
      "3 x 29 = 87\n",
      "4 x 29 = 116\n",
      "5 x 29 = 145\n",
      "6 x 29 = 174\n",
      "7 x 29 = 203\n",
      "8 x 29 = 232\n",
      "9 x 29 = 261\n",
      "10 x 29 = 290\n"
     ]
    }
   ],
   "source": [
    "for (let i = 1; i <= 10; i++) {\n",
    "    console.log(`${i} x ${n} = ${i * n}`);\n",
    "}"
   ]
  },
  {
   "cell_type": "markdown",
   "id": "616400d0-338e-43ba-bd2c-0f1311bd4bd8",
   "metadata": {},
   "source": [
    "***\n",
    "### WHILE LOOP\n",
    "***\n",
    "\n",
    "Não necessariamente sabemos quantas vezes o codigo será executado"
   ]
  },
  {
   "cell_type": "code",
   "execution_count": 3,
   "id": "043aae64-2335-4788-8c18-e4464d92c88c",
   "metadata": {},
   "outputs": [
    {
     "name": "stdout",
     "output_type": "stream",
     "text": [
      "1 x 29 = 29\n",
      "2 x 29 = 58\n",
      "3 x 29 = 87\n",
      "4 x 29 = 116\n",
      "5 x 29 = 145\n",
      "6 x 29 = 174\n",
      "7 x 29 = 203\n",
      "8 x 29 = 232\n",
      "9 x 29 = 261\n",
      "10 x 29 = 290\n"
     ]
    },
    {
     "data": {
      "text/plain": [
       "10"
      ]
     },
     "execution_count": 3,
     "metadata": {},
     "output_type": "execute_result"
    }
   ],
   "source": [
    "let i = 1;\n",
    "while (i <= 10) {\n",
    "    console.log(`${i} x ${n} = ${i * n}`);\n",
    "    i++;\n",
    "}"
   ]
  },
  {
   "cell_type": "markdown",
   "id": "6bdc7396-7c28-4bfd-aff6-c72de25205df",
   "metadata": {},
   "source": [
    "***\n",
    "### DO WHILE LOOP\n",
    "***\n",
    "\n",
    "É executado pelo menos 1 vez no código, ou seja, primeiro vai ser executado e depois avaliado se vai continuar a execução, diferente do while que já faz a avaliação antes de executar."
   ]
  },
  {
   "cell_type": "code",
   "execution_count": 4,
   "id": "464458b1-8b8f-4a16-8bc9-acfe8d23acc2",
   "metadata": {},
   "outputs": [
    {
     "name": "stdout",
     "output_type": "stream",
     "text": [
      "1 x 29 = 319\n",
      "2 x 29 = 319\n",
      "3 x 29 = 319\n",
      "4 x 29 = 319\n",
      "5 x 29 = 319\n",
      "6 x 29 = 319\n",
      "7 x 29 = 319\n",
      "8 x 29 = 319\n",
      "9 x 29 = 319\n",
      "10 x 29 = 319\n"
     ]
    },
    {
     "data": {
      "text/plain": [
       "10"
      ]
     },
     "execution_count": 4,
     "metadata": {},
     "output_type": "execute_result"
    }
   ],
   "source": [
    "let j = 1;\n",
    "do {\n",
    "    console.log(`${j} x ${n} = ${i * n}`);\n",
    "    j++;\n",
    "} while (j <= 10)\n"
   ]
  },
  {
   "cell_type": "markdown",
   "id": "fd25d572-14fe-4fe5-b4e3-bf641711ac8c",
   "metadata": {},
   "source": [
    "***\n",
    "### Break vs Continue\n",
    "***\n",
    "\n",
    "Eu consigo interromper um loop (**break**) ou pular para a próxima iteração (**continue**)"
   ]
  },
  {
   "cell_type": "code",
   "execution_count": 5,
   "id": "17de96bb-2643-4c21-afb7-d262f6f10807",
   "metadata": {},
   "outputs": [
    {
     "name": "stdout",
     "output_type": "stream",
     "text": [
      "2 x 29 = 58\n",
      "4 x 29 = 116\n",
      "6 x 29 = 174\n",
      "8 x 29 = 232\n",
      "10 x 29 = 290\n"
     ]
    }
   ],
   "source": [
    "// Tabuada só com os números pares\n",
    "for (let i = 1; i <= 10; i++) {\n",
    "    if (i % 2 !== 0) continue;\n",
    "    console.log(`${i} x ${n} = ${i * n}`);\n",
    "}"
   ]
  },
  {
   "cell_type": "code",
   "execution_count": 6,
   "id": "a9f532f1-60d0-4df3-91fa-8e1d910477ed",
   "metadata": {},
   "outputs": [
    {
     "name": "stdout",
     "output_type": "stream",
     "text": [
      "1 x 29 = 29\n",
      "2 x 29 = 58\n",
      "3 x 29 = 87\n",
      "4 x 29 = 116\n",
      "5 x 29 = 145\n"
     ]
    }
   ],
   "source": [
    "// Finaliza o loop se chegar a 5\n",
    "for (let i = 1; i <= 10; i++) {\n",
    "    console.log(`${i} x ${n} = ${i * n}`);\n",
    "    if (i === 5) break;\n",
    "}"
   ]
  }
 ],
 "metadata": {
  "kernelspec": {
   "display_name": "JavaScript (Node.js)",
   "language": "javascript",
   "name": "javascript"
  },
  "language_info": {
   "file_extension": ".js",
   "mimetype": "application/javascript",
   "name": "javascript",
   "version": "16.16.0"
  }
 },
 "nbformat": 4,
 "nbformat_minor": 5
}
