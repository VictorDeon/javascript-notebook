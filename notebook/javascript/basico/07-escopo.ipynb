{
 "cells": [
  {
   "cell_type": "markdown",
   "id": "036718db-df20-4402-a7db-0440ca9108db",
   "metadata": {},
   "source": [
    "## Escopos\n",
    "***\n",
    "\n",
    "Onde cada variáveis pode ser usada.\n",
    "\n",
    "O **let/const** cria variáveis em escopo de bloco, ou seja, ela não existe fora do bloco na qual foi criada.\n",
    "\n",
    "O **var** não utiliza escopo de bloco e sim de função, não é recomendado utilizar ele."
   ]
  },
  {
   "cell_type": "code",
   "execution_count": 1,
   "id": "6e9942da-e939-44bb-b57e-6be9c93db438",
   "metadata": {},
   "outputs": [
    {
     "name": "stdout",
     "output_type": "stream",
     "text": [
      "Valor de n: Escopo Global\n"
     ]
    }
   ],
   "source": [
    "let n = \"Escopo Global\"\n",
    "console.log(\"Valor de n: \" + n);"
   ]
  },
  {
   "cell_type": "code",
   "execution_count": 2,
   "id": "213928ca-6081-48d6-9e00-94fc5ce91779",
   "metadata": {},
   "outputs": [],
   "source": [
    "// Escopo de função - todas as variáveis declaradas dentro\n",
    "function funcaoAleatoria() {\n",
    "    let x = \"Escopo da função\";\n",
    "    let n = \"Escopo da função\";\n",
    "    console.log(\"Valor de n: \" + n);\n",
    "    \n",
    "    if (true) {\n",
    "        let x = \"Escopo condicional\";\n",
    "        console.log(\"Valor de x: \" + x);\n",
    "    }\n",
    "    \n",
    "    function interna() {\n",
    "        let x = \"Escopo da função interna\";\n",
    "        console.log(\"Valor de x: \" + x);\n",
    "        console.log(\"Valor de n: \" + n + \" externa\");\n",
    "    }\n",
    "    interna();\n",
    "\n",
    "    console.log(\"Valor de x: \" + x);\n",
    "}"
   ]
  },
  {
   "cell_type": "code",
   "execution_count": 3,
   "id": "0bbc41a7-25c0-4bf6-8826-dfd91670f97a",
   "metadata": {},
   "outputs": [
    {
     "name": "stdout",
     "output_type": "stream",
     "text": [
      "Valor de n: Escopo da função\n",
      "Valor de x: Escopo condicional\n",
      "Valor de x: Escopo da função interna\n",
      "Valor de n: Escopo da função externa\n",
      "Valor de x: Escopo da função\n"
     ]
    }
   ],
   "source": [
    "funcaoAleatoria()"
   ]
  },
  {
   "cell_type": "code",
   "execution_count": 4,
   "id": "26718e7b-4d02-48ce-8a7e-4fdb8b0af7c8",
   "metadata": {},
   "outputs": [
    {
     "name": "stdout",
     "output_type": "stream",
     "text": [
      "Valor de n: Escopo Global\n"
     ]
    }
   ],
   "source": [
    "// O valor de n mesmo mudando na função não se altera no escopo global\n",
    "console.log(\"Valor de n: \" + n);"
   ]
  },
  {
   "cell_type": "code",
   "execution_count": 5,
   "id": "448da768-22af-422d-8f3f-818e864733cd",
   "metadata": {},
   "outputs": [
    {
     "ename": "ReferenceError",
     "evalue": "x is not defined",
     "execution_count": 5,
     "output_type": "error",
     "traceback": [
      "evalmachine.<anonymous>:2",
      "console.log(\"Valor de x: \" + x);",
      "                             ^",
      "",
      "ReferenceError: x is not defined",
      "    at evalmachine.<anonymous>:2:30",
      "    at Script.runInThisContext (node:vm:129:12)",
      "    at Object.runInThisContext (node:vm:305:38)",
      "    at run ([eval]:1020:15)",
      "    at onRunRequest ([eval]:864:18)",
      "    at onMessage ([eval]:828:13)",
      "    at process.emit (node:events:527:28)",
      "    at emit (node:internal/child_process:938:14)",
      "    at processTicksAndRejections (node:internal/process/task_queues:84:21)"
     ]
    }
   ],
   "source": [
    "// x não existe fora da função\n",
    "console.log(\"Valor de x: \" + x);"
   ]
  }
 ],
 "metadata": {
  "kernelspec": {
   "display_name": "JavaScript (Node.js)",
   "language": "javascript",
   "name": "javascript"
  },
  "language_info": {
   "file_extension": ".js",
   "mimetype": "application/javascript",
   "name": "javascript",
   "version": "16.16.0"
  }
 },
 "nbformat": 4,
 "nbformat_minor": 5
}
