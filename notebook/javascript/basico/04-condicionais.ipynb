{
 "cells": [
  {
   "cell_type": "markdown",
   "id": "e6317a58-e32b-43c1-a44d-d708e8804f60",
   "metadata": {},
   "source": [
    "## Condicionais\n",
    "***\n",
    "\n",
    "Em uma condicional os valores que são considerados `false` são:\n",
    "\n",
    "```js\n",
    "false == false\n",
    "0 == false\n",
    "\"\" == false\n",
    "NaN == false\n",
    "undefined == false\n",
    "null == false\n",
    "```\n",
    "\n",
    "Todos os outros valores são `true`\n",
    "\n",
    "***\n",
    "### IF-ELSE\n",
    "***"
   ]
  },
  {
   "cell_type": "code",
   "execution_count": 1,
   "id": "3b1f2a81-ecd4-41e8-8353-0d8b80fc265c",
   "metadata": {},
   "outputs": [],
   "source": [
    "let idade = 21;\n",
    "let paisPresente = false;\n",
    "let comprouBilhete = true;\n",
    "const podeViajar = (idade >= 18 || paisPresentes) && comprouBilhete;"
   ]
  },
  {
   "cell_type": "code",
   "execution_count": 2,
   "id": "82e79b7d-3d6a-4deb-baeb-f398e1b5107c",
   "metadata": {},
   "outputs": [
    {
     "name": "stdout",
     "output_type": "stream",
     "text": [
      "true\n"
     ]
    }
   ],
   "source": [
    "console.log(podeViajar);"
   ]
  },
  {
   "cell_type": "code",
   "execution_count": 3,
   "id": "fab38101-d9f4-4512-88a6-7e3e0bcf52d1",
   "metadata": {},
   "outputs": [
    {
     "name": "stdout",
     "output_type": "stream",
     "text": [
      "Pode viajar tranquilamente.\n"
     ]
    }
   ],
   "source": [
    "if (podeViajar) {\n",
    "    console.log(\"Pode viajar tranquilamente.\");\n",
    "} else {\n",
    "    console.log(\"Não pode viajar.\");\n",
    "}"
   ]
  },
  {
   "cell_type": "code",
   "execution_count": 4,
   "id": "b851d2e8-fba8-4cf2-9520-5eaf4cd4e266",
   "metadata": {},
   "outputs": [
    {
     "name": "stdout",
     "output_type": "stream",
     "text": [
      "Pode tirar cateira!\n"
     ]
    }
   ],
   "source": [
    "if (idade > 100) {\n",
    "    console.log(\"Não pode tirar carteira\");\n",
    "} else if (idade >= 18) {\n",
    "    console.log(\"Pode tirar cateira!\");\n",
    "} else {\n",
    "    console.log(\"Não pode tirar carteira\");\n",
    "}"
   ]
  },
  {
   "cell_type": "code",
   "execution_count": 5,
   "id": "a9a365fb-f515-42dd-8850-2bde823f2377",
   "metadata": {},
   "outputs": [
    {
     "name": "stdout",
     "output_type": "stream",
     "text": [
      "É maior de idade, pode viajar!\n"
     ]
    }
   ],
   "source": [
    "if (!comprouBilhete) {\n",
    "    console.log(\"Não comprou bilhete.\");\n",
    "} else {\n",
    "    if (idade >= 18) {\n",
    "        console.log(\"É maior de idade, pode viajar!\");\n",
    "    } else {\n",
    "        console.log(\"É menor de idade\");\n",
    "    }\n",
    "}"
   ]
  },
  {
   "cell_type": "markdown",
   "id": "63923fcf-68ee-4317-9402-90bcd94de9b8",
   "metadata": {},
   "source": [
    "***\n",
    "### Operador Ternário\n",
    "***"
   ]
  },
  {
   "cell_type": "code",
   "execution_count": 6,
   "id": "7776115a-2b98-42ba-9038-34e07197dcbb",
   "metadata": {},
   "outputs": [
    {
     "name": "stdout",
     "output_type": "stream",
     "text": [
      "Pode tirar carteira\n"
     ]
    }
   ],
   "source": [
    "let msgIdade = \"\";\n",
    "msgIdade = idade >= 18 ? \"Pode tirar carteira\" : \"Não pode tirar carteira\";\n",
    "console.log(msgIdade);"
   ]
  },
  {
   "cell_type": "code",
   "execution_count": 7,
   "id": "a5b30864-05f6-4b94-ba0e-e71d7d3b7c57",
   "metadata": {},
   "outputs": [
    {
     "name": "stdout",
     "output_type": "stream",
     "text": [
      "Adulto\n"
     ]
    }
   ],
   "source": [
    "msgIdade = idade >= 18 ? \"Adulto\" : idade >= 40 ? \"Velho\" : \"Jovem\";\n",
    "console.log(msgIdade);"
   ]
  },
  {
   "cell_type": "markdown",
   "id": "92335fd6-9568-47d5-a03b-a0f4718ee95d",
   "metadata": {},
   "source": [
    "***\n",
    "### Curto Circuito\n",
    "***"
   ]
  },
  {
   "cell_type": "code",
   "execution_count": 8,
   "id": "0c453fad-4999-4bc8-ae4b-d233355d7b71",
   "metadata": {},
   "outputs": [
    {
     "name": "stdout",
     "output_type": "stream",
     "text": [
      "10\n"
     ]
    }
   ],
   "source": [
    "let n = 0;\n",
    "x = n || 10;\n",
    "console.log(x);"
   ]
  },
  {
   "cell_type": "code",
   "execution_count": 9,
   "id": "420253a5-cd57-4d5e-8e22-23ec8894a18a",
   "metadata": {},
   "outputs": [
    {
     "name": "stdout",
     "output_type": "stream",
     "text": [
      "É valido!\n"
     ]
    }
   ],
   "source": [
    "let isValid = true;\n",
    "console.log(isValid && \"É valido!\");"
   ]
  },
  {
   "cell_type": "markdown",
   "id": "a27cc085-c08d-4fcd-89ca-fdae62c3b311",
   "metadata": {},
   "source": [
    "***\n",
    "### SWITCH CASE\n",
    "***"
   ]
  },
  {
   "cell_type": "code",
   "execution_count": 10,
   "id": "31e3ae57-fcf2-4897-a344-c411410f5f7f",
   "metadata": {},
   "outputs": [
    {
     "name": "stdout",
     "output_type": "stream",
     "text": [
      "Quarta\n"
     ]
    }
   ],
   "source": [
    "let diaDaSemana = 3\n",
    "if (diaDaSemana === 0)\n",
    "    console.log(\"Domingo\");\n",
    "else if (diaDaSemana === 1)\n",
    "    console.log(\"Segunda\");\n",
    "else if (diaDaSemana === 2)\n",
    "    console.log(\"Terça\");\n",
    "else if (diaDaSemana === 3)\n",
    "    console.log(\"Quarta\");\n",
    "else if (diaDaSemana === 4)\n",
    "    console.log(\"Quinta\");\n",
    "else if (diaDaSemana === 5)\n",
    "    console.log(\"Sexta\");\n",
    "else if (diaDaSemana === 6)\n",
    "    console.log(\"Sabado\");\n",
    "else\n",
    "    console.log(\"Dia de semana não conhecido!\");"
   ]
  },
  {
   "cell_type": "code",
   "execution_count": 11,
   "id": "39b9b91d-87e8-4c43-ae63-617424eed67b",
   "metadata": {},
   "outputs": [
    {
     "name": "stdout",
     "output_type": "stream",
     "text": [
      "Quarta\n"
     ]
    }
   ],
   "source": [
    "// Compara valor e tipo\n",
    "switch(diaDaSemana) {\n",
    "    case 0:\n",
    "        console.log(\"Domingo\");\n",
    "        break;\n",
    "    case 1:\n",
    "        console.log(\"Segunda\");\n",
    "        break;\n",
    "    case 2:\n",
    "        console.log(\"Terça\");\n",
    "        break;\n",
    "    case 3:\n",
    "        console.log(\"Quarta\");\n",
    "        break;\n",
    "    case 4:\n",
    "        console.log(\"Quinta\");\n",
    "        break;\n",
    "    case 5:\n",
    "        console.log(\"Sexta\");\n",
    "        break;\n",
    "    case 6:\n",
    "        console.log(\"Sabado\");\n",
    "        break;\n",
    "    default:\n",
    "        console.log(\"Dia de semana não conhecido!\");\n",
    "}"
   ]
  },
  {
   "cell_type": "code",
   "execution_count": 12,
   "id": "b09b67a2-350e-4864-9882-e182a0298431",
   "metadata": {},
   "outputs": [
    {
     "name": "stdout",
     "output_type": "stream",
     "text": [
      "Quarta\n",
      "Quinta\n",
      "Sexta\n",
      "Sabado\n",
      "Dia de semana não conhecido!\n"
     ]
    }
   ],
   "source": [
    "// Testando o caso sem o break\n",
    "switch(diaDaSemana) {\n",
    "    case 0:\n",
    "        console.log(\"Domingo\");\n",
    "    case 1:\n",
    "        console.log(\"Segunda\");\n",
    "    case 2:\n",
    "        console.log(\"Terça\");\n",
    "    case 3:\n",
    "        console.log(\"Quarta\");\n",
    "    case 4:\n",
    "        console.log(\"Quinta\");\n",
    "    case 5:\n",
    "        console.log(\"Sexta\");\n",
    "    case 6:\n",
    "        console.log(\"Sabado\");\n",
    "    default:\n",
    "        console.log(\"Dia de semana não conhecido!\");\n",
    "}"
   ]
  }
 ],
 "metadata": {
  "kernelspec": {
   "display_name": "JavaScript (Node.js)",
   "language": "javascript",
   "name": "javascript"
  },
  "language_info": {
   "file_extension": ".js",
   "mimetype": "application/javascript",
   "name": "javascript",
   "version": "16.16.0"
  }
 },
 "nbformat": 4,
 "nbformat_minor": 5
}
