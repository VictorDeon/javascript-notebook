{
 "cells": [
  {
   "cell_type": "markdown",
   "id": "97345f6c-d8dd-44e5-8172-9f03da11ec5c",
   "metadata": {},
   "source": [
    "## Tratamento de erros\n",
    "***\n",
    "\n",
    "Nada mais é a forma como tratamos os erros no JS"
   ]
  },
  {
   "cell_type": "code",
   "execution_count": 1,
   "id": "f588699c-f774-4eae-9fdd-af38cd2aa31a",
   "metadata": {},
   "outputs": [],
   "source": [
    "function divisao(x, y) {\n",
    "    if (y === 0) {\n",
    "        throw Error(\"Não se pode dividir por 0!\");\n",
    "    }\n",
    "    return x / y;\n",
    "}"
   ]
  },
  {
   "cell_type": "code",
   "execution_count": 2,
   "id": "ad861953-b731-4222-8f1a-c17acee408fb",
   "metadata": {},
   "outputs": [
    {
     "name": "stdout",
     "output_type": "stream",
     "text": [
      "5\n",
      "Executa independente de gerar error ou não\n"
     ]
    }
   ],
   "source": [
    "// Não vai ter nenhum error\n",
    "try {\n",
    "    console.log(divisao(10, 2));\n",
    "} catch(e) {\n",
    "    console.log(`Error: ${e.message}`);\n",
    "} finally {\n",
    "    console.log(\"Executa independente de gerar error ou não\");\n",
    "}"
   ]
  },
  {
   "cell_type": "code",
   "execution_count": 3,
   "id": "adc580e3-b3d2-4a23-8216-0b167d3e3713",
   "metadata": {},
   "outputs": [
    {
     "name": "stdout",
     "output_type": "stream",
     "text": [
      "Error: Não se pode dividir por 0!\n",
      "Executa independente de gerar error ou não\n",
      "Programa continua após tratar o error\n"
     ]
    }
   ],
   "source": [
    "// Vai ter error\n",
    "try {\n",
    "    console.log(divisao(10, 0));\n",
    "} catch(e) {\n",
    "    console.log(`Error: ${e.message}`);\n",
    "} finally {\n",
    "    console.log(\"Executa independente de gerar error ou não\");\n",
    "}\n",
    "console.log(\"Programa continua após tratar o error\");"
   ]
  }
 ],
 "metadata": {
  "kernelspec": {
   "display_name": "JavaScript (Node.js)",
   "language": "javascript",
   "name": "javascript"
  },
  "language_info": {
   "file_extension": ".js",
   "mimetype": "application/javascript",
   "name": "javascript",
   "version": "16.16.0"
  }
 },
 "nbformat": 4,
 "nbformat_minor": 5
}
