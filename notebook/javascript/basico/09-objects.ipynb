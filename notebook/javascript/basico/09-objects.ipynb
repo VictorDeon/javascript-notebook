{
 "cells": [
  {
   "cell_type": "markdown",
   "id": "043359f5-34af-4696-b8ed-ad7518992a15",
   "metadata": {},
   "source": [
    "## Objetos\n",
    "***\n",
    "\n",
    "Estrutura da memória que armazena um conjunto de dados nomeados com chave e valor"
   ]
  },
  {
   "cell_type": "code",
   "execution_count": 1,
   "id": "833e8c43-7480-4feb-ac58-d75c4e677bb8",
   "metadata": {},
   "outputs": [
    {
     "name": "stdout",
     "output_type": "stream",
     "text": [
      "{}\n",
      "{ nome: 'Daniel Santos', idade: 40 }\n",
      "{ nome: 'Maria Fatima', idade: 55 }\n"
     ]
    }
   ],
   "source": [
    "// Iniciando um objeto.\n",
    "const pessoa = {}  // new Object()\n",
    "const daniel = {\n",
    "    nome: \"Daniel Santos\",\n",
    "    idade: 40\n",
    "}\n",
    "const maria = {\n",
    "    nome: \"Maria Fatima\",\n",
    "    idade: 55\n",
    "}\n",
    "console.log(pessoa);\n",
    "console.log(daniel);\n",
    "console.log(maria);"
   ]
  },
  {
   "cell_type": "code",
   "execution_count": 2,
   "id": "d0e61bfb-c8ce-4269-b311-60b870014cd6",
   "metadata": {},
   "outputs": [
    {
     "name": "stdout",
     "output_type": "stream",
     "text": [
      "Daniel Santos\n",
      "Maria Fatima\n",
      "40\n",
      "55\n",
      "undefined\n",
      "undefined\n"
     ]
    }
   ],
   "source": [
    "// Como pegar algum dado desses objetos\n",
    "console.log(daniel.nome);\n",
    "console.log(maria['nome']);\n",
    "console.log(daniel.idade);\n",
    "console.log(maria['idade']);\n",
    "console.log(daniel.cpf);   // não foi criado essa variavel.\n",
    "console.log(maria['cpf']); // não foi criado essa variavel."
   ]
  },
  {
   "cell_type": "code",
   "execution_count": 3,
   "id": "496f5f21-d5cd-4e65-bbc4-154a83e23ae9",
   "metadata": {},
   "outputs": [
    {
     "name": "stdout",
     "output_type": "stream",
     "text": [
      "{ nome: 'Victor Hugo', idade: 29 }\n"
     ]
    }
   ],
   "source": [
    "// E se a gente quiser montar o objeto de outra forma\n",
    "pessoa.nome = \"Victor Hugo\";\n",
    "pessoa['idade'] = 29;\n",
    "console.log(pessoa);"
   ]
  },
  {
   "cell_type": "markdown",
   "id": "cc6ffead-32fe-48b3-bc8f-18c3b26e8a6f",
   "metadata": {},
   "source": [
    "***\n",
    "### Iterando sobre um objeto\n",
    "***"
   ]
  },
  {
   "cell_type": "code",
   "execution_count": 4,
   "id": "248332dd-8941-419c-8bdc-1a4cc54a3a23",
   "metadata": {},
   "outputs": [
    {
     "name": "stdout",
     "output_type": "stream",
     "text": [
      "{ nome: 'Maria', idade: 55, email: 'maria@gmail.com' }\n"
     ]
    }
   ],
   "source": [
    "const novaPessoa = {\n",
    "    nome: \"Maria\",\n",
    "    idade: 55,\n",
    "    email: \"maria@gmail.com\"\n",
    "};\n",
    "console.log(novaPessoa);"
   ]
  },
  {
   "cell_type": "code",
   "execution_count": 5,
   "id": "f37cf181-a40a-4582-9369-b053a4ccf3c0",
   "metadata": {},
   "outputs": [
    {
     "name": "stdout",
     "output_type": "stream",
     "text": [
      "nome: Maria\n",
      "idade: 55\n",
      "email: maria@gmail.com\n"
     ]
    }
   ],
   "source": [
    "// Forin irá iterar sobre as propriedades de um objeto.\n",
    "for (let key in novaPessoa) {\n",
    "    console.log(`${key}: ${novaPessoa[key]}`);\n",
    "}"
   ]
  },
  {
   "cell_type": "markdown",
   "id": "d8e5af7a-fd01-4356-abfd-c7212f2a6795",
   "metadata": {},
   "source": [
    "***\n",
    "### Métodos de um objeto\n",
    "***\n",
    "\n",
    "Nada mais é que funções atreladas a objetos."
   ]
  },
  {
   "cell_type": "code",
   "execution_count": 6,
   "id": "622e4c5a-52cd-4bad-9530-232b6024a53b",
   "metadata": {},
   "outputs": [
    {
     "name": "stdout",
     "output_type": "stream",
     "text": [
      "{\n",
      "  nome: 'Caneta',\n",
      "  qtd: 10,\n",
      "  comprar: [Function: comprar],\n",
      "  vender: [Function: vender],\n",
      "  mostrar: [Function: mostrar]\n",
      "}\n",
      "{\n",
      "  nome: 'Caneta',\n",
      "  qtd: 17,\n",
      "  comprar: [Function: comprar],\n",
      "  vender: [Function: vender],\n",
      "  mostrar: [Function: mostrar]\n",
      "}\n",
      "{\n",
      "  nome: 'Caneta',\n",
      "  qtd: 12,\n",
      "  comprar: [Function: comprar],\n",
      "  vender: [Function: vender],\n",
      "  mostrar: [Function: mostrar]\n",
      "}\n",
      "Produto undefined tem undefined itens\n"
     ]
    }
   ],
   "source": [
    "const produto = {\n",
    "    nome: \"Caneta\",\n",
    "    qtd: 10,\n",
    "    comprar(qtd) { this.qtd += qtd },\n",
    "    vender(qtd) {\n",
    "        if (qtd > this.qtd) {\n",
    "            return \"Valor maior do que o estoque!\"\n",
    "        }\n",
    "        this.qtd -= qtd;\n",
    "    },\n",
    "    mostrar: () => {\n",
    "        // Arrow functions this é um objeto vazio {} ou window do navegador.\n",
    "        // Logo não vai funcionar o print abaixo\n",
    "        console.log(`Produto ${this.nome} tem ${this.qtd} itens`);\n",
    "    }\n",
    "};\n",
    "console.log(produto);\n",
    "produto.comprar(7);\n",
    "console.log(produto);\n",
    "produto.vender(5);\n",
    "console.log(produto);\n",
    "produto.vender(20);\n",
    "produto.mostrar();"
   ]
  }
 ],
 "metadata": {
  "kernelspec": {
   "display_name": "JavaScript (Node.js)",
   "language": "javascript",
   "name": "javascript"
  },
  "language_info": {
   "file_extension": ".js",
   "mimetype": "application/javascript",
   "name": "javascript",
   "version": "16.16.0"
  }
 },
 "nbformat": 4,
 "nbformat_minor": 5
}
