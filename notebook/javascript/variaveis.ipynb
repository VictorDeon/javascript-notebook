{
 "cells": [
  {
   "cell_type": "markdown",
   "id": "020b85b6-c05d-474a-87ef-2cf342fb9e1e",
   "metadata": {},
   "source": [
    "## Variáveis\n",
    "***\n",
    "\n",
    "Nada mais são que nomes na memória que consigo armazenar valores.\n",
    "\n",
    "Podemos criar variáveis de 3 formas:\n",
    "\n",
    "* **var**: É do ES5 e funciona em vários browsers, ou seja, é cross-browsers.\n",
    "* **let**: Vieram a partir da versão ES2015, é editavel\n",
    "* **const**: Vieram a partir da versão ES2015, não é editavel, ou seja, é uma constante.\n",
    "\n",
    "O [babel](https://babeljs.io/) transforma os códigos mais novos em mais antigos.\n",
    "Podemos verificar as compatibilidades aos browsers das novas features do ES6 no site do [kangax](https://kangax.github.io/compat-table/es6/) ou o [caniuse](https://caniuse.com/)"
   ]
  },
  {
   "cell_type": "code",
   "execution_count": 1,
   "id": "85ca70b5-6935-49bc-8a20-90a126e5ede4",
   "metadata": {},
   "outputs": [
    {
     "name": "stdout",
     "output_type": "stream",
     "text": [
      "minha string\n",
      "10\n"
     ]
    }
   ],
   "source": [
    "// Você pode modificar o valor da variável let\n",
    "let teste1 = \"minha string\";\n",
    "console.log(teste1);\n",
    "teste1 = 10;\n",
    "console.log(teste1);"
   ]
  },
  {
   "cell_type": "code",
   "execution_count": 2,
   "id": "4081f5a4-1837-45c6-a0e9-d736e90dd424",
   "metadata": {},
   "outputs": [
    {
     "name": "stdout",
     "output_type": "stream",
     "text": [
      "Redeclarado\n",
      "10\n"
     ]
    }
   ],
   "source": [
    "// Com var podemos redeclarar variáveis\n",
    "var teste2 = \"Redeclarado\";\n",
    "console.log(teste2);\n",
    "var teste2 = 10;\n",
    "console.log(teste2);"
   ]
  },
  {
   "cell_type": "code",
   "execution_count": 3,
   "id": "6a8acffe-d640-480b-8eb6-f368183c7a97",
   "metadata": {},
   "outputs": [
    {
     "ename": "SyntaxError",
     "evalue": "Identifier 'teste1' has already been declared",
     "execution_count": 3,
     "output_type": "error",
     "traceback": [
      "evalmachine.<anonymous>:1",
      "// Seu eu redeclarar com let causa um error",
      "^",
      "",
      "SyntaxError: Identifier 'teste1' has already been declared",
      "    at Script.runInThisContext (node:vm:129:12)",
      "    at Object.runInThisContext (node:vm:305:38)",
      "    at run ([eval]:1020:15)",
      "    at onRunRequest ([eval]:864:18)",
      "    at onMessage ([eval]:828:13)",
      "    at process.emit (node:events:527:28)",
      "    at emit (node:internal/child_process:938:14)",
      "    at processTicksAndRejections (node:internal/process/task_queues:84:21)"
     ]
    }
   ],
   "source": [
    "// Seu eu redeclarar com let causa um error\n",
    "let teste1 = \"Redeclarado\";"
   ]
  },
  {
   "cell_type": "code",
   "execution_count": 4,
   "id": "de1d9d9c-2466-4596-92e9-1fe490762910",
   "metadata": {},
   "outputs": [
    {
     "name": "stdout",
     "output_type": "stream",
     "text": [
      "10\n"
     ]
    }
   ],
   "source": [
    "// Vamos criar uma constante, é igual ao let mas não pode ser alterada\n",
    "const teste3 = 10\n",
    "console.log(teste3);"
   ]
  },
  {
   "cell_type": "code",
   "execution_count": 5,
   "id": "ae6d90bd-ec93-4667-a132-10db7a9d329b",
   "metadata": {},
   "outputs": [
    {
     "ename": "TypeError",
     "evalue": "Assignment to constant variable.",
     "execution_count": 5,
     "output_type": "error",
     "traceback": [
      "evalmachine.<anonymous>:2",
      "teste3 = 5",
      "       ^",
      "",
      "TypeError: Assignment to constant variable.",
      "    at evalmachine.<anonymous>:2:8",
      "    at Script.runInThisContext (node:vm:129:12)",
      "    at Object.runInThisContext (node:vm:305:38)",
      "    at run ([eval]:1020:15)",
      "    at onRunRequest ([eval]:864:18)",
      "    at onMessage ([eval]:828:13)",
      "    at process.emit (node:events:527:28)",
      "    at emit (node:internal/child_process:938:14)",
      "    at processTicksAndRejections (node:internal/process/task_queues:84:21)"
     ]
    }
   ],
   "source": [
    "// Não pode reatribuir valor a constante.\n",
    "teste3 = 5"
   ]
  },
  {
   "cell_type": "code",
   "execution_count": 6,
   "id": "427b174c-bc2e-4035-870c-e9e1cb555d86",
   "metadata": {},
   "outputs": [
    {
     "data": {
      "text/plain": [
       "10"
      ]
     },
     "execution_count": 6,
     "metadata": {},
     "output_type": "execute_result"
    }
   ],
   "source": [
    "// Podemos criar a variável e so depois inserir o valor com o let mas não com o const;\n",
    "let teste4;\n",
    "teste4 = 10;"
   ]
  },
  {
   "cell_type": "code",
   "execution_count": 7,
   "id": "424b23c8-55c7-44ee-bf62-39b88831dad4",
   "metadata": {},
   "outputs": [
    {
     "ename": "SyntaxError",
     "evalue": "Missing initializer in const declaration",
     "execution_count": 7,
     "output_type": "error",
     "traceback": [
      "evalmachine.<anonymous>:2",
      "const teste5;",
      "      ^^^^^^",
      "",
      "SyntaxError: Missing initializer in const declaration",
      "    at new Script (node:vm:100:7)",
      "    at createScript (node:vm:257:10)",
      "    at Object.runInThisContext (node:vm:305:10)",
      "    at run ([eval]:1020:15)",
      "    at onRunRequest ([eval]:864:18)",
      "    at onMessage ([eval]:828:13)",
      "    at process.emit (node:events:527:28)",
      "    at emit (node:internal/child_process:938:14)",
      "    at processTicksAndRejections (node:internal/process/task_queues:84:21)"
     ]
    }
   ],
   "source": [
    "// Com o constante não se pode fazer isso\n",
    "const teste5;\n",
    "teste5 = 10;"
   ]
  }
 ],
 "metadata": {
  "kernelspec": {
   "display_name": "JavaScript (Node.js)",
   "language": "javascript",
   "name": "javascript"
  },
  "language_info": {
   "file_extension": ".js",
   "mimetype": "application/javascript",
   "name": "javascript",
   "version": "16.16.0"
  }
 },
 "nbformat": 4,
 "nbformat_minor": 5
}
