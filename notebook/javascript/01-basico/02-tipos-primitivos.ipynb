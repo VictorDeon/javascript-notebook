{
 "cells": [
  {
   "cell_type": "markdown",
   "id": "89c80116-9410-4d71-8eaa-9bc0812bdf05",
   "metadata": {},
   "source": [
    "## Tipos primitivos\n",
    "***\n",
    "\n",
    "No javascript temos alguns tipos primitivos, ele são tipos que são passados por valor.\n",
    "\n",
    "Não se pode começar variáveis com números, e não pode ter caracteres especiais só _ e $"
   ]
  },
  {
   "cell_type": "code",
   "execution_count": 1,
   "id": "986c32f5-62ba-45bb-9a96-c282d8c1ee72",
   "metadata": {},
   "outputs": [
    {
     "name": "stdout",
     "output_type": "stream",
     "text": [
      "number\n"
     ]
    }
   ],
   "source": [
    "// Verificar o tipo de uma variável\n",
    "let x = 10\n",
    "console.log(typeof x)"
   ]
  },
  {
   "cell_type": "code",
   "execution_count": 2,
   "id": "82978094-bdcb-49a8-b6d0-405935e2a214",
   "metadata": {},
   "outputs": [
    {
     "name": "stdout",
     "output_type": "stream",
     "text": [
      "Minha 'string' com aspas duplas\n",
      "Minha \"string\" com aspas simples\n",
      "Minha \"string\" com escape de caracteres\n",
      "Quebra de String, Proxima string\n",
      "Minha 'string' com aspas duplas com interpolação de string!\n",
      "Eu possuo 40 anos\n"
     ]
    }
   ],
   "source": [
    "// String\n",
    "let minhaString1 = \"Minha 'string' com aspas duplas\";\n",
    "console.log(minhaString1);\n",
    "\n",
    "let minhaString2 = 'Minha \"string\" com aspas simples';\n",
    "console.log(minhaString2);\n",
    "\n",
    "// Escape de caracteres\n",
    "let minhaString3 = \"Minha \\\"string\\\" com escape de caracteres\";\n",
    "console.log(minhaString3);\n",
    "\n",
    "// Quebra de string\n",
    "let minhaString4 = \"Quebra de String, \" +\n",
    "                   \"Proxima string\";\n",
    "console.log(minhaString4);\n",
    "\n",
    "// Interpolação de string\n",
    "let minhaString5 = `${minhaString1} com interpolação de string!`;\n",
    "console.log(minhaString5)\n",
    "\n",
    "// Concatenação de string\n",
    "let idade = 40\n",
    "let mensagem = \"Eu possuo \" + idade + \" anos\";\n",
    "console.log(mensagem);"
   ]
  },
  {
   "cell_type": "code",
   "execution_count": 3,
   "id": "57cbf4ba-93be-4063-9b2b-f3a53c5d0781",
   "metadata": {},
   "outputs": [
    {
     "name": "stdout",
     "output_type": "stream",
     "text": [
      "O tipo de n1 é number e seu valor é 10\n",
      "O tipo de n1 é number e seu valor é 1.1\n"
     ]
    }
   ],
   "source": [
    "// Number (inteiro, floats)\n",
    "const v1 = 10;\n",
    "const v2 = 1.1;\n",
    "console.log(`O tipo de n1 é ${typeof v1} e seu valor é ${v1}`);\n",
    "console.log(`O tipo de n1 é ${typeof v2} e seu valor é ${v2}`);"
   ]
  },
  {
   "cell_type": "code",
   "execution_count": 4,
   "id": "c2718662-8b9e-4fcb-bc6d-5f71e7244520",
   "metadata": {},
   "outputs": [
    {
     "name": "stdout",
     "output_type": "stream",
     "text": [
      "O tipo de isValid é boolean e seu valor é true\n",
      "O tipo de isValid é boolean e seu valor oposto é false\n"
     ]
    }
   ],
   "source": [
    "// Boolean\n",
    "const isValid = true;\n",
    "console.log(`O tipo de isValid é ${typeof isValid} e seu valor é ${isValid}`);\n",
    "console.log(`O tipo de isValid é ${typeof isValid} e seu valor oposto é ${!isValid}`);"
   ]
  },
  {
   "cell_type": "code",
   "execution_count": 5,
   "id": "b451f0bd-a7e6-4239-8aca-70b41ef0fbbe",
   "metadata": {},
   "outputs": [
    {
     "name": "stdout",
     "output_type": "stream",
     "text": [
      "undefined undefined\n",
      "number 10\n",
      "object null\n"
     ]
    }
   ],
   "source": [
    "// undefined, null\n",
    "let notExist = undefined; // Foi declarada mas não foi atribuido nenhum valor a ela.\n",
    "console.log(typeof notExist, notExist);\n",
    "notExist = 10; // Agora passei o valor para ela.\n",
    "console.log(typeof notExist, notExist);\n",
    "let nulo = null; // Essa variável não tem nenhum valor.\n",
    "console.log(typeof nulo, nulo);"
   ]
  },
  {
   "cell_type": "markdown",
   "id": "766c3ff1-4297-4ce8-aed7-f711a1863358",
   "metadata": {},
   "source": [
    "### Conversão de tipos\n",
    "***\n",
    "\n",
    "Como podemos converter um tipo para o outro em javascript."
   ]
  },
  {
   "cell_type": "code",
   "execution_count": 6,
   "id": "65b13148-0cc4-4349-aff0-4dedd81e7516",
   "metadata": {},
   "outputs": [
    {
     "name": "stdout",
     "output_type": "stream",
     "text": [
      "number string\n",
      "50\n",
      "105\n"
     ]
    }
   ],
   "source": [
    "// Quando eu multiplico um inteiro por uma string que representa um numero o JS\n",
    "// faz uma conversão implicita, ou seja, por baixo dos panos ele faz a conversão\n",
    "// da string para numero, não funciona para o sinal de + pois ele é usado para concatenação.\n",
    "let n1 = 10;\n",
    "let n2 = \"5\";\n",
    "console.log(typeof n1, typeof n2);\n",
    "console.log(n1 * n2);\n",
    "console.log(n1 + n2);"
   ]
  },
  {
   "cell_type": "code",
   "execution_count": 7,
   "id": "c7bcc054-08d0-4c7d-80e8-f0fe82ef79c2",
   "metadata": {},
   "outputs": [
    {
     "name": "stdout",
     "output_type": "stream",
     "text": [
      "string 5\n",
      "number 5\n"
     ]
    }
   ],
   "source": [
    "// parseInt\n",
    "console.log(typeof n2, n2);\n",
    "n2 = parseInt(n2)\n",
    "console.log(typeof n2, n2);"
   ]
  },
  {
   "cell_type": "code",
   "execution_count": 8,
   "id": "f47d4440-82cb-44d5-8bd2-fdd38095dee8",
   "metadata": {},
   "outputs": [
    {
     "name": "stdout",
     "output_type": "stream",
     "text": [
      "string 10.44\n",
      "number 10.44\n"
     ]
    }
   ],
   "source": [
    "// parseFloat\n",
    "let n3 = \"10.44\";\n",
    "console.log(typeof n3, n3);\n",
    "n3 = parseFloat(n3);\n",
    "console.log(typeof n3, n3);"
   ]
  },
  {
   "cell_type": "code",
   "execution_count": 9,
   "id": "8d40d8e5-1541-4ad7-ad60-bb308b715287",
   "metadata": {},
   "outputs": [
    {
     "name": "stdout",
     "output_type": "stream",
     "text": [
      "number 10\n",
      "string 10\n"
     ]
    }
   ],
   "source": [
    "// toString\n",
    "console.log(typeof n1, n1);\n",
    "n1 = n1.toString();\n",
    "console.log(typeof n1, n1);"
   ]
  },
  {
   "cell_type": "code",
   "execution_count": 10,
   "id": "482c0c77-8881-4cd7-bc74-8435cd04ff5e",
   "metadata": {},
   "outputs": [
    {
     "name": "stdout",
     "output_type": "stream",
     "text": [
      "string 10.44\n",
      "number 10.44\n"
     ]
    }
   ],
   "source": [
    "// Number (não converte se tiver algum char ao redor do numero. Ex: 12as)\n",
    "n3 = \"10.44\";\n",
    "console.log(typeof n3, n3);\n",
    "n3 = Number(n3);\n",
    "console.log(typeof n3, n3);"
   ]
  },
  {
   "cell_type": "code",
   "execution_count": 11,
   "id": "3b09a765-f697-4df7-85de-0f86d3af11d2",
   "metadata": {},
   "outputs": [
    {
     "name": "stdout",
     "output_type": "stream",
     "text": [
      "string 13.23ade2df293fdq03\n",
      "number 13.23\n"
     ]
    }
   ],
   "source": [
    "// Os parsers descarta strings a mais e pego a primeira ocorrencia de numero\n",
    "let n4 = \"13.23ade2df293fdq03\";\n",
    "console.log(typeof n4, n4);\n",
    "n4 = parseFloat(n4);\n",
    "console.log(typeof n4, n4);"
   ]
  },
  {
   "cell_type": "code",
   "execution_count": 12,
   "id": "b46a69cf-fc3c-42dc-a530-a1bd8ee48b7d",
   "metadata": {},
   "outputs": [
    {
     "name": "stdout",
     "output_type": "stream",
     "text": [
      "string as12.3433md3209\n",
      "number NaN\n"
     ]
    }
   ],
   "source": [
    "// Se eu tiver letras antes dos numeros retorna NaN (not a number)\n",
    "let n5 = \"as12.3433md3209\";\n",
    "console.log(typeof n5, n5);\n",
    "n5 = parseFloat(n5);\n",
    "console.log(typeof n5, n5);"
   ]
  },
  {
   "cell_type": "markdown",
   "id": "ee417e55-04f2-4bc1-8f3b-5692a78c5479",
   "metadata": {},
   "source": [
    "### Tipos numericos com bases diferentes\n",
    "***"
   ]
  },
  {
   "cell_type": "code",
   "execution_count": 13,
   "id": "3ff1c00f-3838-4ef3-9211-ee3a1a35d606",
   "metadata": {},
   "outputs": [
    {
     "name": "stdout",
     "output_type": "stream",
     "text": [
      "number 10\n",
      "string 10\n"
     ]
    }
   ],
   "source": [
    "// Conversão para string com outras bases\n",
    "// Decimais -> 0 - 9 = 0,1,2,3,4,5,6,7,8,9\n",
    "let n6 = 10;\n",
    "console.log(typeof n6, n6);\n",
    "n6 = n6.toString(10);\n",
    "console.log(typeof n6, n6);"
   ]
  },
  {
   "cell_type": "code",
   "execution_count": 14,
   "id": "8e80c604-ae5d-449d-a426-27a41d371dec",
   "metadata": {},
   "outputs": [
    {
     "name": "stdout",
     "output_type": "stream",
     "text": [
      "string a\n"
     ]
    }
   ],
   "source": [
    "// Hexadecimais -> 0 - F(15) = 0,1,2,3,4,5,6,7,8,9,A,B,C,D,E,F\n",
    "n6 = 10;\n",
    "n6 = n6.toString(16);\n",
    "console.log(typeof n6, n6);"
   ]
  },
  {
   "cell_type": "code",
   "execution_count": 15,
   "id": "af8ca8a3-3963-4733-866f-ea287910b627",
   "metadata": {},
   "outputs": [
    {
     "name": "stdout",
     "output_type": "stream",
     "text": [
      "string 1010\n"
     ]
    }
   ],
   "source": [
    "// Binarios -> 0 - 1 = 0,1\n",
    "n6 = 10;\n",
    "n6 = n6.toString(2);\n",
    "console.log(typeof n6, n6);"
   ]
  }
 ],
 "metadata": {
  "kernelspec": {
   "display_name": "JavaScript (Node.js)",
   "language": "javascript",
   "name": "javascript"
  },
  "language_info": {
   "file_extension": ".js",
   "mimetype": "application/javascript",
   "name": "javascript",
   "version": "16.16.0"
  }
 },
 "nbformat": 4,
 "nbformat_minor": 5
}
