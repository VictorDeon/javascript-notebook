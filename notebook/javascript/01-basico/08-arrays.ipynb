{
 "cells": [
  {
   "cell_type": "markdown",
   "id": "24abd0bd-4944-4126-b970-87707ccdbed6",
   "metadata": {},
   "source": [
    "## Arrays\n",
    "***\n",
    "\n",
    "Array é um objeto com espaço na memória que vou armazenar um conjunto de dados"
   ]
  },
  {
   "cell_type": "code",
   "execution_count": 1,
   "id": "f1c5f029-c2b7-4ffd-8d04-e497a7e65f89",
   "metadata": {},
   "outputs": [
    {
     "name": "stdout",
     "output_type": "stream",
     "text": [
      "[]\n",
      "[]\n",
      "[ true, 'Daniel', [ 1, 2, 3 ] ]\n",
      "[ true, 'Daniel', [ 1, 2, 3 ] ]\n"
     ]
    }
   ],
   "source": [
    "// Formas de criar um array\n",
    "const arrayVazio = [];\n",
    "console.log(arrayVazio);\n",
    "const newArrayVazio = new Array();\n",
    "console.log(arrayVazio);\n",
    "const arrayAleatorio = [true, \"Daniel\", [1, 2, 3]];\n",
    "console.log(arrayAleatorio);\n",
    "const newArrayAleatorio = new Array(true, \"Daniel\", new Array(1, 2, 3));\n",
    "console.log(newArrayAleatorio);"
   ]
  },
  {
   "cell_type": "code",
   "execution_count": 2,
   "id": "201e9d56-28b0-4c25-8f05-737c9a68d2a8",
   "metadata": {},
   "outputs": [
    {
     "name": "stdout",
     "output_type": "stream",
     "text": [
      "[\n",
      "  true,\n",
      "  'Daniel',\n",
      "  [ 1, 2, 3 ],\n",
      "  2,\n",
      "  { nome: 'Fulano', idade: 12 },\n",
      "  'a',\n",
      "  'b',\n",
      "  'c'\n",
      "]\n"
     ]
    }
   ],
   "source": [
    "// Podemos popular o array das seguintes maneiras\n",
    "arrayVazio[0] = true;\n",
    "arrayVazio[1] = \"Daniel\";\n",
    "arrayVazio[2] = [1, 2, 3];\n",
    "arrayVazio[arrayVazio.length] = 2; // Insere no final do array\n",
    "arrayVazio.push({nome: \"Fulano\", idade: 12}); // Insere no final do array\n",
    "arrayVazio.push(\"a\", \"b\", \"c\");\n",
    "console.log(arrayVazio);"
   ]
  },
  {
   "cell_type": "code",
   "execution_count": 3,
   "id": "dc20a643-a032-4032-bb2c-56cfa836a45f",
   "metadata": {},
   "outputs": [
    {
     "name": "stdout",
     "output_type": "stream",
     "text": [
      "true\n",
      "Daniel\n",
      "[ 1, 2, 3 ]\n",
      "2\n"
     ]
    }
   ],
   "source": [
    "// Podemos consultar os valores da seguinte maneira\n",
    "console.log(arrayVazio[0])\n",
    "console.log(arrayVazio[1])\n",
    "console.log(arrayVazio[2])\n",
    "console.log(arrayVazio[2][1]) // pegando elemento do array dentro de outro array"
   ]
  },
  {
   "cell_type": "code",
   "execution_count": 4,
   "id": "3887ba3a-ca48-4d37-9f81-b8dbabe2a322",
   "metadata": {},
   "outputs": [
    {
     "name": "stdout",
     "output_type": "stream",
     "text": [
      "undefined\n"
     ]
    }
   ],
   "source": [
    "// Se eu tentar acessar um indice que não existe no array vai retornar undefined\n",
    "console.log(arrayVazio[10])"
   ]
  },
  {
   "cell_type": "code",
   "execution_count": 5,
   "id": "b13d50ee-81fa-4f50-a37f-56643f9ae1f0",
   "metadata": {},
   "outputs": [
    {
     "name": "stdout",
     "output_type": "stream",
     "text": [
      "8\n"
     ]
    }
   ],
   "source": [
    "// Quantidade de elementos do array\n",
    "console.log(arrayVazio.length);"
   ]
  },
  {
   "cell_type": "code",
   "execution_count": 6,
   "id": "8f77572f-1eee-4c91-8437-7d6090345ed6",
   "metadata": {},
   "outputs": [
    {
     "name": "stdout",
     "output_type": "stream",
     "text": [
      "c\n"
     ]
    }
   ],
   "source": [
    "// Como pegar o último elemento do array\n",
    "console.log(arrayVazio[arrayVazio.length - 1])"
   ]
  },
  {
   "cell_type": "markdown",
   "id": "3035a855-b4a9-464d-a6ab-0e33bd0562b6",
   "metadata": {},
   "source": [
    "***\n",
    "### Iterando sobre um array\n",
    "***"
   ]
  },
  {
   "cell_type": "code",
   "execution_count": 7,
   "id": "7c66ba8f-d45c-4576-8770-ed9564cf2375",
   "metadata": {},
   "outputs": [],
   "source": [
    "const nomes = [\"João\", \"Maria\", \"Jose\", \"Helena\"];"
   ]
  },
  {
   "cell_type": "code",
   "execution_count": 8,
   "id": "4bc1d4c3-4dbb-470c-9191-008cefd57094",
   "metadata": {},
   "outputs": [
    {
     "name": "stdout",
     "output_type": "stream",
     "text": [
      "[0]: Nome é João\n",
      "[1]: Nome é Maria\n",
      "[2]: Nome é Jose\n",
      "[3]: Nome é Helena\n"
     ]
    }
   ],
   "source": [
    "for (let i = 0; i < nomes.length; i++) {\n",
    "    console.log(`[${i}]: Nome é ${nomes[i]}`);\n",
    "}"
   ]
  },
  {
   "cell_type": "code",
   "execution_count": 9,
   "id": "598f1568-cecf-47ba-94cb-7062bf9582da",
   "metadata": {},
   "outputs": [
    {
     "name": "stdout",
     "output_type": "stream",
     "text": [
      "Array 3,9,0,14,16,8,10,12,26,1,24,25,15,29,22,21,27,20,23,7,4 completado em 32 iterações\n"
     ]
    }
   ],
   "source": [
    "// Motivos de usarmos while é quando não sabemos quantas iterações terá;\n",
    "let numbers = [];\n",
    "let qtdIterations = 0;\n",
    "while(numbers.length <= 20) {\n",
    "    let randomNumber = parseInt(Math.random() * 30);\n",
    "    if (numbers.indexOf(randomNumber) === -1) {\n",
    "            numbers.push(randomNumber);\n",
    "    }\n",
    "    qtdIterations++;\n",
    "}\n",
    "console.log(`Array ${numbers} completado em ${qtdIterations} iterações`);"
   ]
  },
  {
   "cell_type": "markdown",
   "id": "b3066f06-1ad4-4413-b59b-3fddd2e8947a",
   "metadata": {},
   "source": [
    "***\n",
    "### Iterando sobre um array de objetos\n",
    "***"
   ]
  },
  {
   "cell_type": "code",
   "execution_count": 10,
   "id": "3aadc618-8bc2-4842-a798-f305c76b83e6",
   "metadata": {},
   "outputs": [
    {
     "name": "stdout",
     "output_type": "stream",
     "text": [
      "[\n",
      "  { nome: 'Maria', idade: 55, email: 'maria@gmail.com' },\n",
      "  { nome: 'João', idade: 30, email: 'joao@gmail.com' },\n",
      "  { nome: 'Pedro', idade: 25, email: 'pedro@gmail.com' }\n",
      "]\n",
      "Maria\n"
     ]
    }
   ],
   "source": [
    "const pessoas = [\n",
    "    {\n",
    "        nome: \"Maria\",\n",
    "        idade: 55,\n",
    "        email: \"maria@gmail.com\"\n",
    "    },\n",
    "    {\n",
    "        nome: \"João\",\n",
    "        idade: 30,\n",
    "        email: \"joao@gmail.com\"\n",
    "    },\n",
    "    {\n",
    "        nome: \"Pedro\",\n",
    "        idade: 25,\n",
    "        email: \"pedro@gmail.com\"\n",
    "    }\n",
    "];\n",
    "console.log(pessoas);\n",
    "console.log(pessoas[0].nome);"
   ]
  },
  {
   "cell_type": "code",
   "execution_count": 11,
   "id": "12fbc864-3952-4b6e-b6cf-41b5713c89bf",
   "metadata": {},
   "outputs": [
    {
     "name": "stdout",
     "output_type": "stream",
     "text": [
      "Maria possui 55 anos\n",
      "João possui 30 anos\n",
      "Pedro possui 25 anos\n"
     ]
    }
   ],
   "source": [
    "for (let i = 0; i < pessoas.length; i++) {\n",
    "    console.log(`${pessoas[i].nome} possui ${pessoas[i].idade} anos`);\n",
    "}"
   ]
  }
 ],
 "metadata": {
  "kernelspec": {
   "display_name": "JavaScript (Node.js)",
   "language": "javascript",
   "name": "javascript"
  },
  "language_info": {
   "file_extension": ".js",
   "mimetype": "application/javascript",
   "name": "javascript",
   "version": "16.16.0"
  }
 },
 "nbformat": 4,
 "nbformat_minor": 5
}
