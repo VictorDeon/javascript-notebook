{
 "cells": [
  {
   "cell_type": "markdown",
   "id": "a3a7d4d8-3f0d-4497-804d-9a0568c75c2a",
   "metadata": {},
   "source": [
    "## Operadores\n",
    "***\n",
    "### Operadores Aritmeticos\n",
    "***\n",
    "\n",
    "Os operadores aritmeticos são:\n",
    "\n",
    "```\n",
    "+   SOMA\n",
    "-   SUBTRAÇÃO\n",
    "*   MULTIPLICAÇÃO\n",
    "/   DIVISÃO\n",
    "%   RESTO DA DIVISÃO\n",
    "**  POTENCIAÇÃO\n",
    "```"
   ]
  },
  {
   "cell_type": "code",
   "execution_count": 1,
   "id": "2b641eab-e1ae-4a2d-b333-9cba2c2a7fac",
   "metadata": {},
   "outputs": [
    {
     "name": "stdout",
     "output_type": "stream",
     "text": [
      "10 + 5 = 15\n"
     ]
    }
   ],
   "source": [
    "// SOMA\n",
    "let n1 = 10;\n",
    "let n2 = 5;\n",
    "console.log(`${n1} + ${n2} = ${n1 + n2}`);"
   ]
  },
  {
   "cell_type": "code",
   "execution_count": 2,
   "id": "0b54c922-7ee0-40fc-ba4a-23c43ef8fcab",
   "metadata": {},
   "outputs": [
    {
     "name": "stdout",
     "output_type": "stream",
     "text": [
      "10 - 5 = 5\n"
     ]
    }
   ],
   "source": [
    "console.log(`${n1} - ${n2} = ${n1 - n2}`);"
   ]
  },
  {
   "cell_type": "code",
   "execution_count": 3,
   "id": "d387d8e1-2ca6-4d24-9fb5-d5d236e4eda4",
   "metadata": {},
   "outputs": [
    {
     "name": "stdout",
     "output_type": "stream",
     "text": [
      "10 * 5 = 50\n"
     ]
    }
   ],
   "source": [
    "console.log(`${n1} * ${n2} = ${n1 * n2}`);"
   ]
  },
  {
   "cell_type": "code",
   "execution_count": 4,
   "id": "a600b819-8e46-42a6-88e4-b805695ef997",
   "metadata": {},
   "outputs": [
    {
     "name": "stdout",
     "output_type": "stream",
     "text": [
      "10 / 5 = 2\n"
     ]
    }
   ],
   "source": [
    "console.log(`${n1} / ${n2} = ${n1 / n2}`);"
   ]
  },
  {
   "cell_type": "code",
   "execution_count": 5,
   "id": "b0020205-494f-4cad-85f2-de03730c0950",
   "metadata": {},
   "outputs": [
    {
     "name": "stdout",
     "output_type": "stream",
     "text": [
      "10 % 5 = 0\n",
      "10 % 4 = 2\n"
     ]
    }
   ],
   "source": [
    "console.log(`${n1} % ${n2} = ${n1 % n2}`);\n",
    "console.log(`${n1} % 4 = ${n1 % 4}`);"
   ]
  },
  {
   "cell_type": "code",
   "execution_count": 6,
   "id": "3624ab71-f8c0-4a98-84a3-62833953aa31",
   "metadata": {},
   "outputs": [
    {
     "name": "stdout",
     "output_type": "stream",
     "text": [
      "3 ** 2 = 9\n"
     ]
    }
   ],
   "source": [
    "console.log(`3 ** 2 = ${3 ** 2}`);"
   ]
  },
  {
   "cell_type": "markdown",
   "id": "44e8ef73-da67-492c-9fc4-34a56f9ba4c2",
   "metadata": {},
   "source": [
    "***\n",
    "### Operadores de atribuição\n",
    "***\n",
    "\n",
    "Os operadores de atribuição são:\n",
    "\n",
    "```\n",
    "=    ATRIBUIÇÃO                       x = y\n",
    "+=   ATRIBUIÇÃO COM SOMA              x = x + y\n",
    "-=   ATRIBUIÇÃO COM SUBTRAÇÃO         x = x - y\n",
    "*=   ATRIBUIÇÃO COM MULTIPLICAÇÃO     x = x * y\n",
    "/=   ATRIBUIÇÂO COM DIVISÂO           x = x / y\n",
    "%=   ATRIBUIÇÂO COM RESTO DE DIVISÂO  x = x % y\n",
    "**=  ATRIBUIÇÂO COM POTENCIAÇÃO       x = x ** y\n",
    "```"
   ]
  },
  {
   "cell_type": "code",
   "execution_count": 7,
   "id": "aaac5f10-daf4-4cbd-8728-a54198e8e674",
   "metadata": {},
   "outputs": [
    {
     "name": "stdout",
     "output_type": "stream",
     "text": [
      "10 += 2 = 12\n"
     ]
    }
   ],
   "source": [
    "let x = 10;\n",
    "x += 2;\n",
    "console.log(`10 += 2 = ${x}`);"
   ]
  },
  {
   "cell_type": "code",
   "execution_count": 8,
   "id": "5fa00af4-00c1-4420-a38a-1985fc780652",
   "metadata": {},
   "outputs": [
    {
     "name": "stdout",
     "output_type": "stream",
     "text": [
      "12 -= 6 = 6\n"
     ]
    }
   ],
   "source": [
    "x -= 6;\n",
    "console.log(`12 -= 6 = ${x}`);"
   ]
  },
  {
   "cell_type": "code",
   "execution_count": 9,
   "id": "471ef910-6737-408a-8226-1da5539d75e1",
   "metadata": {},
   "outputs": [
    {
     "name": "stdout",
     "output_type": "stream",
     "text": [
      "6 *= 3 = 18\n"
     ]
    }
   ],
   "source": [
    "x *= 3;\n",
    "console.log(`6 *= 3 = ${x}`);"
   ]
  },
  {
   "cell_type": "code",
   "execution_count": 10,
   "id": "4c2be109-2c1d-4fdb-a138-8dd3f6668be6",
   "metadata": {},
   "outputs": [
    {
     "name": "stdout",
     "output_type": "stream",
     "text": [
      "18 %= 5 = 3\n"
     ]
    }
   ],
   "source": [
    "x %= 5;\n",
    "console.log(`18 %= 5 = ${x}`);"
   ]
  },
  {
   "cell_type": "code",
   "execution_count": 11,
   "id": "1089d9bc-f115-48a4-abc6-42781897fac1",
   "metadata": {},
   "outputs": [
    {
     "name": "stdout",
     "output_type": "stream",
     "text": [
      "3 **= 2 = 9\n"
     ]
    }
   ],
   "source": [
    "x **= 2;\n",
    "console.log(`3 **= 2 = ${x}`);"
   ]
  },
  {
   "cell_type": "markdown",
   "id": "1c1ffd21-6d4c-4531-83a3-79b5dfaf25e3",
   "metadata": {},
   "source": [
    "### Operadores de incremento e decremento\n",
    "***\n",
    "\n",
    "Utiliza quando quero somar ou diminuir 1\n",
    "\n",
    "```\n",
    "y++ = y = y + 1  PRIMEIRO EXECUTA E DEPOIS SOMA 1 E ATRIBUI A VARIAVEL\n",
    "y-- = y = y - 1  PRIMEIRO EXECUTA E DEPOIS SUBTRAI 1 E ATRIBUI A VARIAVEL\n",
    "++y = y = y + 1  PRIMEIRO SOMA 1 E ATRIBUI A VARIAVEL E DEPOIS EXECUTA\n",
    "--y = y = y - 1  PRIMEIRO SUBTRAI 1 E ATRIBUI A VARIAVEL E DEPOIS EXECUTA\n",
    "```"
   ]
  },
  {
   "cell_type": "code",
   "execution_count": 12,
   "id": "ef12b616-09fa-4df4-b102-065bd9d885fc",
   "metadata": {},
   "outputs": [],
   "source": [
    "let y = 0;"
   ]
  },
  {
   "cell_type": "code",
   "execution_count": 13,
   "id": "c7c13597-c841-4f4a-90fa-2dee67fea596",
   "metadata": {},
   "outputs": [
    {
     "name": "stdout",
     "output_type": "stream",
     "text": [
      "0\n",
      "1\n"
     ]
    }
   ],
   "source": [
    "console.log(y++);\n",
    "console.log(y);"
   ]
  },
  {
   "cell_type": "code",
   "execution_count": 14,
   "id": "7c225bd7-b01e-4ea0-8968-eba4100f9e9f",
   "metadata": {},
   "outputs": [
    {
     "name": "stdout",
     "output_type": "stream",
     "text": [
      "1\n",
      "0\n"
     ]
    }
   ],
   "source": [
    "console.log(y--);\n",
    "console.log(y);"
   ]
  },
  {
   "cell_type": "code",
   "execution_count": 15,
   "id": "77388f81-254a-438a-9513-526673384355",
   "metadata": {},
   "outputs": [
    {
     "name": "stdout",
     "output_type": "stream",
     "text": [
      "1\n",
      "1\n"
     ]
    }
   ],
   "source": [
    "console.log(++y);\n",
    "console.log(y);"
   ]
  },
  {
   "cell_type": "code",
   "execution_count": 16,
   "id": "3b28b505-6ffc-4ef7-8e8f-44c748b4ed35",
   "metadata": {},
   "outputs": [
    {
     "name": "stdout",
     "output_type": "stream",
     "text": [
      "0\n",
      "0\n"
     ]
    }
   ],
   "source": [
    "console.log(--y);\n",
    "console.log(y);"
   ]
  },
  {
   "cell_type": "markdown",
   "id": "fb06a85c-6129-4381-ae98-90aa92291666",
   "metadata": {},
   "source": [
    "## Operadores de comparação\n",
    "***\n",
    "\n",
    "Usado para comparar 2 ou mais variáveis\n",
    "\n",
    "```\n",
    "==    IGUAL EM VALOR\n",
    "===   IGUAL EM VALOR E TIPO\n",
    "!=    DIFERENTE EM VALOR\n",
    "!==   DIFERENTE EM VALOR E TIPO\n",
    ">     MAIOR QUE\n",
    "<     MENOR QUE\n",
    ">=    MAIOR OU IGUAL A\n",
    "<=    MENOR OU IGUAL A\n",
    "```"
   ]
  },
  {
   "cell_type": "code",
   "execution_count": 17,
   "id": "bd853202-64bb-4e43-97cd-ab93b0274f91",
   "metadata": {},
   "outputs": [
    {
     "name": "stdout",
     "output_type": "stream",
     "text": [
      "true\n"
     ]
    }
   ],
   "source": [
    "console.log(2 == 2);"
   ]
  },
  {
   "cell_type": "code",
   "execution_count": 18,
   "id": "e581e975-30be-47e8-9c3c-a82666559996",
   "metadata": {},
   "outputs": [
    {
     "name": "stdout",
     "output_type": "stream",
     "text": [
      "true\n",
      "false\n"
     ]
    }
   ],
   "source": [
    "console.log(2 === 2);\n",
    "console.log(\"2\" === 2);"
   ]
  },
  {
   "cell_type": "code",
   "execution_count": 19,
   "id": "92d3d5c6-38fc-413b-8832-d31c83460b65",
   "metadata": {},
   "outputs": [
    {
     "name": "stdout",
     "output_type": "stream",
     "text": [
      "true\n"
     ]
    }
   ],
   "source": [
    "console.log(10 != 8);"
   ]
  },
  {
   "cell_type": "code",
   "execution_count": 20,
   "id": "fb39cb31-9c33-41e5-b2a2-ea2d3fe5b3f2",
   "metadata": {},
   "outputs": [
    {
     "name": "stdout",
     "output_type": "stream",
     "text": [
      "true\n",
      "false\n",
      "false\n"
     ]
    }
   ],
   "source": [
    "console.log(\"10\" !== 10);\n",
    "console.log(\"10\" !== \"10\");\n",
    "console.log(10 !== 10);"
   ]
  },
  {
   "cell_type": "code",
   "execution_count": 21,
   "id": "d9c52db3-74f6-4553-890f-6e5057ac4107",
   "metadata": {},
   "outputs": [
    {
     "name": "stdout",
     "output_type": "stream",
     "text": [
      "true\n",
      "false\n"
     ]
    }
   ],
   "source": [
    "console.log(5 > 4);\n",
    "console.log(4 > 5);"
   ]
  },
  {
   "cell_type": "code",
   "execution_count": 22,
   "id": "f0f2eac0-881a-4a4e-892c-7779519f36b8",
   "metadata": {},
   "outputs": [
    {
     "name": "stdout",
     "output_type": "stream",
     "text": [
      "true\n",
      "false\n"
     ]
    }
   ],
   "source": [
    "console.log(4 < 5);\n",
    "console.log(5 < 4);"
   ]
  },
  {
   "cell_type": "code",
   "execution_count": 23,
   "id": "7d71b7ba-ec43-4d82-bea9-7a8fadbdbc2b",
   "metadata": {},
   "outputs": [
    {
     "name": "stdout",
     "output_type": "stream",
     "text": [
      "true\n",
      "true\n",
      "false\n"
     ]
    }
   ],
   "source": [
    "console.log(5 >= 4);\n",
    "console.log(5 >= 5);\n",
    "console.log(4 >= 5);"
   ]
  },
  {
   "cell_type": "code",
   "execution_count": 24,
   "id": "f12f9846-28e4-49fb-965a-833a089d9777",
   "metadata": {},
   "outputs": [
    {
     "name": "stdout",
     "output_type": "stream",
     "text": [
      "true\n",
      "true\n",
      "false\n"
     ]
    }
   ],
   "source": [
    "console.log(4 <= 5);\n",
    "console.log(5 <= 5);\n",
    "console.log(5 <= 4);"
   ]
  },
  {
   "cell_type": "markdown",
   "id": "669dd6cb-f728-4746-b56b-8af6e9025209",
   "metadata": {},
   "source": [
    "### Operadores lógicos\n",
    "***\n",
    "\n",
    "Realiza operações lógicas.\n",
    "\n",
    "Lembrando que o `0 = false` e `1 = true`\n",
    "\n",
    "```\n",
    "&&       AND\n",
    "0 && 0 = 0 (false)\n",
    "0 && 1 = 0 (false)\n",
    "1 && 0 = 0 (false)\n",
    "1 && 1 = 1 (true)\n",
    "\n",
    "||       OR\n",
    "0 || 0 = 0 (false)\n",
    "0 || 1 = 1 (true)\n",
    "1 || 0 = 1 (true)\n",
    "1 || 1 = 1 (true)\n",
    "\n",
    "!    NOT\n",
    "!0 = 1 (true)\n",
    "!1 = 0 (false)\n",
    "```"
   ]
  },
  {
   "cell_type": "code",
   "execution_count": 25,
   "id": "69b2718f-78cd-4d9c-b852-a8d9305357bf",
   "metadata": {},
   "outputs": [],
   "source": [
    "// Expressão A = O céu é amarelo? (false)\n",
    "const expA = false\n",
    "// Expressão B = O ser humano tem 2 olhos? (true)\n",
    "const expB = true"
   ]
  },
  {
   "cell_type": "code",
   "execution_count": 26,
   "id": "d680ef97-3b13-4647-a6d1-6e0db3182004",
   "metadata": {},
   "outputs": [
    {
     "name": "stdout",
     "output_type": "stream",
     "text": [
      "false\n"
     ]
    }
   ],
   "source": [
    "// O céu é amarelo E o ser humano tem 2 olhos?\n",
    "console.log(expA && expB);"
   ]
  },
  {
   "cell_type": "code",
   "execution_count": 27,
   "id": "7f0ca7bd-1878-466a-afa7-4dd65804cdfe",
   "metadata": {},
   "outputs": [
    {
     "name": "stdout",
     "output_type": "stream",
     "text": [
      "true\n"
     ]
    }
   ],
   "source": [
    "// O céu é amarelo OU o ser humano tem 2 olhos?\n",
    "console.log(expA || expB);"
   ]
  },
  {
   "cell_type": "code",
   "execution_count": 28,
   "id": "678c8934-0aed-4510-bd96-13b9fb93e329",
   "metadata": {},
   "outputs": [
    {
     "name": "stdout",
     "output_type": "stream",
     "text": [
      "true\n"
     ]
    }
   ],
   "source": [
    "// O céu NÂO é amarelo\n",
    "console.log(!expA);"
   ]
  },
  {
   "cell_type": "code",
   "execution_count": 29,
   "id": "9e814d1d-2871-4923-8c80-55850be21a98",
   "metadata": {},
   "outputs": [
    {
     "name": "stdout",
     "output_type": "stream",
     "text": [
      "false\n"
     ]
    }
   ],
   "source": [
    "// O ser humano NÃO tem 2 olhos\n",
    "console.log(!expB);"
   ]
  },
  {
   "cell_type": "code",
   "execution_count": 30,
   "id": "33783c28-7c89-418a-b88b-02c93c99d896",
   "metadata": {},
   "outputs": [
    {
     "name": "stdout",
     "output_type": "stream",
     "text": [
      "true\n"
     ]
    }
   ],
   "source": [
    "// Para uma pessoa viajar para o exterior\n",
    "// - precisa ser maior que 18 anos\n",
    "// OU\n",
    "// - Acompanhado dos pais\n",
    "let idade = 18\n",
    "let paisPresentes = true\n",
    "let comprouBilhete = true\n",
    "const podeViajar = (idade >= 18 || paisPresentes) && comprouBilhete\n",
    "console.log(podeViajar);"
   ]
  },
  {
   "cell_type": "markdown",
   "id": "e831ebd9-6726-4587-8d6a-67040891678b",
   "metadata": {},
   "source": [
    "## Precedência de operadores\n",
    "***\n",
    "\n",
    "Alguns operadores tem uma ordem correta de execução. Para não ocorrer essa precedência sempre use parenteses para forçar a precedência, isso garente\n",
    "que a expressão entre parenteses execute antes.\n",
    "\n",
    "```\n",
    "Operadores lógicos\n",
    "() => ! => && => ||\n",
    "() => ** * / + -\n",
    "```"
   ]
  },
  {
   "cell_type": "code",
   "execution_count": 31,
   "id": "4fbce808-4f6a-4118-949f-d7a7bb7e5392",
   "metadata": {},
   "outputs": [
    {
     "name": "stdout",
     "output_type": "stream",
     "text": [
      "13\n",
      "25\n",
      "10\n",
      "7\n"
     ]
    }
   ],
   "source": [
    "console.log(5 * 2 + 3);\n",
    "console.log(5 * (2 + 3));\n",
    "console.log(6 + 8 / 2);\n",
    "console.log((6 + 8) / 2);"
   ]
  }
 ],
 "metadata": {
  "kernelspec": {
   "display_name": "JavaScript (Node.js)",
   "language": "javascript",
   "name": "javascript"
  },
  "language_info": {
   "file_extension": ".js",
   "mimetype": "application/javascript",
   "name": "javascript",
   "version": "16.16.0"
  }
 },
 "nbformat": 4,
 "nbformat_minor": 5
}
