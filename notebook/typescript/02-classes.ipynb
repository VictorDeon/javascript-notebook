{
 "cells": [
  {
   "cell_type": "markdown",
   "id": "56cc3db1-ed2a-4942-a60b-f6b6b8a2588c",
   "metadata": {},
   "source": [
    "### Orientação a Objeto\n",
    "***"
   ]
  },
  {
   "cell_type": "code",
   "execution_count": 1,
   "id": "b5b64685-8245-4004-86ea-7aebd1420441",
   "metadata": {
    "tags": []
   },
   "outputs": [],
   "source": [
    "abstract class Animal {\n",
    "    public readonly id: number;\n",
    "    protected categoria: string;\n",
    "    public abstract nome: string;\n",
    "    private _qtd_patas: number = 4;\n",
    "\n",
    "    constructor(id: number, categoria: string) {\n",
    "        this.categoria = categoria;\n",
    "        this.id = id;\n",
    "    }\n",
    "\n",
    "    get qtd_patas(): number {\n",
    "        return this._qtd_patas;\n",
    "    }\n",
    "\n",
    "    set qtd_patas(qtd: number) {\n",
    "        if (this.categoria == \"quadrupte\") {\n",
    "            this._qtd_patas = 4;\n",
    "        } else {\n",
    "            this._qtd_patas = qtd;\n",
    "        }\n",
    "    }\n",
    "\n",
    "    public abstract mostrarDetalhes(): void;\n",
    "    public abstract toString(): string;\n",
    "}\n",
    "\n",
    "interface Clinica {\n",
    "    cnpj?: string,\n",
    "    adicionarAnimais(): void;\n",
    "    mostrarDetalhes(): void;\n",
    "}\n",
    "\n",
    "interface Pessoa {\n",
    "    nome: string,\n",
    "    cpf: string,\n",
    "    idade?: number\n",
    "    toString(): string\n",
    "}"
   ]
  },
  {
   "cell_type": "code",
   "execution_count": 2,
   "id": "1ad89cab-0b61-4313-8b8e-1a68a217ceda",
   "metadata": {
    "tags": []
   },
   "outputs": [],
   "source": [
    "class Gato extends Animal {\n",
    "    constructor(\n",
    "        readonly id: number,\n",
    "        public nome: string\n",
    "    ) { super(id, \"mamifero\") }\n",
    "\n",
    "    get meow() {\n",
    "        return \"MEOWWNN\";\n",
    "    }\n",
    "\n",
    "    public mostrarDetalhes(): void {\n",
    "        console.log(`Gato ${this.nome} do tipo ${this.categoria} e tem ${this.qtd_patas} patas`);\n",
    "    }\n",
    "\n",
    "    public toString(): string {\n",
    "        return `${this.nome}`;\n",
    "    }\n",
    "}"
   ]
  },
  {
   "cell_type": "code",
   "execution_count": 3,
   "id": "024f6d26-17ed-4a67-8fb2-21691d3b45fb",
   "metadata": {
    "tags": []
   },
   "outputs": [],
   "source": [
    "class Cachorro extends Animal {\n",
    "    constructor(\n",
    "        readonly id: number,\n",
    "        public nome: string,\n",
    "        public raca: string\n",
    "    ) { super(id, \"mamifero\") }\n",
    "\n",
    "    get latir() {\n",
    "        return \"AUAU\";\n",
    "    }\n",
    "\n",
    "    public mostrarDetalhes(): void {\n",
    "        console.log(`Cachorro ${this.nome} do tipo ${this.categoria} da raça ${this.raca} e tem ${this.qtd_patas} patas`);\n",
    "    }\n",
    "\n",
    "    public toString(): string {\n",
    "        return `${this.nome}`;\n",
    "    }\n",
    "}"
   ]
  },
  {
   "cell_type": "code",
   "execution_count": 4,
   "id": "640976af-5c06-461f-926d-550e628e085c",
   "metadata": {
    "tags": []
   },
   "outputs": [],
   "source": [
    "class PetGuard implements Clinica {\n",
    "    private readonly _animais: Animal[] = [];\n",
    "    // Usado para que externamente o array _animais não seja modificado\n",
    "    // via métodos do array como .pop e etc.\n",
    "    private _tempListaAnimais: Animal[] = [];\n",
    "    private _title: string;\n",
    "    public dono: Pessoa;\n",
    "\n",
    "    constructor(title: string, dono: Pessoa) {\n",
    "        this._title = title;\n",
    "        this.dono = dono;\n",
    "    }\n",
    "\n",
    "    get title() {\n",
    "        return this._title;\n",
    "    }\n",
    "\n",
    "    get animais(): Animal[] {\n",
    "        return [...this._tempListaAnimais];\n",
    "    }\n",
    "\n",
    "    public adicionarAnimais(...animais: Animal[]): void {\n",
    "        this._animais.push(...animais);\n",
    "        this._tempListaAnimais.length = 0;\n",
    "        this._tempListaAnimais = [...this._animais];\n",
    "    }\n",
    "\n",
    "    public mostrarDetalhes(): void {\n",
    "        console.log(`Pet Shop ${this._title} do ${this.dono} tem os seguintes animais: ${this._animais}`);\n",
    "    }\n",
    "}"
   ]
  },
  {
   "cell_type": "code",
   "execution_count": 5,
   "id": "594787fb-d72a-4691-b48a-48e90394bed6",
   "metadata": {
    "tags": []
   },
   "outputs": [],
   "source": [
    "const mingal = new Gato(1, \"Mingal\");"
   ]
  },
  {
   "cell_type": "code",
   "execution_count": 6,
   "id": "b585408d-d82f-4551-bd5f-ccc077c1ad22",
   "metadata": {
    "tags": []
   },
   "outputs": [
    {
     "name": "stdout",
     "output_type": "stream",
     "text": [
      "Gato { _qtd_patas: \u001b[33m4\u001b[39m, categoria: \u001b[32m'mamifero'\u001b[39m, id: \u001b[33m1\u001b[39m, nome: \u001b[32m'Mingal'\u001b[39m }\n"
     ]
    }
   ],
   "source": [
    "console.log(mingal);"
   ]
  },
  {
   "cell_type": "code",
   "execution_count": 7,
   "id": "6c5c88fa-00fa-417d-867e-7c752df8b0c7",
   "metadata": {
    "tags": []
   },
   "outputs": [
    {
     "name": "stdout",
     "output_type": "stream",
     "text": [
      "MEOWWNN\n"
     ]
    }
   ],
   "source": [
    "console.log(mingal.meow);"
   ]
  },
  {
   "cell_type": "code",
   "execution_count": 8,
   "id": "898a34de-1f25-49b9-814d-3d0b0d903ad4",
   "metadata": {
    "tags": []
   },
   "outputs": [
    {
     "name": "stdout",
     "output_type": "stream",
     "text": [
      "Gato Mingal do tipo mamifero e tem 4 patas\n"
     ]
    }
   ],
   "source": [
    "mingal.mostrarDetalhes();"
   ]
  },
  {
   "cell_type": "code",
   "execution_count": 9,
   "id": "4184bdcc-95b8-4b9f-9ef1-7282eef82075",
   "metadata": {
    "tags": []
   },
   "outputs": [],
   "source": [
    "const rex = new Cachorro(2, \"Rex\", \"Pincher\");"
   ]
  },
  {
   "cell_type": "code",
   "execution_count": 10,
   "id": "b3f36189-3bba-4508-9f0f-d3578d5e151a",
   "metadata": {
    "tags": []
   },
   "outputs": [
    {
     "name": "stdout",
     "output_type": "stream",
     "text": [
      "Cachorro {\n",
      "  _qtd_patas: \u001b[33m4\u001b[39m,\n",
      "  categoria: \u001b[32m'mamifero'\u001b[39m,\n",
      "  id: \u001b[33m2\u001b[39m,\n",
      "  nome: \u001b[32m'Rex'\u001b[39m,\n",
      "  raca: \u001b[32m'Pincher'\u001b[39m\n",
      "}\n"
     ]
    }
   ],
   "source": [
    "console.log(rex);"
   ]
  },
  {
   "cell_type": "code",
   "execution_count": 11,
   "id": "84e86758-43fa-48f3-bfe1-f06c5ecd7c94",
   "metadata": {
    "tags": []
   },
   "outputs": [
    {
     "name": "stdout",
     "output_type": "stream",
     "text": [
      "AUAU\n"
     ]
    }
   ],
   "source": [
    "console.log(rex.latir);"
   ]
  },
  {
   "cell_type": "code",
   "execution_count": 12,
   "id": "a9287ed3-9f8d-4c78-b190-a94131dbc4df",
   "metadata": {
    "tags": []
   },
   "outputs": [
    {
     "name": "stdout",
     "output_type": "stream",
     "text": [
      "Cachorro Rex do tipo mamifero da raça Pincher e tem 4 patas\n"
     ]
    }
   ],
   "source": [
    "rex.mostrarDetalhes();"
   ]
  },
  {
   "cell_type": "code",
   "execution_count": 13,
   "id": "5ad47bbb-3eb4-4ffc-839d-11e67ad12b3a",
   "metadata": {
    "tags": []
   },
   "outputs": [],
   "source": [
    "const fulano: Pessoa = {nome: \"Fulano\", cpf: \"01129384544\", toString() { return this.nome }}"
   ]
  },
  {
   "cell_type": "code",
   "execution_count": 14,
   "id": "f8c33360-5a55-421c-9885-f187fc8158c1",
   "metadata": {
    "tags": []
   },
   "outputs": [],
   "source": [
    "const petGuard = new PetGuard(\"Pet Guard\", fulano)"
   ]
  },
  {
   "cell_type": "code",
   "execution_count": 15,
   "id": "7068542e-77e4-476d-932e-b6044d08fc1c",
   "metadata": {
    "tags": []
   },
   "outputs": [],
   "source": [
    "petGuard.adicionarAnimais(mingal, rex);"
   ]
  },
  {
   "cell_type": "code",
   "execution_count": 16,
   "id": "30ea9f78-84af-4f0f-a498-e36d62b47984",
   "metadata": {
    "tags": []
   },
   "outputs": [
    {
     "name": "stdout",
     "output_type": "stream",
     "text": [
      "Pet Shop Pet Guard do Fulano tem os seguintes animais: Mingal,Rex\n"
     ]
    }
   ],
   "source": [
    "petGuard.mostrarDetalhes();"
   ]
  }
 ],
 "metadata": {
  "kernelspec": {
   "display_name": "TypeScript",
   "language": "typescript",
   "name": "tslab"
  },
  "language_info": {
   "codemirror_mode": {
    "mode": "typescript",
    "name": "javascript",
    "typescript": true
   },
   "file_extension": ".ts",
   "mimetype": "text/typescript",
   "name": "typescript",
   "version": "3.7.2"
  }
 },
 "nbformat": 4,
 "nbformat_minor": 5
}
