{
 "cells": [
  {
   "cell_type": "markdown",
   "id": "9942571d-c101-428f-8f3f-de5d6883f54d",
   "metadata": {},
   "source": [
    "## Promises\n",
    "***"
   ]
  },
  {
   "cell_type": "code",
   "execution_count": 1,
   "id": "40dcf31e-437e-4f44-aeae-dfa11c0b53b1",
   "metadata": {
    "tags": []
   },
   "outputs": [],
   "source": [
    "import axios, { AxiosResponse } from 'axios';"
   ]
  },
  {
   "cell_type": "code",
   "execution_count": 2,
   "id": "d67215d8-e5a2-4226-8525-b1995037bffa",
   "metadata": {},
   "outputs": [],
   "source": [
    "type ResponseUser = {\n",
    "    id: number,\n",
    "    name: string,\n",
    "    email: string\n",
    "}"
   ]
  },
  {
   "cell_type": "code",
   "execution_count": 3,
   "id": "1b593da8-7e24-4835-ad10-688992d6b85a",
   "metadata": {
    "tags": []
   },
   "outputs": [
    {
     "name": "stdout",
     "output_type": "stream",
     "text": [
      "Promise { \u001b[36m<pending>\u001b[39m }\n",
      "[\n",
      "  { id: \u001b[33m1\u001b[39m, name: \u001b[32m'daniel'\u001b[39m, email: \u001b[32m'daniel@gmail.com'\u001b[39m },\n",
      "  { id: \u001b[33m2\u001b[39m, name: \u001b[32m'Maria'\u001b[39m, email: \u001b[32m'maria@gmail.com'\u001b[39m }\n",
      "]\n"
     ]
    }
   ],
   "source": [
    "axios.get<Array<ResponseUser>>(\"http://localhost:3001/users\")\n",
    "    .then(response => {\n",
    "        const result = response.data;\n",
    "        console.log(result);\n",
    "    })"
   ]
  },
  {
   "cell_type": "code",
   "execution_count": 4,
   "id": "4daf1952-590b-4ea2-a54b-6df907e62d5d",
   "metadata": {
    "tags": []
   },
   "outputs": [],
   "source": [
    "const getUser = (id: number): Promise<AxiosResponse<ResponseUser>> => {\n",
    "    return axios.get(\"http://localhost:3001/users/\" + id)\n",
    "}"
   ]
  },
  {
   "cell_type": "code",
   "execution_count": 5,
   "id": "7bfc9dc3-3daa-4113-80fb-ce5c1f80f3ab",
   "metadata": {
    "tags": []
   },
   "outputs": [
    {
     "name": "stdout",
     "output_type": "stream",
     "text": [
      "Promise { \u001b[36m<pending>\u001b[39m }\n",
      "{ id: \u001b[33m1\u001b[39m, name: \u001b[32m'daniel'\u001b[39m, email: \u001b[32m'daniel@gmail.com'\u001b[39m }\n"
     ]
    }
   ],
   "source": [
    "getUser(1).then(response => console.log(response.data));"
   ]
  },
  {
   "cell_type": "code",
   "execution_count": 6,
   "id": "035b04fc-7a66-4523-af93-a984b71e6e07",
   "metadata": {
    "tags": []
   },
   "outputs": [],
   "source": [
    "const createUser = (obj: {name: string, email: string}, run: boolean = false): Promise<ResponseUser> | null => {\n",
    "    if (run) {\n",
    "        return axios.post<ResponseUser>(\"http://localhost:3001/users\", obj)\n",
    "            .then(response => { return response.data });\n",
    "    }\n",
    "    return null;\n",
    "}"
   ]
  },
  {
   "cell_type": "code",
   "execution_count": 7,
   "id": "2153ff08-aed7-48fb-839a-1e293aab1e1c",
   "metadata": {
    "tags": []
   },
   "outputs": [],
   "source": [
    "createUser({name: \"Maria\", email: \"maria@gmail.com\"});"
   ]
  },
  {
   "cell_type": "markdown",
   "id": "176bf8f2-8c0f-4407-b92b-008f6836c53c",
   "metadata": {},
   "source": [
    "#### Usando Async Await"
   ]
  },
  {
   "cell_type": "code",
   "execution_count": 8,
   "id": "2a19672a-a332-4bec-afd6-302e7b619e20",
   "metadata": {
    "tags": []
   },
   "outputs": [],
   "source": [
    "async function name(): Promise<string> {\n",
    "    return \"João\";\n",
    "}"
   ]
  },
  {
   "cell_type": "code",
   "execution_count": 9,
   "id": "a6557a54-35cc-44ee-8ceb-c8fddf800a2c",
   "metadata": {
    "tags": []
   },
   "outputs": [
    {
     "name": "stdout",
     "output_type": "stream",
     "text": [
      "Promise { \u001b[36m<pending>\u001b[39m }\n",
      "João\n"
     ]
    }
   ],
   "source": [
    "name().then(value => console.log(value));"
   ]
  },
  {
   "cell_type": "code",
   "execution_count": 10,
   "id": "bd3a3a88-60ed-4dae-b293-da4a72e3dbcc",
   "metadata": {
    "tags": []
   },
   "outputs": [],
   "source": [
    "const otherGetUser = async (id: number): Promise<ResponseUser> => {\n",
    "    try {\n",
    "        const response = await axios.get(\"http://localhost:3001/users/\" + id);\n",
    "        return response.data\n",
    "    } catch(e) {\n",
    "        throw e\n",
    "    }\n",
    "}"
   ]
  },
  {
   "cell_type": "code",
   "execution_count": 11,
   "id": "ddd7887a-42f9-4d9a-91ed-54a7fe693b4d",
   "metadata": {
    "tags": []
   },
   "outputs": [
    {
     "name": "stdout",
     "output_type": "stream",
     "text": [
      "Promise { \u001b[36m<pending>\u001b[39m }\n",
      "Request failed with status code 404\n"
     ]
    }
   ],
   "source": [
    "otherGetUser(4)\n",
    "    .then(data => console.log(data))\n",
    "    .catch(error => console.log(error.message));"
   ]
  }
 ],
 "metadata": {
  "kernelspec": {
   "display_name": "TypeScript",
   "language": "typescript",
   "name": "tslab"
  },
  "language_info": {
   "codemirror_mode": {
    "mode": "typescript",
    "name": "javascript",
    "typescript": true
   },
   "file_extension": ".ts",
   "mimetype": "text/typescript",
   "name": "typescript",
   "version": "3.7.2"
  }
 },
 "nbformat": 4,
 "nbformat_minor": 5
}
