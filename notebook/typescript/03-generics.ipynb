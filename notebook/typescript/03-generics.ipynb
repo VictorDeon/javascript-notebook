{
 "cells": [
  {
   "cell_type": "markdown",
   "id": "dd9e6e6b-4678-4ea1-9be7-5480e51b9c86",
   "metadata": {},
   "source": [
    "## Generics\n",
    "***"
   ]
  },
  {
   "cell_type": "markdown",
   "id": "f54798bc-3a58-4238-adcf-84e4fff6d36a",
   "metadata": {},
   "source": [
    "Generics definem o tipo em tempo de execução"
   ]
  },
  {
   "cell_type": "markdown",
   "id": "fb0010ba-f7b9-475c-b24a-3dedfc483404",
   "metadata": {},
   "source": [
    "#### Generics com funções"
   ]
  },
  {
   "cell_type": "code",
   "execution_count": 1,
   "id": "9dc23e35-906c-4677-9e8c-29e589560c92",
   "metadata": {
    "tags": []
   },
   "outputs": [],
   "source": [
    "type NumberOrString = number | string;"
   ]
  },
  {
   "cell_type": "code",
   "execution_count": 2,
   "id": "b7b8e804-f83f-4317-9b6d-2304cc5397f1",
   "metadata": {
    "tags": []
   },
   "outputs": [],
   "source": [
    "function somaOuConcatena<T extends NumberOrString>(x: T, y: T): NumberOrString {\n",
    "    return (typeof x === \"number\" && typeof y === \"number\") ? x + y : x + \"\" + y;\n",
    "}"
   ]
  },
  {
   "cell_type": "code",
   "execution_count": 3,
   "id": "fb3b7829-4a50-4209-a1a2-51d3499104e5",
   "metadata": {
    "tags": []
   },
   "outputs": [
    {
     "name": "stdout",
     "output_type": "stream",
     "text": [
      "\u001b[33m3\u001b[39m\n"
     ]
    }
   ],
   "source": [
    "somaOuConcatena(1, 2);"
   ]
  },
  {
   "cell_type": "code",
   "execution_count": 4,
   "id": "73ec28a1-896f-4cdf-b2f9-b9b91c8c57cc",
   "metadata": {
    "tags": []
   },
   "outputs": [
    {
     "name": "stdout",
     "output_type": "stream",
     "text": [
      "12\n"
     ]
    }
   ],
   "source": [
    "somaOuConcatena(\"1\", \"2\");"
   ]
  },
  {
   "cell_type": "code",
   "execution_count": 5,
   "id": "8b999f0e-0075-4f57-8962-2be5661ba224",
   "metadata": {
    "tags": []
   },
   "outputs": [
    {
     "name": "stderr",
     "output_type": "stream",
     "text": [
      "1:17 - Argument of type 'boolean' is not assignable to parameter of type 'NumberOrString'.\n"
     ]
    }
   ],
   "source": [
    "somaOuConcatena(false, true);"
   ]
  },
  {
   "cell_type": "code",
   "execution_count": 6,
   "id": "fae221a3-0e00-46c1-963c-f315fce96f01",
   "metadata": {
    "tags": []
   },
   "outputs": [
    {
     "name": "stderr",
     "output_type": "stream",
     "text": [
      "1:20 - Argument of type '\"2\"' is not assignable to parameter of type '1'.\n"
     ]
    }
   ],
   "source": [
    "somaOuConcatena(1, \"2\");"
   ]
  },
  {
   "cell_type": "code",
   "execution_count": 7,
   "id": "467a571d-af5a-438c-be91-5539fdcb93f9",
   "metadata": {
    "tags": []
   },
   "outputs": [
    {
     "name": "stderr",
     "output_type": "stream",
     "text": [
      "1:22 - Argument of type '2' is not assignable to parameter of type '\"1\"'.\n"
     ]
    }
   ],
   "source": [
    "somaOuConcatena(\"1\", 2);"
   ]
  },
  {
   "cell_type": "markdown",
   "id": "a2914507-29e0-4957-9787-657d0c1685ae",
   "metadata": {},
   "source": [
    "#### Generics com arrays"
   ]
  },
  {
   "cell_type": "code",
   "execution_count": 8,
   "id": "188d8ecc-393b-4dd1-99dd-10468d609c30",
   "metadata": {
    "tags": []
   },
   "outputs": [],
   "source": [
    "type ArrayUniqueTypes<T> = T[];"
   ]
  },
  {
   "cell_type": "code",
   "execution_count": 9,
   "id": "5cc6c667-a8c9-4236-9c4d-fd1638879312",
   "metadata": {
    "tags": []
   },
   "outputs": [],
   "source": [
    "const teste1: ArrayUniqueTypes<number> = [1, 2];"
   ]
  },
  {
   "cell_type": "code",
   "execution_count": 10,
   "id": "f983a6fe-a955-4b21-8301-69ff0f59f798",
   "metadata": {
    "tags": []
   },
   "outputs": [],
   "source": [
    "const teste2: ArrayUniqueTypes<string> = [\"1\", \"2\"];"
   ]
  },
  {
   "cell_type": "code",
   "execution_count": 11,
   "id": "2d4833b5-9f8b-4ec9-8534-355ee3523f8e",
   "metadata": {
    "tags": []
   },
   "outputs": [],
   "source": [
    "const teste3: ArrayUniqueTypes<string | boolean> = [\"1\", \"2\", true, false];"
   ]
  },
  {
   "cell_type": "code",
   "execution_count": 12,
   "id": "d27efdab-9c2a-48f4-8d69-d3eb26028e46",
   "metadata": {
    "tags": []
   },
   "outputs": [],
   "source": [
    "const teste4: Array<number> = [1, 2];"
   ]
  },
  {
   "cell_type": "code",
   "execution_count": 13,
   "id": "6f364028-493b-4208-ba0c-dd4eb8f01eed",
   "metadata": {
    "tags": []
   },
   "outputs": [],
   "source": [
    "const teste5: Array<string> = [\"1\", \"2\"];"
   ]
  },
  {
   "cell_type": "code",
   "execution_count": 14,
   "id": "467abae7-77f5-451b-b222-79fe13f32651",
   "metadata": {
    "tags": []
   },
   "outputs": [],
   "source": [
    "const teste6: Array<string | boolean> = [\"1\", \"2\", true, false];"
   ]
  },
  {
   "cell_type": "markdown",
   "id": "0fc6559b-36df-48be-ba10-8eabeae4947f",
   "metadata": {},
   "source": [
    "#### Generics com classes"
   ]
  },
  {
   "cell_type": "code",
   "execution_count": 15,
   "id": "7f5a3ba5-96cc-4488-823e-e6fbc2945305",
   "metadata": {
    "tags": []
   },
   "outputs": [],
   "source": [
    "class Pessoa {\n",
    "    constructor(private _nome: string) {}\n",
    "\n",
    "    set nome(nome: string) {\n",
    "        this._nome = nome;\n",
    "    }\n",
    "\n",
    "    toString(): string {\n",
    "        return this._nome;\n",
    "    }\n",
    "}"
   ]
  },
  {
   "cell_type": "code",
   "execution_count": 16,
   "id": "b076249d-4c72-41f3-8845-5f4d0e0423fb",
   "metadata": {
    "tags": []
   },
   "outputs": [],
   "source": [
    "class Animal {\n",
    "    constructor(private _nome: string) {}\n",
    "\n",
    "    set nome(nome: string) {\n",
    "        this._nome = nome;\n",
    "    }\n",
    "\n",
    "    toString(): string {\n",
    "        return this._nome;\n",
    "    }\n",
    "}"
   ]
  },
  {
   "cell_type": "code",
   "execution_count": 17,
   "id": "4cda7249-8575-44fa-8775-8b1e165d4b86",
   "metadata": {
    "tags": []
   },
   "outputs": [],
   "source": [
    "class List<T> {\n",
    "    private list: T[] = [];\n",
    "\n",
    "    get(index: number): T | null {\n",
    "        const len = this.list.length;\n",
    "        if (len === 0) return null;\n",
    "        if (index > len || index < 0) return null;\n",
    "        return this.list[index];\n",
    "    }\n",
    "\n",
    "    add(element: T): this {\n",
    "        this.list.push(element);\n",
    "        return this;\n",
    "    }\n",
    "\n",
    "    remove(index: number): T | null {\n",
    "        const element = this.get(index);\n",
    "        if (element !== null) {\n",
    "            this.list.splice(index, 1);\n",
    "            return element;\n",
    "        }\n",
    "        return null;\n",
    "    }\n",
    "}"
   ]
  },
  {
   "cell_type": "code",
   "execution_count": 18,
   "id": "a2d9fcec-1f3a-4c2a-bb8d-ab796e2f3d43",
   "metadata": {
    "tags": []
   },
   "outputs": [],
   "source": [
    "const listaDePessoas = new List<Pessoa>();"
   ]
  },
  {
   "cell_type": "code",
   "execution_count": 19,
   "id": "d1b44a95-a975-4b65-881c-e7b43921345c",
   "metadata": {
    "tags": []
   },
   "outputs": [],
   "source": [
    "const listaDeAnimais = new List<Animal>();"
   ]
  },
  {
   "cell_type": "code",
   "execution_count": 20,
   "id": "a0f1b9a2-996a-4949-ac36-5eec978e69f6",
   "metadata": {
    "tags": []
   },
   "outputs": [
    {
     "name": "stdout",
     "output_type": "stream",
     "text": [
      "List {\n",
      "  list: [\n",
      "    Pessoa { _nome: \u001b[32m'Daniel'\u001b[39m },\n",
      "    Pessoa { _nome: \u001b[32m'Maria'\u001b[39m },\n",
      "    Pessoa { _nome: \u001b[32m'João'\u001b[39m }\n",
      "  ]\n",
      "}\n"
     ]
    }
   ],
   "source": [
    "listaDePessoas\n",
    "    .add(new Pessoa(\"Daniel\"))\n",
    "    .add(new Pessoa(\"Maria\"))\n",
    "    .add(new Pessoa(\"João\"))"
   ]
  },
  {
   "cell_type": "code",
   "execution_count": 21,
   "id": "9dcb4d3e-da14-425d-bc8d-3ea854c175ac",
   "metadata": {
    "tags": []
   },
   "outputs": [
    {
     "name": "stderr",
     "output_type": "stream",
     "text": [
      "1:20 - Argument of type 'Animal' is not assignable to parameter of type 'Pessoa'.\n",
      "1:20 - Types have separate declarations of a private property '_nome'.\n"
     ]
    }
   ],
   "source": [
    "listaDePessoas.add(new Animal(\"Cavalo\"))"
   ]
  },
  {
   "cell_type": "code",
   "execution_count": 22,
   "id": "719976fb-eee8-4910-a082-8725df7d469b",
   "metadata": {
    "tags": []
   },
   "outputs": [
    {
     "name": "stdout",
     "output_type": "stream",
     "text": [
      "List { list: [ Animal { _nome: \u001b[32m'Toto'\u001b[39m }, Animal { _nome: \u001b[32m'XU'\u001b[39m } ] }\n"
     ]
    }
   ],
   "source": [
    "listaDeAnimais\n",
    "    .add(new Animal(\"Toto\"))\n",
    "    .add(new Animal(\"XU\"))"
   ]
  },
  {
   "cell_type": "code",
   "execution_count": 23,
   "id": "10171b79-8891-44ee-9bbb-43126c928d3d",
   "metadata": {
    "tags": []
   },
   "outputs": [
    {
     "name": "stderr",
     "output_type": "stream",
     "text": [
      "1:20 - Argument of type 'Pessoa' is not assignable to parameter of type 'Animal'.\n",
      "1:20 - Types have separate declarations of a private property '_nome'.\n"
     ]
    }
   ],
   "source": [
    "listaDeAnimais.add(new Pessoa(\"Victor\"))"
   ]
  },
  {
   "cell_type": "code",
   "execution_count": 24,
   "id": "0677e4bc-7f78-41ff-bc2a-a58c1f79bc33",
   "metadata": {
    "tags": []
   },
   "outputs": [
    {
     "name": "stdout",
     "output_type": "stream",
     "text": [
      "Pessoa { _nome: \u001b[32m'Daniel'\u001b[39m }\n",
      "Pessoa { _nome: \u001b[32m'Maria'\u001b[39m }\n",
      "Pessoa { _nome: \u001b[32m'João'\u001b[39m }\n"
     ]
    }
   ],
   "source": [
    "console.log(listaDePessoas.get(0));\n",
    "console.log(listaDePessoas.get(1));\n",
    "console.log(listaDePessoas.get(2));"
   ]
  },
  {
   "cell_type": "code",
   "execution_count": 25,
   "id": "9ac5baa1-3de7-4f97-9422-3db6530da95c",
   "metadata": {
    "tags": []
   },
   "outputs": [
    {
     "name": "stdout",
     "output_type": "stream",
     "text": [
      "Animal { _nome: \u001b[32m'Toto'\u001b[39m }\n",
      "Animal { _nome: \u001b[32m'XU'\u001b[39m }\n"
     ]
    }
   ],
   "source": [
    "console.log(listaDeAnimais.get(0));\n",
    "console.log(listaDeAnimais.get(1));"
   ]
  },
  {
   "cell_type": "code",
   "execution_count": 26,
   "id": "9db1b341-62c5-4ff6-ac8f-9ad9c08ef404",
   "metadata": {
    "tags": []
   },
   "outputs": [],
   "source": [
    "const removed = listaDePessoas.remove(0);"
   ]
  },
  {
   "cell_type": "code",
   "execution_count": 27,
   "id": "5a5e8f40-eb9c-4476-82e8-aeff3adce094",
   "metadata": {
    "tags": []
   },
   "outputs": [
    {
     "name": "stdout",
     "output_type": "stream",
     "text": [
      "Removido Daniel\n",
      "Primeiro elemento Maria\n"
     ]
    }
   ],
   "source": [
    "console.log(`Removido ${removed}`);\n",
    "console.log(`Primeiro elemento ${listaDePessoas.get(0)}`);"
   ]
  },
  {
   "cell_type": "markdown",
   "id": "4274bbe7-2011-4c1b-83c8-e08c9a242232",
   "metadata": {},
   "source": [
    "#### Generics com interfaces"
   ]
  },
  {
   "cell_type": "code",
   "execution_count": 28,
   "id": "261fdc60-fe92-4aa2-86a6-ab05f8ce3fe9",
   "metadata": {
    "tags": []
   },
   "outputs": [],
   "source": [
    "interface Action<T = string> {\n",
    "    action: T\n",
    "}"
   ]
  },
  {
   "cell_type": "code",
   "execution_count": 29,
   "id": "b32eeff2-dc85-46f9-9e1a-eedcb6c94ac2",
   "metadata": {
    "tags": []
   },
   "outputs": [],
   "source": [
    "const step1: Action = {\n",
    "    action: \"sair\"\n",
    "}"
   ]
  },
  {
   "cell_type": "code",
   "execution_count": 30,
   "id": "f50d4f43-7b5e-4a7a-8c0a-74dcd8f01090",
   "metadata": {
    "tags": []
   },
   "outputs": [],
   "source": [
    "const step2: Action<number> = {\n",
    "    action: 0\n",
    "}"
   ]
  },
  {
   "cell_type": "code",
   "execution_count": 31,
   "id": "9d655d2e-fff8-4932-af26-2776c300fdb5",
   "metadata": {
    "tags": []
   },
   "outputs": [],
   "source": [
    "const step3: Action<boolean> = {\n",
    "    action: true\n",
    "}"
   ]
  },
  {
   "cell_type": "code",
   "execution_count": 32,
   "id": "ce6f7799-f00d-4637-aebe-8417ff0381c8",
   "metadata": {
    "tags": []
   },
   "outputs": [],
   "source": [
    "// Restringindo a função para receber no minimos os dados do Action\n",
    "const historyActions: Array<Action> = [];"
   ]
  },
  {
   "cell_type": "code",
   "execution_count": 33,
   "id": "2c8f637b-c186-4476-be77-9905c954d642",
   "metadata": {
    "tags": []
   },
   "outputs": [],
   "source": [
    "const addAction = <T extends Action>(obj: T) => {\n",
    "    historyActions.push(obj);\n",
    "}"
   ]
  },
  {
   "cell_type": "code",
   "execution_count": 34,
   "id": "370c0c57-f7e7-4a1a-b162-35cf3b43898b",
   "metadata": {
    "tags": []
   },
   "outputs": [],
   "source": [
    "addAction({\n",
    "    action: \"sair\",\n",
    "    timestamp: 10,\n",
    "    teste: 5\n",
    "})"
   ]
  },
  {
   "cell_type": "code",
   "execution_count": 35,
   "id": "0d579cf3-b0eb-431f-9c32-a60c59e266b5",
   "metadata": {
    "tags": []
   },
   "outputs": [
    {
     "name": "stdout",
     "output_type": "stream",
     "text": [
      "[ { action: \u001b[32m'sair'\u001b[39m, timestamp: \u001b[33m10\u001b[39m, teste: \u001b[33m5\u001b[39m } ]\n"
     ]
    }
   ],
   "source": [
    "console.log(historyActions);"
   ]
  },
  {
   "cell_type": "code",
   "execution_count": 36,
   "id": "222e10f3-1299-4039-a923-be01a991b75f",
   "metadata": {
    "tags": []
   },
   "outputs": [],
   "source": [
    "// Generic com 2 ou mais tipos e restringe o segundo ######\n",
    "interface OtherAction<X, Y extends number | string = string, Z = string> {\n",
    "    action: X,\n",
    "    timestamp: Y,\n",
    "    name: Z\n",
    "}"
   ]
  },
  {
   "cell_type": "code",
   "execution_count": 37,
   "id": "98755888-3b3d-4fdf-94c4-6cc7a1c2690b",
   "metadata": {
    "tags": []
   },
   "outputs": [],
   "source": [
    "const step4: OtherAction<string, string> = {\n",
    "    action: \"sair\",\n",
    "    timestamp: \"22/10/2022\",\n",
    "    name: \"Victor\"\n",
    "}"
   ]
  },
  {
   "cell_type": "code",
   "execution_count": 38,
   "id": "813265eb-af91-44e7-9038-fc58ac0811e8",
   "metadata": {
    "tags": []
   },
   "outputs": [],
   "source": [
    "addAction(step4)"
   ]
  },
  {
   "cell_type": "code",
   "execution_count": 39,
   "id": "6052e2d3-c6a9-4652-ae09-b51dfcd959e6",
   "metadata": {
    "tags": []
   },
   "outputs": [
    {
     "name": "stdout",
     "output_type": "stream",
     "text": [
      "[\n",
      "  { action: \u001b[32m'sair'\u001b[39m, timestamp: \u001b[33m10\u001b[39m, teste: \u001b[33m5\u001b[39m },\n",
      "  { action: \u001b[32m'sair'\u001b[39m, timestamp: \u001b[32m'22/10/2022'\u001b[39m, name: \u001b[32m'Victor'\u001b[39m }\n",
      "]\n"
     ]
    }
   ],
   "source": [
    "console.log(historyActions);"
   ]
  }
 ],
 "metadata": {
  "kernelspec": {
   "display_name": "TypeScript",
   "language": "typescript",
   "name": "tslab"
  },
  "language_info": {
   "codemirror_mode": {
    "mode": "typescript",
    "name": "javascript",
    "typescript": true
   },
   "file_extension": ".ts",
   "mimetype": "text/typescript",
   "name": "typescript",
   "version": "3.7.2"
  }
 },
 "nbformat": 4,
 "nbformat_minor": 5
}
