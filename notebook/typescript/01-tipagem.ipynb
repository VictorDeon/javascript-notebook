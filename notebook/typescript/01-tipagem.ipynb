{
 "cells": [
  {
   "cell_type": "markdown",
   "id": "10d04457-f9f2-4949-a6c9-6d179125c32d",
   "metadata": {},
   "source": [
    "### Tipagem do typescript\n",
    "***"
   ]
  },
  {
   "cell_type": "markdown",
   "id": "204bb216-a582-4065-bb91-5a13987370c2",
   "metadata": {
    "tags": []
   },
   "source": [
    "#### Boolean"
   ]
  },
  {
   "cell_type": "code",
   "execution_count": 1,
   "id": "6125a71a-c9e2-4483-aaba-0e3c4e0b15b9",
   "metadata": {
    "tags": []
   },
   "outputs": [
    {
     "name": "stdout",
     "output_type": "stream",
     "text": [
      "\u001b[33mtrue\u001b[39m\n"
     ]
    }
   ],
   "source": [
    "let isCool: boolean = true;\n",
    "console.log(isCool)"
   ]
  },
  {
   "cell_type": "markdown",
   "id": "03cbe06b-2b96-4cb8-818a-6937e3a5eb80",
   "metadata": {},
   "source": [
    "#### Number"
   ]
  },
  {
   "cell_type": "code",
   "execution_count": 2,
   "id": "16ed7e97-270d-443f-acac-b6f31d8ef4d7",
   "metadata": {
    "tags": []
   },
   "outputs": [
    {
     "name": "stdout",
     "output_type": "stream",
     "text": [
      "\u001b[33m18\u001b[39m\n"
     ]
    }
   ],
   "source": [
    "let age: number = 18;\n",
    "console.log(age)"
   ]
  },
  {
   "cell_type": "markdown",
   "id": "825dfe4e-028b-4bec-9985-8c1959ee62e7",
   "metadata": {},
   "source": [
    "#### String"
   ]
  },
  {
   "cell_type": "code",
   "execution_count": 3,
   "id": "6f83b55c-7ba0-46be-91ff-fad8dca361d1",
   "metadata": {
    "tags": []
   },
   "outputs": [
    {
     "name": "stdout",
     "output_type": "stream",
     "text": [
      "Fulano de tal\n"
     ]
    }
   ],
   "source": [
    "let myName: string = \"Fulano de tal\";\n",
    "console.log(myName)"
   ]
  },
  {
   "cell_type": "markdown",
   "id": "51577551-755b-43e4-82f1-3faade8b7bfb",
   "metadata": {},
   "source": [
    "#### Array"
   ]
  },
  {
   "cell_type": "code",
   "execution_count": 4,
   "id": "bf912cbd-8d38-43c4-b3df-4da9b7a13bc8",
   "metadata": {
    "tags": []
   },
   "outputs": [
    {
     "name": "stdout",
     "output_type": "stream",
     "text": [
      "[ \u001b[32m'maça'\u001b[39m, \u001b[32m'banana'\u001b[39m, \u001b[32m'uva'\u001b[39m ]\n",
      "[ \u001b[32m'XU'\u001b[39m, \u001b[32m'PUFF'\u001b[39m ]\n"
     ]
    }
   ],
   "source": [
    "let fruits: string[] = [\"maça\", \"banana\", \"uva\"];\n",
    "let pets: Array<string> = [\"XU\", \"PUFF\"];\n",
    "console.log(fruits)\n",
    "console.log(pets)"
   ]
  },
  {
   "cell_type": "markdown",
   "id": "d4f08804-44a5-4f03-86f3-a1d291664e8f",
   "metadata": {},
   "source": [
    "#### Tuplas"
   ]
  },
  {
   "cell_type": "code",
   "execution_count": 5,
   "id": "c2944c34-e2da-4445-8167-c729fad27ccd",
   "metadata": {
    "tags": []
   },
   "outputs": [
    {
     "name": "stdout",
     "output_type": "stream",
     "text": [
      "[ \u001b[32m'oxee'\u001b[39m, \u001b[33m5\u001b[39m ]\n"
     ]
    }
   ],
   "source": [
    "let tuples: [string, number] = ['backet', 10];\n",
    "tuples = ['oxee', 5];\n",
    "console.log(tuples)"
   ]
  },
  {
   "cell_type": "markdown",
   "id": "3656c3b7-98f2-45dc-86f1-8cee34abe6b2",
   "metadata": {
    "tags": []
   },
   "source": [
    "#### Objects"
   ]
  },
  {
   "cell_type": "code",
   "execution_count": 6,
   "id": "f839b5fc-2f22-410d-91f4-753b790b7bec",
   "metadata": {
    "tags": []
   },
   "outputs": [
    {
     "name": "stdout",
     "output_type": "stream",
     "text": [
      "{ name: \u001b[32m'John'\u001b[39m, age: \u001b[33m19\u001b[39m }\n"
     ]
    }
   ],
   "source": [
    "let wizard: object = {\n",
    "    name: \"John\",\n",
    "    age: 19\n",
    "}\n",
    "console.log(wizard)"
   ]
  },
  {
   "cell_type": "markdown",
   "id": "5738e675-b7dc-4537-be59-715e38bd61c7",
   "metadata": {},
   "source": [
    "#### Enum"
   ]
  },
  {
   "cell_type": "code",
   "execution_count": 7,
   "id": "26854cd5-bf4a-44a0-8415-8ee710f863f8",
   "metadata": {
    "tags": []
   },
   "outputs": [
    {
     "name": "stdout",
     "output_type": "stream",
     "text": [
      "Medium\n",
      "\u001b[33m1\u001b[39m\n"
     ]
    }
   ],
   "source": [
    "enum Size { Small = 1, Medium = 2, Large = 3};\n",
    "let sizeName1: string = Size[2]; // Medium\n",
    "let sizeName2: number = Size.Small; // 1\n",
    "console.log(sizeName1)\n",
    "console.log(sizeName2)"
   ]
  },
  {
   "cell_type": "markdown",
   "id": "d6ba3f49-d7ec-4650-a5a8-a0f39c8e78f4",
   "metadata": {},
   "source": [
    "#### None ou Undefined"
   ]
  },
  {
   "cell_type": "code",
   "execution_count": 8,
   "id": "fb0a4565-02cf-4c90-82c6-c329d821c055",
   "metadata": {
    "tags": []
   },
   "outputs": [
    {
     "name": "stdout",
     "output_type": "stream",
     "text": [
      "\u001b[90mundefined\u001b[39m\n",
      "\u001b[1mnull\u001b[22m\n"
     ]
    }
   ],
   "source": [
    "let none1: undefined = undefined;\n",
    "let none2: null = null;\n",
    "console.log(none1)\n",
    "console.log(none2)"
   ]
  },
  {
   "cell_type": "markdown",
   "id": "5474935c-8d55-4b5f-9da4-fcffcd573813",
   "metadata": {},
   "source": [
    "#### Void"
   ]
  },
  {
   "cell_type": "code",
   "execution_count": 9,
   "id": "0c1b93f4-d693-45a1-a436-60721c4ed783",
   "metadata": {
    "tags": []
   },
   "outputs": [
    {
     "name": "stdout",
     "output_type": "stream",
     "text": [
      "não retorna nada!\n",
      "\u001b[90mundefined\u001b[39m\n",
      "ola mundo!\n"
     ]
    }
   ],
   "source": [
    "let myFunction = (): void => console.log(\"não retorna nada!\");\n",
    "let functionReturn = (): string => \"ola mundo!\";\n",
    "console.log(myFunction())\n",
    "console.log(functionReturn())"
   ]
  },
  {
   "cell_type": "markdown",
   "id": "9fefe67f-d3c0-4a1a-b58c-aafd3fb5e241",
   "metadata": {},
   "source": [
    "#### Never"
   ]
  },
  {
   "cell_type": "code",
   "execution_count": 10,
   "id": "697b9732-6717-490d-acbd-66cbe7397ba4",
   "metadata": {
    "tags": []
   },
   "outputs": [
    {
     "name": "stderr",
     "output_type": "stream",
     "text": [
      "evalmachine.<anonymous>:3\n",
      "let error = () => { throw Error(\"Ops...\"); };\n",
      "                    ^\n",
      "\n",
      "Error: Ops...\n",
      "    at error (evalmachine.<anonymous>:3:27)\n",
      "    at evalmachine.<anonymous>:5:34\n",
      "    at evalmachine.<anonymous>:7:3\n",
      "\u001b[90m    at sigintHandlersWrap (node:vm:270:12)\u001b[39m\n",
      "\u001b[90m    at Script.runInThisContext (node:vm:127:14)\u001b[39m\n",
      "\u001b[90m    at Object.runInThisContext (node:vm:307:38)\u001b[39m\n",
      "    at Object.execute (/home/victorhad/javascript-notebook/notebook/node_modules/\u001b[4mtslab\u001b[24m/dist/executor.js:162:38)\n",
      "    at JupyterHandlerImpl.handleExecuteImpl (/home/victorhad/javascript-notebook/notebook/node_modules/\u001b[4mtslab\u001b[24m/dist/jupyter.js:219:38)\n",
      "    at /home/victorhad/javascript-notebook/notebook/node_modules/\u001b[4mtslab\u001b[24m/dist/jupyter.js:177:57\n",
      "    at async JupyterHandlerImpl.handleExecute (/home/victorhad/javascript-notebook/notebook/node_modules/\u001b[4mtslab\u001b[24m/dist/jupyter.js:177:21)\n"
     ]
    }
   ],
   "source": [
    "let error = (): never => {throw Error(\"Ops...\");}\n",
    "console.log(error())"
   ]
  },
  {
   "cell_type": "markdown",
   "id": "65be54c2-7cb7-4ed6-928f-a36c6127b1d3",
   "metadata": {},
   "source": [
    "#### Any"
   ]
  },
  {
   "cell_type": "code",
   "execution_count": 11,
   "id": "fe3e1d19-0501-4787-b8c4-f3762984e13f",
   "metadata": {
    "tags": []
   },
   "outputs": [
    {
     "name": "stdout",
     "output_type": "stream",
     "text": [
      "Ola mundo!\n"
     ]
    }
   ],
   "source": [
    "let whatever: any = \"Ola mundo!\";\n",
    "console.log(whatever)"
   ]
  },
  {
   "cell_type": "markdown",
   "id": "89af4eae-6f83-4cef-b9db-566eaf8e82cf",
   "metadata": {},
   "source": [
    "#### interface (parece um struct ou model)"
   ]
  },
  {
   "cell_type": "code",
   "execution_count": 12,
   "id": "6642a640-1eda-4af0-b1b6-667b6b29b223",
   "metadata": {
    "tags": []
   },
   "outputs": [
    {
     "name": "stdout",
     "output_type": "stream",
     "text": [
      "FIGHT!!! robot\n"
     ]
    }
   ],
   "source": [
    "interface RobotArmy {\n",
    "    count: number,\n",
    "    type: string,\n",
    "    magic: string\n",
    "}\n",
    "let fightRobotArmy = (robots: RobotArmy) => {\n",
    "    console.log(\"FIGHT!!!\", robots.type);\n",
    "}\n",
    "fightRobotArmy({count: 1, type: 'robot', magic: 'froo'});"
   ]
  },
  {
   "cell_type": "markdown",
   "id": "90620502-3f4d-45b7-a726-557115b7eed4",
   "metadata": {},
   "source": [
    "#### Type"
   ]
  },
  {
   "cell_type": "code",
   "execution_count": 13,
   "id": "3d35f559-0654-4d83-b111-3f8299da1eb2",
   "metadata": {
    "tags": []
   },
   "outputs": [
    {
     "name": "stdout",
     "output_type": "stream",
     "text": [
      "\u001b[33m10\u001b[39m\n"
     ]
    }
   ],
   "source": [
    "type MyNumber = number | undefined\n",
    "const idade: MyNumber = 10;\n",
    "console.log(idade)"
   ]
  },
  {
   "cell_type": "markdown",
   "id": "dbc5870f-b11a-4892-8f55-95bdd82acaa8",
   "metadata": {},
   "source": [
    "#### Type Assertion (sobrescreve outro type) evite usar"
   ]
  },
  {
   "cell_type": "code",
   "execution_count": 14,
   "id": "a9c3c7b7-506c-4cdc-af3b-2efe0718d71a",
   "metadata": {
    "tags": []
   },
   "outputs": [
    {
     "name": "stdout",
     "output_type": "stream",
     "text": [
      "FIGHT!!! robot\n"
     ]
    }
   ],
   "source": [
    "interface CatArmy {\n",
    "    count: number,\n",
    "    type: string,\n",
    "    magic?: string // Optional\n",
    "}\n",
    "let cat = {\n",
    "    count: 22,\n",
    "    type: 'cat'\n",
    "} as CatArmy;\n",
    "let fightDogArmy = (robots: CatArmy = cat) => {\n",
    "    console.log(\"FIGHT!!!\", robots.type);\n",
    "}\n",
    "fightDogArmy({count: 1, type: 'robot', magic: 'froo'});"
   ]
  },
  {
   "cell_type": "markdown",
   "id": "6cd90986-d0f1-44b3-9ec1-2ed7b5242f3b",
   "metadata": {},
   "source": [
    "#### Function"
   ]
  },
  {
   "cell_type": "code",
   "execution_count": 15,
   "id": "1ee6cecd-2df2-4727-b53d-564c247754ba",
   "metadata": {
    "tags": []
   },
   "outputs": [
    {
     "name": "stdout",
     "output_type": "stream",
     "text": [
      "\u001b[33m50\u001b[39m\n"
     ]
    }
   ],
   "source": [
    "type Multiply = (x: number, b: number) => number;\n",
    "const multiply: Multiply = (x: number, y: number): number => {\n",
    "    return x * y;\n",
    "}\n",
    "console.log(multiply(10, 5))"
   ]
  },
  {
   "cell_type": "markdown",
   "id": "b8d9ae39-dc33-4c9c-bc39-af68b1d88ced",
   "metadata": {},
   "source": [
    "#### Union"
   ]
  },
  {
   "cell_type": "code",
   "execution_count": 16,
   "id": "952c963e-479b-44f2-aa7c-4fc5e8181408",
   "metadata": {
    "tags": []
   },
   "outputs": [
    {
     "name": "stdout",
     "output_type": "stream",
     "text": [
      "\u001b[33m23\u001b[39m\n"
     ]
    }
   ],
   "source": [
    "let confused: string | number = \"Ola mundo!\";\n",
    "confused = 23;\n",
    "console.log(confused)"
   ]
  }
 ],
 "metadata": {
  "kernelspec": {
   "display_name": "TypeScript",
   "language": "typescript",
   "name": "tslab"
  },
  "language_info": {
   "codemirror_mode": {
    "mode": "typescript",
    "name": "javascript",
    "typescript": true
   },
   "file_extension": ".ts",
   "mimetype": "text/typescript",
   "name": "typescript",
   "version": "3.7.2"
  }
 },
 "nbformat": 4,
 "nbformat_minor": 5
}
